{
 "cells": [
  {
   "cell_type": "code",
   "execution_count": 18,
   "metadata": {},
   "outputs": [
    {
     "data": {
      "text/plain": [
       "'36.21%'"
      ]
     },
     "execution_count": 18,
     "metadata": {},
     "output_type": "execute_result"
    }
   ],
   "source": [
    " \"{:.2f}\".format((total_mn+total_dlls-(cobros_dlls['amount'].sum()+cobros_mn['amount'].sum()) )*100/pedidos.loc[pedidos['customer_id']==clientes['id'].values[i],'total'].sum())+\"%\""
   ]
  },
  {
   "cell_type": "code",
   "execution_count": 5,
   "metadata": {},
   "outputs": [
    {
     "data": {
      "text/html": [
       "<div>\n",
       "<style scoped>\n",
       "    .dataframe tbody tr th:only-of-type {\n",
       "        vertical-align: middle;\n",
       "    }\n",
       "\n",
       "    .dataframe tbody tr th {\n",
       "        vertical-align: top;\n",
       "    }\n",
       "\n",
       "    .dataframe thead th {\n",
       "        text-align: right;\n",
       "    }\n",
       "</style>\n",
       "<table border=\"1\" class=\"dataframe\">\n",
       "  <thead>\n",
       "    <tr style=\"text-align: right;\">\n",
       "      <th></th>\n",
       "      <th>id</th>\n",
       "      <th>invoice</th>\n",
       "      <th>date</th>\n",
       "      <th>customer_id</th>\n",
       "      <th>seller_id</th>\n",
       "      <th>date_delivery</th>\n",
       "      <th>instalation_date</th>\n",
       "      <th>shipment</th>\n",
       "      <th>customer_shipping_address_id</th>\n",
       "      <th>coin_id</th>\n",
       "      <th>...</th>\n",
       "      <th>ret</th>\n",
       "      <th>tasa</th>\n",
       "      <th>description</th>\n",
       "      <th>category</th>\n",
       "      <th>clave</th>\n",
       "      <th>alias</th>\n",
       "      <th>exchange_sell</th>\n",
       "      <th>coin</th>\n",
       "      <th>symbol</th>\n",
       "      <th>code</th>\n",
       "    </tr>\n",
       "  </thead>\n",
       "  <tbody>\n",
       "  </tbody>\n",
       "</table>\n",
       "<p>0 rows × 41 columns</p>\n",
       "</div>"
      ],
      "text/plain": [
       "Empty DataFrame\n",
       "Columns: [id, invoice, date, customer_id, seller_id, date_delivery, instalation_date, shipment, customer_shipping_address_id, coin_id, subtotal, iva, total, payment_conditions, pays, observations, status, authorization_id, created_at, updated_at, comision, reg_date, oc, ncontrato, isr, ieps, descuento, ncotizacion, otra, dgi, noha, ret, tasa, description, category, clave, alias, exchange_sell, coin, symbol, code]\n",
       "Index: []\n",
       "\n",
       "[0 rows x 41 columns]"
      ]
     },
     "execution_count": 5,
     "metadata": {},
     "output_type": "execute_result"
    }
   ],
   "source": [
    "pedidos_dlls"
   ]
  },
  {
   "cell_type": "code",
   "execution_count": 14,
   "metadata": {},
   "outputs": [
    {
     "data": {
      "text/plain": [
       "50.0"
      ]
     },
     "execution_count": 14,
     "metadata": {},
     "output_type": "execute_result"
    }
   ],
   "source": [
    "(this_pedidos['total'].values[k]- this_cobros['amount'].sum())*100/this_pedidos['total'].values[k]"
   ]
  },
  {
   "cell_type": "code",
   "execution_count": null,
   "metadata": {},
   "outputs": [],
   "source": []
  },
  {
   "cell_type": "code",
   "execution_count": null,
   "metadata": {},
   "outputs": [],
   "source": [
    "base = pd.read_excel('Clientes.xls')"
   ]
  },
  {
   "cell_type": "code",
   "execution_count": null,
   "metadata": {},
   "outputs": [
    {
     "data": {
      "text/plain": [
       "Index(['Clave', 'Estatus', 'Nombre', 'R.F.C.', 'Calle', 'Número interior',\n",
       "       'Número exterior', 'Entre calle 1', 'Y calle', 'Colonia',\n",
       "       'Código postal', 'Población', 'Municipio', 'Estado', 'País',\n",
       "       'Nacionalidad', 'Referencia de la dirección', 'Teléfono',\n",
       "       'Clasificación', 'Página web', 'C.U.R.P.', 'Clave de zona',\n",
       "       'Enviar por correo electrónico', 'Mail predeterminado',\n",
       "       'Día de revisión', 'Clave de vendedor', 'Tipo de empresa',\n",
       "       'Régimen fiscal'],\n",
       "      dtype='object')"
      ]
     },
     "execution_count": 35,
     "metadata": {},
     "output_type": "execute_result"
    }
   ],
   "source": [
    "base.columns"
   ]
  },
  {
   "cell_type": "code",
   "execution_count": null,
   "metadata": {},
   "outputs": [
    {
     "data": {
      "text/plain": [
       "Index(['id', 'customer', 'customer_rfc', 'customer_state', 'customer_city',\n",
       "       'customer_suburb', 'customer_street', 'customer_outdoor',\n",
       "       'customer_indoor', 'customer_zip_code', 'customer_email',\n",
       "       'customer_telephone', 'created_at', 'updated_at', 'legal_name', 'alias',\n",
       "       'ncomp', 'clave', 'regimen_fiscal', 'pagina_web', 'curp',\n",
       "       'nacionalidad'],\n",
       "      dtype='object')"
      ]
     },
     "execution_count": 39,
     "metadata": {},
     "output_type": "execute_result"
    }
   ],
   "source": [
    "columnas"
   ]
  },
  {
   "cell_type": "code",
   "execution_count": null,
   "metadata": {},
   "outputs": [
    {
     "name": "stdout",
     "output_type": "stream",
     "text": [
      "Index(['Nombre', 'R.F.C.', 'Estado', 'Municipio', 'Colonia', 'Calle',\n",
      "       'Número exterior', 'Número interior', 'Código postal',\n",
      "       'Mail predeterminado', 'Teléfono', 'Nombre', 'Nombre', 'Clave',\n",
      "       'Régimen fiscal', 'Página web', 'C.U.R.P.', 'Nacionalidad'],\n",
      "      dtype='object')\n"
     ]
    }
   ],
   "source": [
    "base2=base[['Nombre', 'R.F.C.','Estado', \n",
    "       'Municipio', 'Colonia','Calle','Número exterior',  'Número interior',\n",
    "       'Código postal','Mail predeterminado','Teléfono','Nombre','Nombre','Clave','Régimen fiscal',\n",
    "        'Página web','C.U.R.P.','Nacionalidad']].fillna(0)\n",
    "print(base2.columns)"
   ]
  },
  {
   "cell_type": "code",
   "execution_count": null,
   "metadata": {},
   "outputs": [
    {
     "name": "stdout",
     "output_type": "stream",
     "text": [
      "id`,`customer`,`customer_rfc`,`customer_state`,`customer_city`,`customer_suburb`,`customer_street`,`customer_outdoor`,`customer_indoor`,`customer_zip_code`,`customer_email`,`customer_telephone`,`created_at`,`updated_at`,`legal_name`,`alias`,`ncomp\n"
     ]
    }
   ],
   "source": [
    "cols = \"`,`\".join([str(i) for i in columnas.tolist()])\n",
    "print(cols)"
   ]
  },
  {
   "cell_type": "code",
   "execution_count": null,
   "metadata": {},
   "outputs": [
    {
     "data": {
      "text/plain": [
       "100.0"
      ]
     },
     "execution_count": 6,
     "metadata": {},
     "output_type": "execute_result"
    }
   ],
   "source": [
    "116/1.16"
   ]
  },
  {
   "cell_type": "code",
   "execution_count": null,
   "metadata": {},
   "outputs": [],
   "source": [
    "cursor=cnx.cursor(buffered=True)"
   ]
  },
  {
   "cell_type": "code",
   "execution_count": null,
   "metadata": {},
   "outputs": [],
   "source": [
    "cursor.execute('select * from cobros')"
   ]
  },
  {
   "cell_type": "code",
   "execution_count": null,
   "metadata": {},
   "outputs": [],
   "source": [
    "import pandas as pd"
   ]
  },
  {
   "cell_type": "code",
   "execution_count": null,
   "metadata": {},
   "outputs": [
    {
     "name": "stderr",
     "output_type": "stream",
     "text": [
      "c:\\Users\\fgonzalez\\AppData\\Local\\Programs\\Python\\Python310\\lib\\site-packages\\pandas\\io\\sql.py:762: UserWarning: pandas only support SQLAlchemy connectable(engine/connection) ordatabase string URI or sqlite3 DBAPI2 connectionother DBAPI2 objects are not tested, please consider using SQLAlchemy\n",
      "  warnings.warn(\n"
     ]
    }
   ],
   "source": [
    "cobros=pd.read_sql('select * from cobros',cnx)"
   ]
  },
  {
   "cell_type": "code",
   "execution_count": 1,
   "metadata": {},
   "outputs": [],
   "source": [
    "import sys\n",
    "import mysql.connector\n",
    "import xlsxwriter\n",
    "import pandas as pd\n",
    "import sys\n",
    "import mysql.connector\n",
    "import os\n",
    "from dotenv import load_dotenv\n",
    "load_dotenv()\n",
    "#ESTE ARGUMENTO NO SE USA EN ESTE REPORTE, SERÁ 0 SIEMPRE UWU\n",
    "id=str(sys.argv[1])\n",
    "#configurar la conexion a la base de datos\n",
    "DB_USERNAME = os.getenv('DB_USERNAME')\n",
    "DB_DATABASE = os.getenv('DB_DATABASE')\n",
    "DB_PASSWORD = os.getenv('DB_PASSWORD')\n",
    "DB_PORT = os.getenv('DB_PORT')\n",
    "a_color='#354F84'\n",
    "b_color='#91959E'\n",
    "# Conectar a DB\n",
    "cnx = mysql.connector.connect(user=DB_USERNAME,\n",
    "                              password=DB_PASSWORD,\n",
    "                              host='localhost',\n",
    "                              port=DB_PORT,\n",
    "                              database=DB_DATABASE,\n",
    "                              use_pure=False)"
   ]
  },
  {
   "cell_type": "code",
   "execution_count": 3,
   "metadata": {},
   "outputs": [],
   "source": [
    "#migrar tipos de cambio\n",
    "data=pd.read_csv('Datos históricos USD_MXN.csv')"
   ]
  },
  {
   "cell_type": "code",
   "execution_count": 10,
   "metadata": {},
   "outputs": [],
   "source": [
    "data['Fecha'].as_datetime = pd.to_datetime(data['Fecha'], format='%d.%m.%Y')"
   ]
  },
  {
   "cell_type": "code",
   "execution_count": 14,
   "metadata": {},
   "outputs": [
    {
     "data": {
      "text/plain": [
       "0      2025-08-11\n",
       "1      2025-08-10\n",
       "2      2025-08-08\n",
       "3      2025-08-07\n",
       "4      2025-08-06\n",
       "          ...    \n",
       "1454   2020-01-16\n",
       "1455   2020-01-15\n",
       "1456   2020-01-14\n",
       "1457   2020-01-13\n",
       "1458   2020-01-10\n",
       "Name: Fecha, Length: 1459, dtype: datetime64[ns]"
      ]
     },
     "execution_count": 14,
     "metadata": {},
     "output_type": "execute_result"
    }
   ],
   "source": [
    "data['Fecha']"
   ]
  },
  {
   "cell_type": "code",
   "execution_count": 4,
   "metadata": {},
   "outputs": [
    {
     "data": {
      "text/plain": [
       "Index(['Fecha', 'Cierre', 'Apertura', 'Máximo', 'Mínimo', 'Vol.', '% var.'], dtype='object')"
      ]
     },
     "execution_count": 4,
     "metadata": {},
     "output_type": "execute_result"
    }
   ],
   "source": [
    "data.columns"
   ]
  },
  {
   "cell_type": "code",
   "execution_count": 19,
   "metadata": {},
   "outputs": [],
   "source": [
    "for i in range(len(data)):\n",
    "    query=f\"\"\"insert into historic_exchanges(date,cierre,apertura,max,min) \n",
    "    values('{data['Fecha'].values[i]}',{data['Cierre'].values[i]},{data['Apertura'].values[i]},\n",
    "    {data['Máximo'].values[i]},{data['Mínimo'].values[i]})\"\"\" \n",
    "    cursor.execute(query)"
   ]
  },
  {
   "cell_type": "code",
   "execution_count": 20,
   "metadata": {},
   "outputs": [],
   "source": [
    "cnx.commit()"
   ]
  },
  {
   "cell_type": "code",
   "execution_count": 2,
   "metadata": {},
   "outputs": [],
   "source": [
    "cursor=cnx.cursor(buffered=True)"
   ]
  },
  {
   "cell_type": "code",
   "execution_count": 24,
   "metadata": {},
   "outputs": [
    {
     "name": "stdout",
     "output_type": "stream",
     "text": [
      "\n",
      "UPDATE `internal_orders` SET `tc` = 18.9200 WHERE date >='2025-08-06';\n",
      "\n",
      "UPDATE `cobros` SET `tc` = 18.9200 WHERE date >='2025-08-06';\n",
      "\n",
      "UPDATE `credit_notes` SET `tc` = 18.9200 WHERE date >='2025-08-06';\n",
      "\n",
      "UPDATE `factures` SET `tc` = 18.9200 WHERE date >='2025-08-06';\n"
     ]
    }
   ],
   "source": [
    "for table in ['internal_orders','cobros','credit_notes','factures']:\n",
    "    print(f\"\"\"\n",
    "UPDATE `{table}` SET `tc` = 18.9200 WHERE date >='2025-08-06';\"\"\")"
   ]
  },
  {
   "cell_type": "code",
   "execution_count": 8,
   "metadata": {},
   "outputs": [],
   "source": [
    "productos=['Rack Selectivo',\n",
    "'Estanteria',\n",
    "'Pasarela',\n",
    "'Drive In Drive Thru',\n",
    "'Rack Push Back',\n",
    "'Rack Dinamico',\n",
    "'Carton Flow',\n",
    "'Mini Rack',\n",
    "'Cantilever',\n",
    "'Mezanines',\n",
    "'Convertidores',\n",
    "'Transportadores',\n",
    "'Conveyors',\n",
    "'Minidocks',\n",
    "'Rampas Mecanicas',\n",
    "'Rampas Hidraulicas',\n",
    "'Patines',\n",
    "'Patines Electricos',\n",
    "'Apiladores Manuales',\n",
    "'Apiladores Semi - Electricos',\n",
    "'Apiladores Electricos',\n",
    "'Montacargas',\n",
    "'Puertas',\n",
    "'Cortinas',\n",
    "'Gancho Retenedor',\n",
    "'Sellos',\n",
    "'Servicios',\n",
    "'Otros',]\n"
   ]
  },
  {
   "cell_type": "code",
   "execution_count": 9,
   "metadata": {},
   "outputs": [],
   "source": [
    "cursor=cnx.cursor(buffered=True)"
   ]
  },
  {
   "cell_type": "code",
   "execution_count": 11,
   "metadata": {},
   "outputs": [],
   "source": [
    "for i in productos:\n",
    "    query=\"insert into report_products(name) values('\"+i+\"')\"\n",
    "    cursor.execute(query)"
   ]
  },
  {
   "cell_type": "code",
   "execution_count": null,
   "metadata": {},
   "outputs": [
    {
     "name": "stdout",
     "output_type": "stream",
     "text": [
      "0\n",
      "1\n",
      "2\n"
     ]
    }
   ],
   "source": [
    "cobros=cobros.fillna(0)\n",
    "for i in range(0,len(cobros)):\n",
    "    if(cobros['facture_id'].values[i]!=0):\n",
    "        print(i)\n",
    "        cursor.execute('insert into cobro_factures(cobro_id,facture_id) values('+str(cobros['id'].values[i])+','+str(cobros['facture_id'].values[i])+')')"
   ]
  },
  {
   "cell_type": "code",
   "execution_count": null,
   "metadata": {},
   "outputs": [
    {
     "data": {
      "text/plain": [
       "4"
      ]
     },
     "execution_count": 10,
     "metadata": {},
     "output_type": "execute_result"
    }
   ],
   "source": [
    "len(cobros)"
   ]
  },
  {
   "cell_type": "code",
   "execution_count": 12,
   "metadata": {},
   "outputs": [],
   "source": [
    "cnx.commit()"
   ]
  },
  {
   "cell_type": "code",
   "execution_count": null,
   "metadata": {},
   "outputs": [
    {
     "name": "stdout",
     "output_type": "stream",
     "text": [
      "Empty DataFrame\n",
      "Columns: [id, customer_id, facture_id, amount, date, created_at, updated_at, status, credit_note, coin_id, order_id, id, invoice, date, customer_id, seller_id, date_delivery, instalation_date, shipment, customer_shipping_address_id, coin_id, subtotal, iva, total, payment_conditions, pays, observations, status, authorization_id, created_at, updated_at, comision, reg_date, oc, ncontrato, isr, ieps, descuento, ncotizacion, otra, dgi, noha, ret, tasa, description, category, id, coin, symbol, code, exchange_rate, date_application, created_at, updated_at, exchange_buy, exchange_sell]\n",
      "Index: []\n",
      "\n",
      "[0 rows x 56 columns]\n"
     ]
    },
    {
     "name": "stderr",
     "output_type": "stream",
     "text": [
      "C:\\Users\\hp\\AppData\\Local\\Temp\\ipykernel_19540\\3827783321.py:34: UserWarning: pandas only supports SQLAlchemy connectable (engine/connection) or database string URI or sqlite3 DBAPI2 connection. Other DBAPI2 objects are not tested. Please consider using SQLAlchemy.\n",
      "  pedidos=pd.read_sql(\"\"\"Select internal_orders.* ,customers.clave,customers.alias,\n",
      "C:\\Users\\hp\\AppData\\Local\\Temp\\ipykernel_19540\\3827783321.py:41: UserWarning: pandas only supports SQLAlchemy connectable (engine/connection) or database string URI or sqlite3 DBAPI2 connection. Other DBAPI2 objects are not tested. Please consider using SQLAlchemy.\n",
      "  cobros=pd.read_sql(\"\"\"select cobro_orders.*\n",
      "C:\\Users\\hp\\AppData\\Local\\Temp\\ipykernel_19540\\3827783321.py:47: UserWarning: pandas only supports SQLAlchemy connectable (engine/connection) or database string URI or sqlite3 DBAPI2 connection. Other DBAPI2 objects are not tested. Please consider using SQLAlchemy.\n",
      "  facturas=pd.read_sql(\"\"\"select *\n",
      "C:\\Users\\hp\\AppData\\Local\\Temp\\ipykernel_19540\\3827783321.py:52: UserWarning: pandas only supports SQLAlchemy connectable (engine/connection) or database string URI or sqlite3 DBAPI2 connection. Other DBAPI2 objects are not tested. Please consider using SQLAlchemy.\n",
      "  creditos=pd.read_sql(\"\"\"select *\n"
     ]
    }
   ],
   "source": [
    "import sys\n",
    "import mysql.connector\n",
    "import xlsxwriter\n",
    "import pandas as pd\n",
    "import sys\n",
    "import mysql.connector\n",
    "import os\n",
    "from dotenv import load_dotenv\n",
    "load_dotenv()\n",
    "#ESTE ARGUMENTO NO SE USA EN ESTE REPORTE, SERÁ 0 SIEMPRE UWU\n",
    "id=str(sys.argv[1])\n",
    "#configurar la conexion a la base de datos\n",
    "DB_USERNAME = os.getenv('DB_USERNAME')\n",
    "DB_DATABASE = os.getenv('DB_DATABASE')\n",
    "DB_PASSWORD = os.getenv('DB_PASSWORD')\n",
    "DB_PORT = os.getenv('DB_PORT')\n",
    "a_color='#354F84'\n",
    "b_color='#91959E'\n",
    "# Conectar a DB\n",
    "cnx = mysql.connector.connect(user=DB_USERNAME,\n",
    "                              password=DB_PASSWORD,\n",
    "                              host='localhost',\n",
    "                              port=DB_PORT,\n",
    "                              database=DB_DATABASE,\n",
    "                              use_pure=False)\n",
    "#Seccion para traer informacion de la base\n",
    "query = ('SELECT * from customers where id = 1')\n",
    "\n",
    "# join para cobros\n",
    "# cobros=pd.read_sql('Select cobros.* ,customers.customer,internal_orders.invoice, users.name from ((cobros inner join internal_orders on internal_orders.id = cobros.order_id) inner join customers on customers.id = internal_orders.customer_id )inner join users on cobros.capturo=users.id',cnx)\n",
    "\n",
    "\n",
    "#traer datos de los pedidos\n",
    "pedidos=pd.read_sql(\"\"\"Select internal_orders.* ,customers.clave,customers.alias,\n",
    "coins.exchange_sell, coins.coin, coins.symbol\n",
    "from ((\n",
    "    internal_orders\n",
    "    inner join customers on customers.id = internal_orders.customer_id )\n",
    "    inner join coins on internal_orders.coin_id = coins.id)\n",
    "     \"\"\",cnx)\n",
    "cobros=pd.read_sql(\"\"\"select cobro_orders.*\n",
    "                     from (((\n",
    "                         cobro_orders \n",
    "    inner join cobros on cobros.id=cobro_orders.cobro_id)\n",
    "    inner join internal_orders on internal_orders.id = cobros.order_id )\n",
    "    inner join coins on internal_orders.coin_id = coins.id) \"\"\",cnx)\n",
    "facturas=pd.read_sql(\"\"\"select * \n",
    "                     from ((\n",
    "                         factures\n",
    "    inner join internal_orders on internal_orders.id = factures.order_id )\n",
    "    inner join coins on internal_orders.coin_id = coins.id) \"\"\",cnx)\n",
    "creditos=pd.read_sql(\"\"\"select * \n",
    "                     from ((\n",
    "                         credit_notes    inner join internal_orders on internal_orders.id = credit_notes.order_id )\n",
    "    inner join coins on internal_orders.coin_id = coins.id) \"\"\",cnx)\n",
    "print(creditos)"
   ]
  },
  {
   "cell_type": "code",
   "execution_count": null,
   "metadata": {},
   "outputs": [
    {
     "data": {
      "text/html": [
       "<div>\n",
       "<style scoped>\n",
       "    .dataframe tbody tr th:only-of-type {\n",
       "        vertical-align: middle;\n",
       "    }\n",
       "\n",
       "    .dataframe tbody tr th {\n",
       "        vertical-align: top;\n",
       "    }\n",
       "\n",
       "    .dataframe thead th {\n",
       "        text-align: right;\n",
       "    }\n",
       "</style>\n",
       "<table border=\"1\" class=\"dataframe\">\n",
       "  <thead>\n",
       "    <tr style=\"text-align: right;\">\n",
       "      <th></th>\n",
       "      <th>id</th>\n",
       "      <th>order_id</th>\n",
       "      <th>ordinal</th>\n",
       "      <th>facture</th>\n",
       "      <th>amount</th>\n",
       "      <th>status</th>\n",
       "      <th>npagos</th>\n",
       "      <th>created_at</th>\n",
       "      <th>updated_at</th>\n",
       "      <th>date</th>\n",
       "      <th>...</th>\n",
       "      <th>id</th>\n",
       "      <th>coin</th>\n",
       "      <th>symbol</th>\n",
       "      <th>code</th>\n",
       "      <th>exchange_rate</th>\n",
       "      <th>date_application</th>\n",
       "      <th>created_at</th>\n",
       "      <th>updated_at</th>\n",
       "      <th>exchange_buy</th>\n",
       "      <th>exchange_sell</th>\n",
       "    </tr>\n",
       "  </thead>\n",
       "  <tbody>\n",
       "  </tbody>\n",
       "</table>\n",
       "<p>0 rows × 57 columns</p>\n",
       "</div>"
      ],
      "text/plain": [
       "Empty DataFrame\n",
       "Columns: [id, order_id, ordinal, facture, amount, status, npagos, created_at, updated_at, date, coin_id, tc, id, invoice, date, customer_id, seller_id, date_delivery, instalation_date, shipment, customer_shipping_address_id, coin_id, subtotal, iva, total, payment_conditions, pays, observations, status, authorization_id, created_at, updated_at, comision, reg_date, oc, ncontrato, isr, ieps, descuento, ncotizacion, otra, dgi, noha, ret, tasa, description, category, id, coin, symbol, code, exchange_rate, date_application, created_at, updated_at, exchange_buy, exchange_sell]\n",
       "Index: []\n",
       "\n",
       "[0 rows x 57 columns]"
      ]
     },
     "execution_count": 3,
     "metadata": {},
     "output_type": "execute_result"
    }
   ],
   "source": [
    "facturas.loc[facturas['order_id']==229]"
   ]
  },
  {
   "cell_type": "code",
   "execution_count": 13,
   "metadata": {},
   "outputs": [
    {
     "data": {
      "text/plain": [
       "41.666666666666664"
      ]
     },
     "execution_count": 13,
     "metadata": {},
     "output_type": "execute_result"
    }
   ],
   "source": [
    "500/12"
   ]
  },
  {
   "cell_type": "code",
   "execution_count": 5,
   "metadata": {},
   "outputs": [
    {
     "name": "stderr",
     "output_type": "stream",
     "text": [
      "C:\\Users\\hp\\AppData\\Local\\Temp\\ipykernel_20236\\3652135030.py:35: UserWarning: pandas only supports SQLAlchemy connectable (engine/connection) or database string URI or sqlite3 DBAPI2 connection. Other DBAPI2 objects are not tested. Please consider using SQLAlchemy.\n",
      "  pedidos=pd.read_sql(\"\"\"Select internal_orders.* ,customers.clave,customers.alias,\n",
      "C:\\Users\\hp\\AppData\\Local\\Temp\\ipykernel_20236\\3652135030.py:42: UserWarning: pandas only supports SQLAlchemy connectable (engine/connection) or database string URI or sqlite3 DBAPI2 connection. Other DBAPI2 objects are not tested. Please consider using SQLAlchemy.\n",
      "  clientes=pd.read_sql(\"select * from customers\",cnx)\n",
      "C:\\Users\\hp\\AppData\\Local\\Temp\\ipykernel_20236\\3652135030.py:43: UserWarning: pandas only supports SQLAlchemy connectable (engine/connection) or database string URI or sqlite3 DBAPI2 connection. Other DBAPI2 objects are not tested. Please consider using SQLAlchemy.\n",
      "  cobros=pd.read_sql(\"\"\"select cobros.*,internal_orders.coin_id as coin_pedido,internal_orders.customer_id\n",
      "C:\\Users\\hp\\AppData\\Local\\Temp\\ipykernel_20236\\3652135030.py:47: UserWarning: pandas only supports SQLAlchemy connectable (engine/connection) or database string URI or sqlite3 DBAPI2 connection. Other DBAPI2 objects are not tested. Please consider using SQLAlchemy.\n",
      "  facturas=pd.read_sql(\"\"\"select factures.*,internal_orders.coin_id as coin_pedido,internal_orders.customer_id\n",
      "C:\\Users\\hp\\AppData\\Local\\Temp\\ipykernel_20236\\3652135030.py:51: UserWarning: pandas only supports SQLAlchemy connectable (engine/connection) or database string URI or sqlite3 DBAPI2 connection. Other DBAPI2 objects are not tested. Please consider using SQLAlchemy.\n",
      "  creditos=pd.read_sql(\"\"\"select credit_notes.*,internal_orders.coin_id as coin_pedido,internal_orders.customer_id as customer_pedido\n",
      "C:\\Users\\hp\\AppData\\Local\\Temp\\ipykernel_20236\\3652135030.py:58: UserWarning: pandas only supports SQLAlchemy connectable (engine/connection) or database string URI or sqlite3 DBAPI2 connection. Other DBAPI2 objects are not tested. Please consider using SQLAlchemy.\n",
      "  tc=pd.read_sql('select * from coins where id=2 ',cnx)['exchange_sell'].values[0]\n"
     ]
    },
    {
     "name": "stdout",
     "output_type": "stream",
     "text": [
      "   id  customer_id facture_id     amount        date  created_at  updated_at  \\\n",
      "0   5          506       None  329200.00  2022-07-20  2023-05-02  2023-05-02   \n",
      "1   6          394       None   49794.16  2023-05-31  2023-06-02  2023-06-02   \n",
      "2   7          389       None  136870.00  2022-11-01  2023-06-07  2023-06-07   \n",
      "3   8          407       None  202636.54  2023-05-09  2023-06-07  2023-06-07   \n",
      "4   9          315       None  940070.84  2023-05-23  2023-06-12  2023-06-12   \n",
      "5  10          312       None  464058.00  2023-02-17  2023-06-13  2023-06-13   \n",
      "6  12          610       None  435598.56  2023-06-09  2023-06-23  2023-06-23   \n",
      "7  14          601       None  903060.00  2023-07-08  2023-07-12  2023-07-12   \n",
      "\n",
      "      status credit_note  order_id  coin_pedido  customer_pedido  \n",
      "0  CAPTURADA      NC 309       116            1              506  \n",
      "1  CAPTURADA      NC 357       206            1              394  \n",
      "2  CAPTURADA      NC 320       135            1              389  \n",
      "3  CAPTURADA      NC 352       136            1              407  \n",
      "4  CAPTURADA      NC 356       156            1              315  \n",
      "5  CAPTURADA      NC 340       143            1              312  \n",
      "6  CAPTURADA         358       199            1              610  \n",
      "7  CAPTURADA      NC 364       179            1              601  \n",
      "   id  customer_id facture_id     amount        date  created_at  updated_at  \\\n",
      "0   5          506       None  329200.00  2022-07-20  2023-05-02  2023-05-02   \n",
      "1   6          394       None   49794.16  2023-05-31  2023-06-02  2023-06-02   \n",
      "2   7          389       None  136870.00  2022-11-01  2023-06-07  2023-06-07   \n",
      "3   8          407       None  202636.54  2023-05-09  2023-06-07  2023-06-07   \n",
      "4   9          315       None  940070.84  2023-05-23  2023-06-12  2023-06-12   \n",
      "5  10          312       None  464058.00  2023-02-17  2023-06-13  2023-06-13   \n",
      "6  12          610       None  435598.56  2023-06-09  2023-06-23  2023-06-23   \n",
      "7  14          601       None  903060.00  2023-07-08  2023-07-12  2023-07-12   \n",
      "\n",
      "      status credit_note  order_id  coin_pedido  customer_pedido  \n",
      "0  CAPTURADA      NC 309       116            1              506  \n",
      "1  CAPTURADA      NC 357       206            1              394  \n",
      "2  CAPTURADA      NC 320       135            1              389  \n",
      "3  CAPTURADA      NC 352       136            1              407  \n",
      "4  CAPTURADA      NC 356       156            1              315  \n",
      "5  CAPTURADA      NC 340       143            1              312  \n",
      "6  CAPTURADA         358       199            1              610  \n",
      "7  CAPTURADA      NC 364       179            1              601  \n",
      "0 esa no\n",
      "1 esa no\n",
      "2 esa no\n",
      "3 esa no\n",
      "4 esa no\n",
      "5 esa no\n",
      "6 esa no\n",
      "7 esa no\n",
      "8 esa no\n",
      "9 esa no\n",
      "10 esa no\n",
      "11 esa no\n",
      "12 esa no\n",
      "13 esa no\n",
      "14 esa no\n",
      "15 esa no\n",
      "15esta si\n",
      "!!!!!!!!!!!!!!!!!!!!!!!!!!!!\n",
      "Index(['id', 'order_id', 'bank_id', 'coin_id', 'facture_id', 'tc', 'amount',\n",
      "       'comp', 'date', 'created_at', 'updated_at', 'capturo', 'reviso',\n",
      "       'autorizo', 'coin_pedido', 'customer_id'],\n",
      "      dtype='object')\n",
      "16 esa no\n",
      "17 esa no\n",
      "18 esa no\n",
      "18esta si\n",
      "!!!!!!!!!!!!!!!!!!!!!!!!!!!!\n",
      "Index(['id', 'order_id', 'bank_id', 'coin_id', 'facture_id', 'tc', 'amount',\n",
      "       'comp', 'date', 'created_at', 'updated_at', 'capturo', 'reviso',\n",
      "       'autorizo', 'coin_pedido', 'customer_id'],\n",
      "      dtype='object')\n",
      "19 esa no\n",
      "20 esa no\n",
      "21 esa no\n",
      "22 esa no\n",
      "23 esa no\n",
      "24 esa no\n",
      "25 esa no\n",
      "26 esa no\n",
      "26esta si\n",
      "!!!!!!!!!!!!!!!!!!!!!!!!!!!!\n",
      "Index(['id', 'order_id', 'bank_id', 'coin_id', 'facture_id', 'tc', 'amount',\n",
      "       'comp', 'date', 'created_at', 'updated_at', 'capturo', 'reviso',\n",
      "       'autorizo', 'coin_pedido', 'customer_id'],\n",
      "      dtype='object')\n",
      "27 esa no\n",
      "28 esa no\n",
      "29 esa no\n",
      "30 esa no\n",
      "31 esa no\n",
      "32 esa no\n",
      "33 esa no\n",
      "34 esa no\n",
      "35 esa no\n",
      "35esta si\n",
      "!!!!!!!!!!!!!!!!!!!!!!!!!!!!\n",
      "Index(['id', 'order_id', 'bank_id', 'coin_id', 'facture_id', 'tc', 'amount',\n",
      "       'comp', 'date', 'created_at', 'updated_at', 'capturo', 'reviso',\n",
      "       'autorizo', 'coin_pedido', 'customer_id'],\n",
      "      dtype='object')\n",
      "36 esa no\n",
      "37 esa no\n",
      "38 esa no\n",
      "39 esa no\n",
      "40 esa no\n",
      "40esta si\n",
      "!!!!!!!!!!!!!!!!!!!!!!!!!!!!\n",
      "Index(['id', 'order_id', 'bank_id', 'coin_id', 'facture_id', 'tc', 'amount',\n",
      "       'comp', 'date', 'created_at', 'updated_at', 'capturo', 'reviso',\n",
      "       'autorizo', 'coin_pedido', 'customer_id'],\n",
      "      dtype='object')\n",
      "41 esa no\n",
      "41esta si\n",
      "!!!!!!!!!!!!!!!!!!!!!!!!!!!!\n",
      "Index(['id', 'order_id', 'bank_id', 'coin_id', 'facture_id', 'tc', 'amount',\n",
      "       'comp', 'date', 'created_at', 'updated_at', 'capturo', 'reviso',\n",
      "       'autorizo', 'coin_pedido', 'customer_id'],\n",
      "      dtype='object')\n",
      "42 esa no\n",
      "43 esa no\n",
      "44 esa no\n",
      "45 esa no\n",
      "46 esa no\n",
      "46esta si\n",
      "!!!!!!!!!!!!!!!!!!!!!!!!!!!!\n",
      "Index(['id', 'order_id', 'bank_id', 'coin_id', 'facture_id', 'tc', 'amount',\n",
      "       'comp', 'date', 'created_at', 'updated_at', 'capturo', 'reviso',\n",
      "       'autorizo', 'coin_pedido', 'customer_id'],\n",
      "      dtype='object')\n",
      "47 esa no\n",
      "48 esa no\n",
      "49 esa no\n",
      "50 esa no\n",
      "51 esa no\n",
      "51esta si\n",
      "!!!!!!!!!!!!!!!!!!!!!!!!!!!!\n",
      "Index(['id', 'order_id', 'bank_id', 'coin_id', 'facture_id', 'tc', 'amount',\n",
      "       'comp', 'date', 'created_at', 'updated_at', 'capturo', 'reviso',\n",
      "       'autorizo', 'coin_pedido', 'customer_id'],\n",
      "      dtype='object')\n",
      "52 esa no\n",
      "53 esa no\n",
      "54 esa no\n",
      "55 esa no\n",
      "56 esa no\n",
      "57 esa no\n",
      "58 esa no\n",
      "59 esa no\n",
      "60 esa no\n",
      "61 esa no\n",
      "62 esa no\n",
      "63 esa no\n",
      "64 esa no\n",
      "65 esa no\n",
      "66 esa no\n",
      "67 esa no\n",
      "68 esa no\n",
      "69 esa no\n",
      "70 esa no\n",
      "71 esa no\n",
      "72 esa no\n",
      "72esta si\n",
      "!!!!!!!!!!!!!!!!!!!!!!!!!!!!\n",
      "Index(['id', 'order_id', 'bank_id', 'coin_id', 'facture_id', 'tc', 'amount',\n",
      "       'comp', 'date', 'created_at', 'updated_at', 'capturo', 'reviso',\n",
      "       'autorizo', 'coin_pedido', 'customer_id'],\n",
      "      dtype='object')\n",
      "73 esa no\n",
      "74 esa no\n",
      "75 esa no\n",
      "76 esa no\n",
      "77 esa no\n",
      "78 esa no\n",
      "79 esa no\n",
      "80 esa no\n",
      "81 esa no\n",
      "82 esa no\n",
      "83 esa no\n",
      "84 esa no\n",
      "85 esa no\n",
      "86 esa no\n",
      "87 esa no\n",
      "87esta si\n",
      "!!!!!!!!!!!!!!!!!!!!!!!!!!!!\n",
      "Index(['id', 'order_id', 'bank_id', 'coin_id', 'facture_id', 'tc', 'amount',\n",
      "       'comp', 'date', 'created_at', 'updated_at', 'capturo', 'reviso',\n",
      "       'autorizo', 'coin_pedido', 'customer_id'],\n",
      "      dtype='object')\n",
      "88 esa no\n",
      "89 esa no\n",
      "89esta si\n",
      "!!!!!!!!!!!!!!!!!!!!!!!!!!!!\n",
      "Index(['id', 'order_id', 'bank_id', 'coin_id', 'facture_id', 'tc', 'amount',\n",
      "       'comp', 'date', 'created_at', 'updated_at', 'capturo', 'reviso',\n",
      "       'autorizo', 'coin_pedido', 'customer_id'],\n",
      "      dtype='object')\n",
      "90 esa no\n",
      "91 esa no\n",
      "91esta si\n",
      "!!!!!!!!!!!!!!!!!!!!!!!!!!!!\n",
      "Index(['id', 'order_id', 'bank_id', 'coin_id', 'facture_id', 'tc', 'amount',\n",
      "       'comp', 'date', 'created_at', 'updated_at', 'capturo', 'reviso',\n",
      "       'autorizo', 'coin_pedido', 'customer_id'],\n",
      "      dtype='object')\n",
      "92 esa no\n",
      "93 esa no\n",
      "94 esa no\n",
      "95 esa no\n",
      "96 esa no\n",
      "96esta si\n",
      "!!!!!!!!!!!!!!!!!!!!!!!!!!!!\n",
      "Index(['id', 'order_id', 'bank_id', 'coin_id', 'facture_id', 'tc', 'amount',\n",
      "       'comp', 'date', 'created_at', 'updated_at', 'capturo', 'reviso',\n",
      "       'autorizo', 'coin_pedido', 'customer_id'],\n",
      "      dtype='object')\n",
      "97 esa no\n",
      "97esta si\n",
      "!!!!!!!!!!!!!!!!!!!!!!!!!!!!\n",
      "Index(['id', 'order_id', 'bank_id', 'coin_id', 'facture_id', 'tc', 'amount',\n",
      "       'comp', 'date', 'created_at', 'updated_at', 'capturo', 'reviso',\n",
      "       'autorizo', 'coin_pedido', 'customer_id'],\n",
      "      dtype='object')\n",
      "98 esa no\n",
      "98esta si\n",
      "!!!!!!!!!!!!!!!!!!!!!!!!!!!!\n",
      "Index(['id', 'order_id', 'bank_id', 'coin_id', 'facture_id', 'tc', 'amount',\n",
      "       'comp', 'date', 'created_at', 'updated_at', 'capturo', 'reviso',\n",
      "       'autorizo', 'coin_pedido', 'customer_id'],\n",
      "      dtype='object')\n",
      "99 esa no\n",
      "100 esa no\n",
      "100esta si\n",
      "!!!!!!!!!!!!!!!!!!!!!!!!!!!!\n",
      "Index(['id', 'order_id', 'bank_id', 'coin_id', 'facture_id', 'tc', 'amount',\n",
      "       'comp', 'date', 'created_at', 'updated_at', 'capturo', 'reviso',\n",
      "       'autorizo', 'coin_pedido', 'customer_id'],\n",
      "      dtype='object')\n",
      "101 esa no\n",
      "102 esa no\n",
      "103 esa no\n",
      "104 esa no\n",
      "105 esa no\n",
      "106 esa no\n",
      "107 esa no\n",
      "108 esa no\n",
      "109 esa no\n",
      "109esta si\n",
      "!!!!!!!!!!!!!!!!!!!!!!!!!!!!\n",
      "Index(['id', 'order_id', 'bank_id', 'coin_id', 'facture_id', 'tc', 'amount',\n",
      "       'comp', 'date', 'created_at', 'updated_at', 'capturo', 'reviso',\n",
      "       'autorizo', 'coin_pedido', 'customer_id'],\n",
      "      dtype='object')\n",
      "110 esa no\n",
      "110esta si\n",
      "!!!!!!!!!!!!!!!!!!!!!!!!!!!!\n",
      "Index(['id', 'order_id', 'bank_id', 'coin_id', 'facture_id', 'tc', 'amount',\n",
      "       'comp', 'date', 'created_at', 'updated_at', 'capturo', 'reviso',\n",
      "       'autorizo', 'coin_pedido', 'customer_id'],\n",
      "      dtype='object')\n",
      "111 esa no\n",
      "112 esa no\n",
      "113 esa no\n",
      "114 esa no\n",
      "115 esa no\n",
      "116 esa no\n",
      "116esta si\n",
      "!!!!!!!!!!!!!!!!!!!!!!!!!!!!\n",
      "Index(['id', 'order_id', 'bank_id', 'coin_id', 'facture_id', 'tc', 'amount',\n",
      "       'comp', 'date', 'created_at', 'updated_at', 'capturo', 'reviso',\n",
      "       'autorizo', 'coin_pedido', 'customer_id'],\n",
      "      dtype='object')\n",
      "117 esa no\n",
      "117esta si\n",
      "!!!!!!!!!!!!!!!!!!!!!!!!!!!!\n",
      "Index(['id', 'order_id', 'bank_id', 'coin_id', 'facture_id', 'tc', 'amount',\n",
      "       'comp', 'date', 'created_at', 'updated_at', 'capturo', 'reviso',\n",
      "       'autorizo', 'coin_pedido', 'customer_id'],\n",
      "      dtype='object')\n",
      "118 esa no\n",
      "119 esa no\n",
      "120 esa no\n",
      "120esta si\n",
      "!!!!!!!!!!!!!!!!!!!!!!!!!!!!\n",
      "Index(['id', 'order_id', 'bank_id', 'coin_id', 'facture_id', 'tc', 'amount',\n",
      "       'comp', 'date', 'created_at', 'updated_at', 'capturo', 'reviso',\n",
      "       'autorizo', 'coin_pedido', 'customer_id'],\n",
      "      dtype='object')\n",
      "121 esa no\n",
      "122 esa no\n",
      "123 esa no\n",
      "124 esa no\n",
      "125 esa no\n",
      "126 esa no\n",
      "126esta si\n",
      "!!!!!!!!!!!!!!!!!!!!!!!!!!!!\n",
      "Index(['id', 'order_id', 'bank_id', 'coin_id', 'facture_id', 'tc', 'amount',\n",
      "       'comp', 'date', 'created_at', 'updated_at', 'capturo', 'reviso',\n",
      "       'autorizo', 'coin_pedido', 'customer_id'],\n",
      "      dtype='object')\n",
      "127 esa no\n",
      "128 esa no\n",
      "129 esa no\n",
      "130 esa no\n",
      "131 esa no\n",
      "132 esa no\n",
      "133 esa no\n",
      "134 esa no\n",
      "135 esa no\n",
      "136 esa no\n",
      "137 esa no\n",
      "138 esa no\n",
      "139 esa no\n",
      "140 esa no\n",
      "141 esa no\n",
      "141esta si\n",
      "!!!!!!!!!!!!!!!!!!!!!!!!!!!!\n",
      "Index(['id', 'order_id', 'bank_id', 'coin_id', 'facture_id', 'tc', 'amount',\n",
      "       'comp', 'date', 'created_at', 'updated_at', 'capturo', 'reviso',\n",
      "       'autorizo', 'coin_pedido', 'customer_id'],\n",
      "      dtype='object')\n",
      "142 esa no\n",
      "143 esa no\n",
      "144 esa no\n",
      "145 esa no\n",
      "145esta si\n",
      "!!!!!!!!!!!!!!!!!!!!!!!!!!!!\n",
      "Index(['id', 'order_id', 'bank_id', 'coin_id', 'facture_id', 'tc', 'amount',\n",
      "       'comp', 'date', 'created_at', 'updated_at', 'capturo', 'reviso',\n",
      "       'autorizo', 'coin_pedido', 'customer_id'],\n",
      "      dtype='object')\n",
      "146 esa no\n",
      "147 esa no\n",
      "147esta si\n",
      "!!!!!!!!!!!!!!!!!!!!!!!!!!!!\n",
      "Index(['id', 'order_id', 'bank_id', 'coin_id', 'facture_id', 'tc', 'amount',\n",
      "       'comp', 'date', 'created_at', 'updated_at', 'capturo', 'reviso',\n",
      "       'autorizo', 'coin_pedido', 'customer_id'],\n",
      "      dtype='object')\n",
      "148 esa no\n",
      "149 esa no\n",
      "149esta si\n",
      "!!!!!!!!!!!!!!!!!!!!!!!!!!!!\n",
      "Index(['id', 'order_id', 'bank_id', 'coin_id', 'facture_id', 'tc', 'amount',\n",
      "       'comp', 'date', 'created_at', 'updated_at', 'capturo', 'reviso',\n",
      "       'autorizo', 'coin_pedido', 'customer_id'],\n",
      "      dtype='object')\n",
      "150 esa no\n",
      "151 esa no\n",
      "152 esa no\n",
      "153 esa no\n",
      "154 esa no\n",
      "155 esa no\n",
      "156 esa no\n",
      "156esta si\n",
      "!!!!!!!!!!!!!!!!!!!!!!!!!!!!\n",
      "Index(['id', 'order_id', 'bank_id', 'coin_id', 'facture_id', 'tc', 'amount',\n",
      "       'comp', 'date', 'created_at', 'updated_at', 'capturo', 'reviso',\n",
      "       'autorizo', 'coin_pedido', 'customer_id'],\n",
      "      dtype='object')\n",
      "157 esa no\n",
      "158 esa no\n",
      "159 esa no\n",
      "160 esa no\n",
      "161 esa no\n",
      "162 esa no\n",
      "163 esa no\n",
      "164 esa no\n",
      "165 esa no\n",
      "166 esa no\n",
      "167 esa no\n",
      "168 esa no\n",
      "169 esa no\n",
      "170 esa no\n",
      "171 esa no\n",
      "172 esa no\n",
      "173 esa no\n",
      "174 esa no\n",
      "175 esa no\n",
      "176 esa no\n",
      "177 esa no\n",
      "178 esa no\n",
      "179 esa no\n",
      "180 esa no\n",
      "181 esa no\n",
      "181esta si\n",
      "!!!!!!!!!!!!!!!!!!!!!!!!!!!!\n",
      "Index(['id', 'order_id', 'bank_id', 'coin_id', 'facture_id', 'tc', 'amount',\n",
      "       'comp', 'date', 'created_at', 'updated_at', 'capturo', 'reviso',\n",
      "       'autorizo', 'coin_pedido', 'customer_id'],\n",
      "      dtype='object')\n",
      "182 esa no\n",
      "183 esa no\n",
      "184 esa no\n",
      "185 esa no\n",
      "186 esa no\n",
      "187 esa no\n",
      "188 esa no\n",
      "189 esa no\n",
      "190 esa no\n",
      "191 esa no\n",
      "192 esa no\n",
      "193 esa no\n",
      "194 esa no\n",
      "195 esa no\n",
      "196 esa no\n",
      "197 esa no\n",
      "198 esa no\n",
      "199 esa no\n",
      "200 esa no\n",
      "201 esa no\n",
      "202 esa no\n",
      "203 esa no\n",
      "204 esa no\n",
      "205 esa no\n",
      "206 esa no\n",
      "207 esa no\n",
      "207esta si\n",
      "!!!!!!!!!!!!!!!!!!!!!!!!!!!!\n",
      "Index(['id', 'order_id', 'bank_id', 'coin_id', 'facture_id', 'tc', 'amount',\n",
      "       'comp', 'date', 'created_at', 'updated_at', 'capturo', 'reviso',\n",
      "       'autorizo', 'coin_pedido', 'customer_id'],\n",
      "      dtype='object')\n",
      "208 esa no\n",
      "209 esa no\n",
      "210 esa no\n",
      "211 esa no\n",
      "211esta si\n",
      "!!!!!!!!!!!!!!!!!!!!!!!!!!!!\n",
      "Index(['id', 'order_id', 'bank_id', 'coin_id', 'facture_id', 'tc', 'amount',\n",
      "       'comp', 'date', 'created_at', 'updated_at', 'capturo', 'reviso',\n",
      "       'autorizo', 'coin_pedido', 'customer_id'],\n",
      "      dtype='object')\n",
      "212 esa no\n",
      "213 esa no\n",
      "214 esa no\n",
      "215 esa no\n",
      "216 esa no\n",
      "217 esa no\n",
      "218 esa no\n",
      "219 esa no\n",
      "220 esa no\n",
      "221 esa no\n",
      "221esta si\n",
      "!!!!!!!!!!!!!!!!!!!!!!!!!!!!\n",
      "Index(['id', 'order_id', 'bank_id', 'coin_id', 'facture_id', 'tc', 'amount',\n",
      "       'comp', 'date', 'created_at', 'updated_at', 'capturo', 'reviso',\n",
      "       'autorizo', 'coin_pedido', 'customer_id'],\n",
      "      dtype='object')\n",
      "222 esa no\n",
      "223 esa no\n",
      "224 esa no\n",
      "225 esa no\n",
      "226 esa no\n",
      "227 esa no\n",
      "228 esa no\n",
      "229 esa no\n",
      "230 esa no\n",
      "231 esa no\n",
      "232 esa no\n",
      "232esta si\n",
      "!!!!!!!!!!!!!!!!!!!!!!!!!!!!\n",
      "Index(['id', 'order_id', 'bank_id', 'coin_id', 'facture_id', 'tc', 'amount',\n",
      "       'comp', 'date', 'created_at', 'updated_at', 'capturo', 'reviso',\n",
      "       'autorizo', 'coin_pedido', 'customer_id'],\n",
      "      dtype='object')\n",
      "233 esa no\n",
      "234 esa no\n",
      "235 esa no\n",
      "236 esa no\n",
      "237 esa no\n",
      "238 esa no\n",
      "239 esa no\n",
      "239esta si\n",
      "!!!!!!!!!!!!!!!!!!!!!!!!!!!!\n",
      "Index(['id', 'order_id', 'bank_id', 'coin_id', 'facture_id', 'tc', 'amount',\n",
      "       'comp', 'date', 'created_at', 'updated_at', 'capturo', 'reviso',\n",
      "       'autorizo', 'coin_pedido', 'customer_id'],\n",
      "      dtype='object')\n",
      "240 esa no\n",
      "241 esa no\n",
      "242 esa no\n",
      "243 esa no\n",
      "244 esa no\n",
      "245 esa no\n",
      "246 esa no\n",
      "247 esa no\n",
      "248 esa no\n",
      "248esta si\n",
      "!!!!!!!!!!!!!!!!!!!!!!!!!!!!\n",
      "Index(['id', 'order_id', 'bank_id', 'coin_id', 'facture_id', 'tc', 'amount',\n",
      "       'comp', 'date', 'created_at', 'updated_at', 'capturo', 'reviso',\n",
      "       'autorizo', 'coin_pedido', 'customer_id'],\n",
      "      dtype='object')\n",
      "249 esa no\n",
      "250 esa no\n",
      "251 esa no\n",
      "252 esa no\n",
      "253 esa no\n",
      "254 esa no\n",
      "255 esa no\n",
      "256 esa no\n",
      "257 esa no\n",
      "258 esa no\n",
      "258esta si\n",
      "!!!!!!!!!!!!!!!!!!!!!!!!!!!!\n",
      "Index(['id', 'order_id', 'bank_id', 'coin_id', 'facture_id', 'tc', 'amount',\n",
      "       'comp', 'date', 'created_at', 'updated_at', 'capturo', 'reviso',\n",
      "       'autorizo', 'coin_pedido', 'customer_id'],\n",
      "      dtype='object')\n",
      "259 esa no\n",
      "260 esa no\n",
      "260esta si\n",
      "!!!!!!!!!!!!!!!!!!!!!!!!!!!!\n",
      "Index(['id', 'order_id', 'bank_id', 'coin_id', 'facture_id', 'tc', 'amount',\n",
      "       'comp', 'date', 'created_at', 'updated_at', 'capturo', 'reviso',\n",
      "       'autorizo', 'coin_pedido', 'customer_id'],\n",
      "      dtype='object')\n",
      "261 esa no\n",
      "262 esa no\n",
      "263 esa no\n",
      "264 esa no\n",
      "265 esa no\n",
      "266 esa no\n",
      "267 esa no\n",
      "268 esa no\n",
      "269 esa no\n",
      "269esta si\n",
      "!!!!!!!!!!!!!!!!!!!!!!!!!!!!\n",
      "Index(['id', 'order_id', 'bank_id', 'coin_id', 'facture_id', 'tc', 'amount',\n",
      "       'comp', 'date', 'created_at', 'updated_at', 'capturo', 'reviso',\n",
      "       'autorizo', 'coin_pedido', 'customer_id'],\n",
      "      dtype='object')\n",
      "270 esa no\n",
      "271 esa no\n",
      "272 esa no\n",
      "273 esa no\n",
      "274 esa no\n",
      "274esta si\n",
      "!!!!!!!!!!!!!!!!!!!!!!!!!!!!\n",
      "Index(['id', 'order_id', 'bank_id', 'coin_id', 'facture_id', 'tc', 'amount',\n",
      "       'comp', 'date', 'created_at', 'updated_at', 'capturo', 'reviso',\n",
      "       'autorizo', 'coin_pedido', 'customer_id'],\n",
      "      dtype='object')\n",
      "275 esa no\n",
      "276 esa no\n",
      "277 esa no\n",
      "278 esa no\n",
      "279 esa no\n",
      "280 esa no\n",
      "280esta si\n",
      "!!!!!!!!!!!!!!!!!!!!!!!!!!!!\n",
      "Index(['id', 'order_id', 'bank_id', 'coin_id', 'facture_id', 'tc', 'amount',\n",
      "       'comp', 'date', 'created_at', 'updated_at', 'capturo', 'reviso',\n",
      "       'autorizo', 'coin_pedido', 'customer_id'],\n",
      "      dtype='object')\n",
      "281 esa no\n",
      "282 esa no\n",
      "282esta si\n",
      "!!!!!!!!!!!!!!!!!!!!!!!!!!!!\n",
      "Index(['id', 'order_id', 'bank_id', 'coin_id', 'facture_id', 'tc', 'amount',\n",
      "       'comp', 'date', 'created_at', 'updated_at', 'capturo', 'reviso',\n",
      "       'autorizo', 'coin_pedido', 'customer_id'],\n",
      "      dtype='object')\n",
      "283 esa no\n",
      "284 esa no\n",
      "285 esa no\n",
      "286 esa no\n",
      "287 esa no\n",
      "288 esa no\n",
      "289 esa no\n",
      "289esta si\n",
      "!!!!!!!!!!!!!!!!!!!!!!!!!!!!\n",
      "Index(['id', 'order_id', 'bank_id', 'coin_id', 'facture_id', 'tc', 'amount',\n",
      "       'comp', 'date', 'created_at', 'updated_at', 'capturo', 'reviso',\n",
      "       'autorizo', 'coin_pedido', 'customer_id'],\n",
      "      dtype='object')\n",
      "290 esa no\n",
      "290esta si\n",
      "!!!!!!!!!!!!!!!!!!!!!!!!!!!!\n",
      "Index(['id', 'order_id', 'bank_id', 'coin_id', 'facture_id', 'tc', 'amount',\n",
      "       'comp', 'date', 'created_at', 'updated_at', 'capturo', 'reviso',\n",
      "       'autorizo', 'coin_pedido', 'customer_id'],\n",
      "      dtype='object')\n",
      "291 esa no\n",
      "291esta si\n",
      "!!!!!!!!!!!!!!!!!!!!!!!!!!!!\n",
      "Index(['id', 'order_id', 'bank_id', 'coin_id', 'facture_id', 'tc', 'amount',\n",
      "       'comp', 'date', 'created_at', 'updated_at', 'capturo', 'reviso',\n",
      "       'autorizo', 'coin_pedido', 'customer_id'],\n",
      "      dtype='object')\n",
      "292 esa no\n",
      "292esta si\n",
      "!!!!!!!!!!!!!!!!!!!!!!!!!!!!\n",
      "Index(['id', 'order_id', 'bank_id', 'coin_id', 'facture_id', 'tc', 'amount',\n",
      "       'comp', 'date', 'created_at', 'updated_at', 'capturo', 'reviso',\n",
      "       'autorizo', 'coin_pedido', 'customer_id'],\n",
      "      dtype='object')\n",
      "293 esa no\n",
      "293esta si\n",
      "!!!!!!!!!!!!!!!!!!!!!!!!!!!!\n",
      "Index(['id', 'order_id', 'bank_id', 'coin_id', 'facture_id', 'tc', 'amount',\n",
      "       'comp', 'date', 'created_at', 'updated_at', 'capturo', 'reviso',\n",
      "       'autorizo', 'coin_pedido', 'customer_id'],\n",
      "      dtype='object')\n",
      "294 esa no\n",
      "294esta si\n",
      "!!!!!!!!!!!!!!!!!!!!!!!!!!!!\n",
      "Index(['id', 'order_id', 'bank_id', 'coin_id', 'facture_id', 'tc', 'amount',\n",
      "       'comp', 'date', 'created_at', 'updated_at', 'capturo', 'reviso',\n",
      "       'autorizo', 'coin_pedido', 'customer_id'],\n",
      "      dtype='object')\n",
      "295 esa no\n",
      "295esta si\n",
      "!!!!!!!!!!!!!!!!!!!!!!!!!!!!\n",
      "Index(['id', 'order_id', 'bank_id', 'coin_id', 'facture_id', 'tc', 'amount',\n",
      "       'comp', 'date', 'created_at', 'updated_at', 'capturo', 'reviso',\n",
      "       'autorizo', 'coin_pedido', 'customer_id'],\n",
      "      dtype='object')\n",
      "296 esa no\n",
      "296esta si\n",
      "!!!!!!!!!!!!!!!!!!!!!!!!!!!!\n",
      "Index(['id', 'order_id', 'bank_id', 'coin_id', 'facture_id', 'tc', 'amount',\n",
      "       'comp', 'date', 'created_at', 'updated_at', 'capturo', 'reviso',\n",
      "       'autorizo', 'coin_pedido', 'customer_id'],\n",
      "      dtype='object')\n",
      "297 esa no\n",
      "297esta si\n",
      "!!!!!!!!!!!!!!!!!!!!!!!!!!!!\n",
      "Index(['id', 'order_id', 'bank_id', 'coin_id', 'facture_id', 'tc', 'amount',\n",
      "       'comp', 'date', 'created_at', 'updated_at', 'capturo', 'reviso',\n",
      "       'autorizo', 'coin_pedido', 'customer_id'],\n",
      "      dtype='object')\n",
      "298 esa no\n",
      "298esta si\n",
      "!!!!!!!!!!!!!!!!!!!!!!!!!!!!\n",
      "Index(['id', 'order_id', 'bank_id', 'coin_id', 'facture_id', 'tc', 'amount',\n",
      "       'comp', 'date', 'created_at', 'updated_at', 'capturo', 'reviso',\n",
      "       'autorizo', 'coin_pedido', 'customer_id'],\n",
      "      dtype='object')\n",
      "299 esa no\n",
      "299esta si\n",
      "!!!!!!!!!!!!!!!!!!!!!!!!!!!!\n",
      "Index(['id', 'order_id', 'bank_id', 'coin_id', 'facture_id', 'tc', 'amount',\n",
      "       'comp', 'date', 'created_at', 'updated_at', 'capturo', 'reviso',\n",
      "       'autorizo', 'coin_pedido', 'customer_id'],\n",
      "      dtype='object')\n",
      "300 esa no\n",
      "300esta si\n",
      "!!!!!!!!!!!!!!!!!!!!!!!!!!!!\n",
      "Index(['id', 'order_id', 'bank_id', 'coin_id', 'facture_id', 'tc', 'amount',\n",
      "       'comp', 'date', 'created_at', 'updated_at', 'capturo', 'reviso',\n",
      "       'autorizo', 'coin_pedido', 'customer_id'],\n",
      "      dtype='object')\n",
      "301 esa no\n",
      "301esta si\n",
      "!!!!!!!!!!!!!!!!!!!!!!!!!!!!\n",
      "Index(['id', 'order_id', 'bank_id', 'coin_id', 'facture_id', 'tc', 'amount',\n",
      "       'comp', 'date', 'created_at', 'updated_at', 'capturo', 'reviso',\n",
      "       'autorizo', 'coin_pedido', 'customer_id'],\n",
      "      dtype='object')\n",
      "302 esa no\n",
      "302esta si\n",
      "!!!!!!!!!!!!!!!!!!!!!!!!!!!!\n",
      "Index(['id', 'order_id', 'bank_id', 'coin_id', 'facture_id', 'tc', 'amount',\n",
      "       'comp', 'date', 'created_at', 'updated_at', 'capturo', 'reviso',\n",
      "       'autorizo', 'coin_pedido', 'customer_id'],\n",
      "      dtype='object')\n",
      "303 esa no\n",
      "303esta si\n",
      "!!!!!!!!!!!!!!!!!!!!!!!!!!!!\n",
      "Index(['id', 'order_id', 'bank_id', 'coin_id', 'facture_id', 'tc', 'amount',\n",
      "       'comp', 'date', 'created_at', 'updated_at', 'capturo', 'reviso',\n",
      "       'autorizo', 'coin_pedido', 'customer_id'],\n",
      "      dtype='object')\n",
      "304 esa no\n",
      "304esta si\n",
      "!!!!!!!!!!!!!!!!!!!!!!!!!!!!\n",
      "Index(['id', 'order_id', 'bank_id', 'coin_id', 'facture_id', 'tc', 'amount',\n",
      "       'comp', 'date', 'created_at', 'updated_at', 'capturo', 'reviso',\n",
      "       'autorizo', 'coin_pedido', 'customer_id'],\n",
      "      dtype='object')\n",
      "305 esa no\n",
      "305esta si\n",
      "!!!!!!!!!!!!!!!!!!!!!!!!!!!!\n",
      "Index(['id', 'order_id', 'bank_id', 'coin_id', 'facture_id', 'tc', 'amount',\n",
      "       'comp', 'date', 'created_at', 'updated_at', 'capturo', 'reviso',\n",
      "       'autorizo', 'coin_pedido', 'customer_id'],\n",
      "      dtype='object')\n",
      "306 esa no\n",
      "306esta si\n",
      "!!!!!!!!!!!!!!!!!!!!!!!!!!!!\n",
      "Index(['id', 'order_id', 'bank_id', 'coin_id', 'facture_id', 'tc', 'amount',\n",
      "       'comp', 'date', 'created_at', 'updated_at', 'capturo', 'reviso',\n",
      "       'autorizo', 'coin_pedido', 'customer_id'],\n",
      "      dtype='object')\n",
      "307 esa no\n",
      "307esta si\n",
      "!!!!!!!!!!!!!!!!!!!!!!!!!!!!\n",
      "Index(['id', 'order_id', 'bank_id', 'coin_id', 'facture_id', 'tc', 'amount',\n",
      "       'comp', 'date', 'created_at', 'updated_at', 'capturo', 'reviso',\n",
      "       'autorizo', 'coin_pedido', 'customer_id'],\n",
      "      dtype='object')\n",
      "308 esa no\n",
      "308esta si\n",
      "!!!!!!!!!!!!!!!!!!!!!!!!!!!!\n",
      "Index(['id', 'order_id', 'bank_id', 'coin_id', 'facture_id', 'tc', 'amount',\n",
      "       'comp', 'date', 'created_at', 'updated_at', 'capturo', 'reviso',\n",
      "       'autorizo', 'coin_pedido', 'customer_id'],\n",
      "      dtype='object')\n",
      "309 esa no\n",
      "309esta si\n",
      "!!!!!!!!!!!!!!!!!!!!!!!!!!!!\n",
      "Index(['id', 'order_id', 'bank_id', 'coin_id', 'facture_id', 'tc', 'amount',\n",
      "       'comp', 'date', 'created_at', 'updated_at', 'capturo', 'reviso',\n",
      "       'autorizo', 'coin_pedido', 'customer_id'],\n",
      "      dtype='object')\n",
      "310 esa no\n",
      "310esta si\n",
      "!!!!!!!!!!!!!!!!!!!!!!!!!!!!\n",
      "Index(['id', 'order_id', 'bank_id', 'coin_id', 'facture_id', 'tc', 'amount',\n",
      "       'comp', 'date', 'created_at', 'updated_at', 'capturo', 'reviso',\n",
      "       'autorizo', 'coin_pedido', 'customer_id'],\n",
      "      dtype='object')\n",
      "311 esa no\n",
      "311esta si\n",
      "!!!!!!!!!!!!!!!!!!!!!!!!!!!!\n",
      "Index(['id', 'order_id', 'bank_id', 'coin_id', 'facture_id', 'tc', 'amount',\n",
      "       'comp', 'date', 'created_at', 'updated_at', 'capturo', 'reviso',\n",
      "       'autorizo', 'coin_pedido', 'customer_id'],\n",
      "      dtype='object')\n",
      "312 esa no\n",
      "312esta si\n",
      "!!!!!!!!!!!!!!!!!!!!!!!!!!!!\n",
      "Index(['id', 'order_id', 'bank_id', 'coin_id', 'facture_id', 'tc', 'amount',\n",
      "       'comp', 'date', 'created_at', 'updated_at', 'capturo', 'reviso',\n",
      "       'autorizo', 'coin_pedido', 'customer_id'],\n",
      "      dtype='object')\n",
      "313 esa no\n",
      "313esta si\n",
      "!!!!!!!!!!!!!!!!!!!!!!!!!!!!\n",
      "Index(['id', 'order_id', 'bank_id', 'coin_id', 'facture_id', 'tc', 'amount',\n",
      "       'comp', 'date', 'created_at', 'updated_at', 'capturo', 'reviso',\n",
      "       'autorizo', 'coin_pedido', 'customer_id'],\n",
      "      dtype='object')\n",
      "314 esa no\n",
      "314esta si\n",
      "!!!!!!!!!!!!!!!!!!!!!!!!!!!!\n",
      "Index(['id', 'order_id', 'bank_id', 'coin_id', 'facture_id', 'tc', 'amount',\n",
      "       'comp', 'date', 'created_at', 'updated_at', 'capturo', 'reviso',\n",
      "       'autorizo', 'coin_pedido', 'customer_id'],\n",
      "      dtype='object')\n",
      "315 esa no\n",
      "315esta si\n",
      "!!!!!!!!!!!!!!!!!!!!!!!!!!!!\n",
      "Index(['id', 'order_id', 'bank_id', 'coin_id', 'facture_id', 'tc', 'amount',\n",
      "       'comp', 'date', 'created_at', 'updated_at', 'capturo', 'reviso',\n",
      "       'autorizo', 'coin_pedido', 'customer_id'],\n",
      "      dtype='object')\n",
      "316 esa no\n",
      "316esta si\n",
      "!!!!!!!!!!!!!!!!!!!!!!!!!!!!\n",
      "Index(['id', 'order_id', 'bank_id', 'coin_id', 'facture_id', 'tc', 'amount',\n",
      "       'comp', 'date', 'created_at', 'updated_at', 'capturo', 'reviso',\n",
      "       'autorizo', 'coin_pedido', 'customer_id'],\n",
      "      dtype='object')\n",
      "317 esa no\n",
      "317esta si\n",
      "!!!!!!!!!!!!!!!!!!!!!!!!!!!!\n",
      "Index(['id', 'order_id', 'bank_id', 'coin_id', 'facture_id', 'tc', 'amount',\n",
      "       'comp', 'date', 'created_at', 'updated_at', 'capturo', 'reviso',\n",
      "       'autorizo', 'coin_pedido', 'customer_id'],\n",
      "      dtype='object')\n",
      "318 esa no\n",
      "318esta si\n",
      "!!!!!!!!!!!!!!!!!!!!!!!!!!!!\n",
      "Index(['id', 'order_id', 'bank_id', 'coin_id', 'facture_id', 'tc', 'amount',\n",
      "       'comp', 'date', 'created_at', 'updated_at', 'capturo', 'reviso',\n",
      "       'autorizo', 'coin_pedido', 'customer_id'],\n",
      "      dtype='object')\n",
      "319 esa no\n",
      "319esta si\n",
      "!!!!!!!!!!!!!!!!!!!!!!!!!!!!\n",
      "Index(['id', 'order_id', 'bank_id', 'coin_id', 'facture_id', 'tc', 'amount',\n",
      "       'comp', 'date', 'created_at', 'updated_at', 'capturo', 'reviso',\n",
      "       'autorizo', 'coin_pedido', 'customer_id'],\n",
      "      dtype='object')\n",
      "320 esa no\n",
      "320esta si\n",
      "!!!!!!!!!!!!!!!!!!!!!!!!!!!!\n",
      "Index(['id', 'order_id', 'bank_id', 'coin_id', 'facture_id', 'tc', 'amount',\n",
      "       'comp', 'date', 'created_at', 'updated_at', 'capturo', 'reviso',\n",
      "       'autorizo', 'coin_pedido', 'customer_id'],\n",
      "      dtype='object')\n",
      "321 esa no\n",
      "321esta si\n",
      "!!!!!!!!!!!!!!!!!!!!!!!!!!!!\n",
      "Index(['id', 'order_id', 'bank_id', 'coin_id', 'facture_id', 'tc', 'amount',\n",
      "       'comp', 'date', 'created_at', 'updated_at', 'capturo', 'reviso',\n",
      "       'autorizo', 'coin_pedido', 'customer_id'],\n",
      "      dtype='object')\n",
      "322 esa no\n",
      "322esta si\n",
      "!!!!!!!!!!!!!!!!!!!!!!!!!!!!\n",
      "Index(['id', 'order_id', 'bank_id', 'coin_id', 'facture_id', 'tc', 'amount',\n",
      "       'comp', 'date', 'created_at', 'updated_at', 'capturo', 'reviso',\n",
      "       'autorizo', 'coin_pedido', 'customer_id'],\n",
      "      dtype='object')\n",
      "323 esa no\n",
      "323esta si\n",
      "!!!!!!!!!!!!!!!!!!!!!!!!!!!!\n",
      "Index(['id', 'order_id', 'bank_id', 'coin_id', 'facture_id', 'tc', 'amount',\n",
      "       'comp', 'date', 'created_at', 'updated_at', 'capturo', 'reviso',\n",
      "       'autorizo', 'coin_pedido', 'customer_id'],\n",
      "      dtype='object')\n",
      "324 esa no\n",
      "324esta si\n",
      "!!!!!!!!!!!!!!!!!!!!!!!!!!!!\n",
      "Index(['id', 'order_id', 'bank_id', 'coin_id', 'facture_id', 'tc', 'amount',\n",
      "       'comp', 'date', 'created_at', 'updated_at', 'capturo', 'reviso',\n",
      "       'autorizo', 'coin_pedido', 'customer_id'],\n",
      "      dtype='object')\n",
      "325 esa no\n",
      "325esta si\n",
      "!!!!!!!!!!!!!!!!!!!!!!!!!!!!\n",
      "Index(['id', 'order_id', 'bank_id', 'coin_id', 'facture_id', 'tc', 'amount',\n",
      "       'comp', 'date', 'created_at', 'updated_at', 'capturo', 'reviso',\n",
      "       'autorizo', 'coin_pedido', 'customer_id'],\n",
      "      dtype='object')\n",
      "326 esa no\n",
      "326esta si\n",
      "!!!!!!!!!!!!!!!!!!!!!!!!!!!!\n",
      "Index(['id', 'order_id', 'bank_id', 'coin_id', 'facture_id', 'tc', 'amount',\n",
      "       'comp', 'date', 'created_at', 'updated_at', 'capturo', 'reviso',\n",
      "       'autorizo', 'coin_pedido', 'customer_id'],\n",
      "      dtype='object')\n",
      "327 esa no\n",
      "327esta si\n",
      "!!!!!!!!!!!!!!!!!!!!!!!!!!!!\n",
      "Index(['id', 'order_id', 'bank_id', 'coin_id', 'facture_id', 'tc', 'amount',\n",
      "       'comp', 'date', 'created_at', 'updated_at', 'capturo', 'reviso',\n",
      "       'autorizo', 'coin_pedido', 'customer_id'],\n",
      "      dtype='object')\n",
      "328 esa no\n",
      "328esta si\n",
      "!!!!!!!!!!!!!!!!!!!!!!!!!!!!\n",
      "Index(['id', 'order_id', 'bank_id', 'coin_id', 'facture_id', 'tc', 'amount',\n",
      "       'comp', 'date', 'created_at', 'updated_at', 'capturo', 'reviso',\n",
      "       'autorizo', 'coin_pedido', 'customer_id'],\n",
      "      dtype='object')\n",
      "329 esa no\n",
      "329esta si\n",
      "!!!!!!!!!!!!!!!!!!!!!!!!!!!!\n",
      "Index(['id', 'order_id', 'bank_id', 'coin_id', 'facture_id', 'tc', 'amount',\n",
      "       'comp', 'date', 'created_at', 'updated_at', 'capturo', 'reviso',\n",
      "       'autorizo', 'coin_pedido', 'customer_id'],\n",
      "      dtype='object')\n",
      "330 esa no\n",
      "330esta si\n",
      "!!!!!!!!!!!!!!!!!!!!!!!!!!!!\n",
      "Index(['id', 'order_id', 'bank_id', 'coin_id', 'facture_id', 'tc', 'amount',\n",
      "       'comp', 'date', 'created_at', 'updated_at', 'capturo', 'reviso',\n",
      "       'autorizo', 'coin_pedido', 'customer_id'],\n",
      "      dtype='object')\n",
      "331 esa no\n",
      "331esta si\n",
      "!!!!!!!!!!!!!!!!!!!!!!!!!!!!\n",
      "Index(['id', 'order_id', 'bank_id', 'coin_id', 'facture_id', 'tc', 'amount',\n",
      "       'comp', 'date', 'created_at', 'updated_at', 'capturo', 'reviso',\n",
      "       'autorizo', 'coin_pedido', 'customer_id'],\n",
      "      dtype='object')\n",
      "332 esa no\n",
      "332esta si\n",
      "!!!!!!!!!!!!!!!!!!!!!!!!!!!!\n",
      "Index(['id', 'order_id', 'bank_id', 'coin_id', 'facture_id', 'tc', 'amount',\n",
      "       'comp', 'date', 'created_at', 'updated_at', 'capturo', 'reviso',\n",
      "       'autorizo', 'coin_pedido', 'customer_id'],\n",
      "      dtype='object')\n",
      "333 esa no\n",
      "333esta si\n",
      "!!!!!!!!!!!!!!!!!!!!!!!!!!!!\n",
      "Index(['id', 'order_id', 'bank_id', 'coin_id', 'facture_id', 'tc', 'amount',\n",
      "       'comp', 'date', 'created_at', 'updated_at', 'capturo', 'reviso',\n",
      "       'autorizo', 'coin_pedido', 'customer_id'],\n",
      "      dtype='object')\n"
     ]
    }
   ],
   "source": [
    "#Filtrando datos---------------------------------------\n",
    "#Separar pedidos vigentes\n",
    "    #Agregar columna con saldo en los cobros\n",
    "pedidos=pedidos.assign(saldo=0.0)\n",
    "for i in range(len(pedidos)):\n",
    "    pedidos['saldo'].values[i]=cobros.loc[cobros['order_id']==pedidos['id'].values[i],'amount'].sum()\n",
    "pedidos=pedidos.loc[pedidos['total']-pedidos['saldo']>1]"
   ]
  },
  {
   "cell_type": "code",
   "execution_count": 12,
   "metadata": {},
   "outputs": [
    {
     "data": {
      "text/plain": [
       "104747983.72"
      ]
     },
     "execution_count": 12,
     "metadata": {},
     "output_type": "execute_result"
    }
   ],
   "source": [
    "(pedidos['total']-pedidos['subtotal']*(1-pedidos['descuento'])*0.16).sum()"
   ]
  },
  {
   "cell_type": "code",
   "execution_count": 6,
   "metadata": {},
   "outputs": [
    {
     "data": {
      "text/html": [
       "<div>\n",
       "<style scoped>\n",
       "    .dataframe tbody tr th:only-of-type {\n",
       "        vertical-align: middle;\n",
       "    }\n",
       "\n",
       "    .dataframe tbody tr th {\n",
       "        vertical-align: top;\n",
       "    }\n",
       "\n",
       "    .dataframe thead th {\n",
       "        text-align: right;\n",
       "    }\n",
       "</style>\n",
       "<table border=\"1\" class=\"dataframe\">\n",
       "  <thead>\n",
       "    <tr style=\"text-align: right;\">\n",
       "      <th></th>\n",
       "      <th>id</th>\n",
       "      <th>invoice</th>\n",
       "      <th>date</th>\n",
       "      <th>customer_id</th>\n",
       "      <th>seller_id</th>\n",
       "      <th>date_delivery</th>\n",
       "      <th>instalation_date</th>\n",
       "      <th>shipment</th>\n",
       "      <th>customer_shipping_address_id</th>\n",
       "      <th>coin_id</th>\n",
       "      <th>...</th>\n",
       "      <th>ret</th>\n",
       "      <th>tasa</th>\n",
       "      <th>description</th>\n",
       "      <th>category</th>\n",
       "      <th>clave</th>\n",
       "      <th>alias</th>\n",
       "      <th>exchange_sell</th>\n",
       "      <th>coin</th>\n",
       "      <th>symbol</th>\n",
       "      <th>code</th>\n",
       "    </tr>\n",
       "  </thead>\n",
       "  <tbody>\n",
       "    <tr>\n",
       "      <th>24</th>\n",
       "      <td>147</td>\n",
       "      <td>2887</td>\n",
       "      <td>2023-04-25</td>\n",
       "      <td>414</td>\n",
       "      <td>3</td>\n",
       "      <td>2022-08-30</td>\n",
       "      <td>2022-08-30</td>\n",
       "      <td>Sí</td>\n",
       "      <td>53</td>\n",
       "      <td>1</td>\n",
       "      <td>...</td>\n",
       "      <td>0.0</td>\n",
       "      <td>0.0</td>\n",
       "      <td>Servicio directo SD</td>\n",
       "      <td>Servicios</td>\n",
       "      <td>8</td>\n",
       "      <td>FEDEX</td>\n",
       "      <td>1.0</td>\n",
       "      <td>NACIONAL</td>\n",
       "      <td>$</td>\n",
       "      <td>MN</td>\n",
       "    </tr>\n",
       "  </tbody>\n",
       "</table>\n",
       "<p>1 rows × 41 columns</p>\n",
       "</div>"
      ],
      "text/plain": [
       "     id invoice        date  customer_id  seller_id date_delivery  \\\n",
       "24  147    2887  2023-04-25          414          3    2022-08-30   \n",
       "\n",
       "   instalation_date shipment  customer_shipping_address_id  coin_id  ...  ret  \\\n",
       "24       2022-08-30       Sí                            53        1  ...  0.0   \n",
       "\n",
       "    tasa          description   category       clave  alias exchange_sell  \\\n",
       "24   0.0  Servicio directo SD  Servicios           8  FEDEX           1.0   \n",
       "\n",
       "        coin symbol code  \n",
       "24  NACIONAL      $   MN  \n",
       "\n",
       "[1 rows x 41 columns]"
      ]
     },
     "execution_count": 6,
     "metadata": {},
     "output_type": "execute_result"
    }
   ],
   "source": [
    "pedidos.loc[pedidos['invoice']=='2887']"
   ]
  },
  {
   "cell_type": "code",
   "execution_count": 13,
   "metadata": {},
   "outputs": [
    {
     "data": {
      "text/plain": [
       "217000.00000000003"
      ]
     },
     "execution_count": 13,
     "metadata": {},
     "output_type": "execute_result"
    }
   ],
   "source": [
    "cobros.loc[cobros['order_id']==147,'amount'].sum()/1.16"
   ]
  },
  {
   "cell_type": "code",
   "execution_count": 26,
   "metadata": {},
   "outputs": [],
   "source": [
    "p=pedidos.loc[pedidos['coin']=='NACIONAL']"
   ]
  },
  {
   "cell_type": "code",
   "execution_count": 28,
   "metadata": {},
   "outputs": [
    {
     "data": {
      "text/plain": [
       "129170937.4448"
      ]
     },
     "execution_count": 28,
     "metadata": {},
     "output_type": "execute_result"
    }
   ],
   "source": [
    "#TODO: calculado desde el dataframe cuanto dan los subtotales mn nacional?\n",
    "p['total'].sum()"
   ]
  },
  {
   "cell_type": "code",
   "execution_count": 12,
   "metadata": {},
   "outputs": [
    {
     "data": {
      "text/plain": [
       "-421293.63793101907"
      ]
     },
     "execution_count": 12,
     "metadata": {},
     "output_type": "execute_result"
    }
   ],
   "source": [
    "111432232.78-111853526.41793102"
   ]
  },
  {
   "cell_type": "code",
   "execution_count": null,
   "metadata": {},
   "outputs": [],
   "source": [
    "sudo chown -R www-data: report\n",
    "sudo chmod -R 755 report"
   ]
  },
  {
   "cell_type": "code",
   "execution_count": null,
   "metadata": {},
   "outputs": [],
   "source": [
    "#Sin iva cuanto da?\n"
   ]
  },
  {
   "cell_type": "code",
   "execution_count": 24,
   "metadata": {},
   "outputs": [
    {
     "data": {
      "text/plain": [
       "3"
      ]
     },
     "execution_count": 24,
     "metadata": {},
     "output_type": "execute_result"
    }
   ],
   "source": [
    "len(p)"
   ]
  },
  {
   "cell_type": "code",
   "execution_count": 49,
   "metadata": {},
   "outputs": [
    {
     "name": "stderr",
     "output_type": "stream",
     "text": [
      "c:\\Users\\fgonzalez\\AppData\\Local\\Programs\\Python\\Python310\\lib\\site-packages\\pandas\\io\\sql.py:762: UserWarning: pandas only support SQLAlchemy connectable(engine/connection) ordatabase string URI or sqlite3 DBAPI2 connectionother DBAPI2 objects are not tested, please consider using SQLAlchemy\n",
      "  warnings.warn(\n",
      "c:\\Users\\fgonzalez\\AppData\\Local\\Programs\\Python\\Python310\\lib\\site-packages\\pandas\\io\\sql.py:762: UserWarning: pandas only support SQLAlchemy connectable(engine/connection) ordatabase string URI or sqlite3 DBAPI2 connectionother DBAPI2 objects are not tested, please consider using SQLAlchemy\n",
      "  warnings.warn(\n",
      "c:\\Users\\fgonzalez\\AppData\\Local\\Programs\\Python\\Python310\\lib\\site-packages\\pandas\\io\\sql.py:762: UserWarning: pandas only support SQLAlchemy connectable(engine/connection) ordatabase string URI or sqlite3 DBAPI2 connectionother DBAPI2 objects are not tested, please consider using SQLAlchemy\n",
      "  warnings.warn(\n",
      "c:\\Users\\fgonzalez\\AppData\\Local\\Programs\\Python\\Python310\\lib\\site-packages\\pandas\\io\\sql.py:762: UserWarning: pandas only support SQLAlchemy connectable(engine/connection) ordatabase string URI or sqlite3 DBAPI2 connectionother DBAPI2 objects are not tested, please consider using SQLAlchemy\n",
      "  warnings.warn(\n",
      "c:\\Users\\fgonzalez\\AppData\\Local\\Programs\\Python\\Python310\\lib\\site-packages\\pandas\\io\\sql.py:762: UserWarning: pandas only support SQLAlchemy connectable(engine/connection) ordatabase string URI or sqlite3 DBAPI2 connectionother DBAPI2 objects are not tested, please consider using SQLAlchemy\n",
      "  warnings.warn(\n"
     ]
    }
   ],
   "source": [
    "import sys\n",
    "import mysql.connector\n",
    "import xlsxwriter\n",
    "import pandas as pd\n",
    "import sys\n",
    "import mysql.connector\n",
    "import os\n",
    "from dotenv import load_dotenv\n",
    "load_dotenv()\n",
    "#ESTE ARGUMENTO NO SE USA EN ESTE REPORTE, SERÁ 0 SIEMPRE UWU\n",
    "id=str(sys.argv[1])\n",
    "#configurar la conexion a la base de datos\n",
    "DB_USERNAME = os.getenv('DB_USERNAME')\n",
    "DB_DATABASE = os.getenv('DB_DATABASE')\n",
    "DB_PASSWORD = os.getenv('DB_PASSWORD')\n",
    "DB_PORT = os.getenv('DB_PORT')\n",
    "\n",
    "a_color='#354F84'\n",
    "b_color='#91959E'\n",
    "# Conectar a DB\n",
    "cnx = mysql.connector.connect(user=DB_USERNAME,\n",
    "                              password=DB_PASSWORD,\n",
    "                              host='localhost',\n",
    "                              port=DB_PORT,\n",
    "                              database=DB_DATABASE,\n",
    "                              use_pure=False)\n",
    "#Seccion para traer informacion de la base\n",
    "query = ('SELECT * from customers where id =1')\n",
    "\n",
    "# join para cobros\n",
    "# cobros=pd.read_sql('Select cobros.* ,customers.customer,internal_orders.invoice, users.name from ((cobros inner join internal_orders on internal_orders.id = cobros.order_id) inner join customers on customers.id = internal_orders.customer_id )inner join users on cobros.capturo=users.id',cnx)\n",
    "\n",
    "\n",
    "#traer datos de los pedidos\n",
    "pedidos=pd.read_sql(\"\"\"Select internal_orders.* ,customers.clave,customers.alias,\n",
    "coins.exchange_sell, coins.coin, coins.symbol,coins.code\n",
    "from ((\n",
    "    internal_orders\n",
    "    inner join customers on customers.id = internal_orders.customer_id )\n",
    "    inner join coins on internal_orders.coin_id = coins.id)\n",
    "     \"\"\",cnx)\n",
    "clientes=pd.read_sql(\"select * from customers\",cnx)\n",
    "cobros=pd.read_sql(\"\"\"select cobros.*,internal_orders.coin_id as coin_pedido,internal_orders.customer_id  \n",
    "                     from (\n",
    "                         cobros\n",
    "    inner join internal_orders on internal_orders.id = cobros.order_id )\"\"\",cnx)\n",
    "facturas=pd.read_sql(\"\"\"select factures.*,internal_orders.coin_id as coin_pedido,internal_orders.customer_id  \n",
    "                     from (\n",
    "                         factures\n",
    "    inner join internal_orders on internal_orders.id = factures.order_id )\"\"\",cnx)\n",
    "creditos=pd.read_sql(\"\"\"select credit_notes.*,internal_orders.coin_id as coin_pedido,internal_orders.customer_id as customer_pedido \n",
    "                     from (\n",
    "                         credit_notes\n",
    "    inner join internal_orders on internal_orders.id = credit_notes.order_id ) \"\"\",cnx)\n",
    "\n",
    "nordenes=len(pedidos)"
   ]
  },
  {
   "cell_type": "code",
   "execution_count": 50,
   "metadata": {},
   "outputs": [],
   "source": [
    "#Separar pedidos vigentes\n",
    "    #Agregar columna con saldo en los cobros\n",
    "pedidos=pedidos.assign(saldo=0.0)\n",
    "for i in range(len(pedidos)):\n",
    "    pedidos['saldo'].values[i]=cobros.loc[cobros['order_id']==pedidos['id'].values[i],'amount'].sum()"
   ]
  },
  {
   "cell_type": "code",
   "execution_count": 19,
   "metadata": {},
   "outputs": [
    {
     "data": {
      "text/html": [
       "<div>\n",
       "<style scoped>\n",
       "    .dataframe tbody tr th:only-of-type {\n",
       "        vertical-align: middle;\n",
       "    }\n",
       "\n",
       "    .dataframe tbody tr th {\n",
       "        vertical-align: top;\n",
       "    }\n",
       "\n",
       "    .dataframe thead th {\n",
       "        text-align: right;\n",
       "    }\n",
       "</style>\n",
       "<table border=\"1\" class=\"dataframe\">\n",
       "  <thead>\n",
       "    <tr style=\"text-align: right;\">\n",
       "      <th></th>\n",
       "      <th>invoice</th>\n",
       "      <th>total</th>\n",
       "      <th>saldo</th>\n",
       "    </tr>\n",
       "  </thead>\n",
       "  <tbody>\n",
       "    <tr>\n",
       "      <th>0</th>\n",
       "      <td>2175</td>\n",
       "      <td>3.561200e+05</td>\n",
       "      <td>356120.00</td>\n",
       "    </tr>\n",
       "    <tr>\n",
       "      <th>1</th>\n",
       "      <td>2749</td>\n",
       "      <td>3.190000e+03</td>\n",
       "      <td>3190.00</td>\n",
       "    </tr>\n",
       "    <tr>\n",
       "      <th>2</th>\n",
       "      <td>2750</td>\n",
       "      <td>5.308694e+07</td>\n",
       "      <td>49725362.80</td>\n",
       "    </tr>\n",
       "    <tr>\n",
       "      <th>3</th>\n",
       "      <td>2751</td>\n",
       "      <td>5.800000e+03</td>\n",
       "      <td>0.00</td>\n",
       "    </tr>\n",
       "    <tr>\n",
       "      <th>4</th>\n",
       "      <td>2752</td>\n",
       "      <td>8.288003e+04</td>\n",
       "      <td>82880.03</td>\n",
       "    </tr>\n",
       "    <tr>\n",
       "      <th>...</th>\n",
       "      <td>...</td>\n",
       "      <td>...</td>\n",
       "      <td>...</td>\n",
       "    </tr>\n",
       "    <tr>\n",
       "      <th>189</th>\n",
       "      <td>3104</td>\n",
       "      <td>3.157868e+06</td>\n",
       "      <td>0.00</td>\n",
       "    </tr>\n",
       "    <tr>\n",
       "      <th>190</th>\n",
       "      <td>3105</td>\n",
       "      <td>8.827600e+04</td>\n",
       "      <td>0.00</td>\n",
       "    </tr>\n",
       "    <tr>\n",
       "      <th>191</th>\n",
       "      <td>3106</td>\n",
       "      <td>1.118471e+06</td>\n",
       "      <td>0.00</td>\n",
       "    </tr>\n",
       "    <tr>\n",
       "      <th>192</th>\n",
       "      <td>3107</td>\n",
       "      <td>2.298192e+05</td>\n",
       "      <td>114909.60</td>\n",
       "    </tr>\n",
       "    <tr>\n",
       "      <th>193</th>\n",
       "      <td>3108</td>\n",
       "      <td>1.127520e+06</td>\n",
       "      <td>0.00</td>\n",
       "    </tr>\n",
       "  </tbody>\n",
       "</table>\n",
       "<p>194 rows × 3 columns</p>\n",
       "</div>"
      ],
      "text/plain": [
       "    invoice         total        saldo\n",
       "0      2175  3.561200e+05    356120.00\n",
       "1      2749  3.190000e+03      3190.00\n",
       "2      2750  5.308694e+07  49725362.80\n",
       "3      2751  5.800000e+03         0.00\n",
       "4      2752  8.288003e+04     82880.03\n",
       "..      ...           ...          ...\n",
       "189    3104  3.157868e+06         0.00\n",
       "190    3105  8.827600e+04         0.00\n",
       "191    3106  1.118471e+06         0.00\n",
       "192    3107  2.298192e+05    114909.60\n",
       "193    3108  1.127520e+06         0.00\n",
       "\n",
       "[194 rows x 3 columns]"
      ]
     },
     "execution_count": 19,
     "metadata": {},
     "output_type": "execute_result"
    }
   ],
   "source": [
    "# ej, el primer pedido\n",
    "pedidos[['invoice','total','saldo']]"
   ]
  },
  {
   "cell_type": "code",
   "execution_count": 20,
   "metadata": {},
   "outputs": [
    {
     "data": {
      "text/plain": [
       "0            0.000\n",
       "1            0.000\n",
       "2      3361573.200\n",
       "3         5800.000\n",
       "4           -0.002\n",
       "          ...     \n",
       "189    3157868.000\n",
       "190      88276.000\n",
       "191    1118470.840\n",
       "192     114909.600\n",
       "193    1127520.000\n",
       "Length: 194, dtype: float64"
      ]
     },
     "execution_count": 20,
     "metadata": {},
     "output_type": "execute_result"
    }
   ],
   "source": [
    "pedidos['total']-pedidos['saldo']"
   ]
  },
  {
   "cell_type": "code",
   "execution_count": 23,
   "metadata": {},
   "outputs": [
    {
     "data": {
      "text/plain": [
       "194"
      ]
     },
     "execution_count": 23,
     "metadata": {},
     "output_type": "execute_result"
    }
   ],
   "source": [
    "len(pedidos)"
   ]
  },
  {
   "cell_type": "code",
   "execution_count": 51,
   "metadata": {},
   "outputs": [],
   "source": [
    "pedidos=pedidos.loc[pedidos['total']-pedidos['saldo']<=100]"
   ]
  },
  {
   "cell_type": "code",
   "execution_count": 52,
   "metadata": {},
   "outputs": [
    {
     "data": {
      "text/plain": [
       "134"
      ]
     },
     "execution_count": 52,
     "metadata": {},
     "output_type": "execute_result"
    }
   ],
   "source": [
    "len(pedidos)"
   ]
  },
  {
   "cell_type": "code",
   "execution_count": 27,
   "metadata": {},
   "outputs": [],
   "source": [
    "pedidos=pedidos.assign(pendiente=pedidos['total']-pedidos['saldo'])"
   ]
  },
  {
   "cell_type": "code",
   "execution_count": 32,
   "metadata": {},
   "outputs": [
    {
     "data": {
      "text/plain": [
       "array([ 0.00000000e+00, -1.99999999e-03,  1.20000006e-03, -1.50000000e-01,\n",
       "       -2.14959600e+04, -8.00000000e-02, -1.00000000e-02,  1.80000000e-01,\n",
       "        2.79999999e-03, -1.99999986e-03, -7.00000001e-02,  8.00000000e-02,\n",
       "       -4.80000000e-01,  2.00000000e-03,  4.80000000e-03,  3.19999992e-03,\n",
       "       -2.80000000e-03,  5.82076609e-11,  2.32830644e-10, -4.80000001e-03,\n",
       "       -9.99999998e-03, -2.91038305e-11,  2.91038305e-11,  4.80000002e-03,\n",
       "       -4.99999999e-02,  9.00000000e+01])"
      ]
     },
     "execution_count": 32,
     "metadata": {},
     "output_type": "execute_result"
    }
   ],
   "source": [
    "pedidos['pendiente'].unique()"
   ]
  },
  {
   "cell_type": "code",
   "execution_count": 43,
   "metadata": {},
   "outputs": [
    {
     "data": {
      "text/html": [
       "<div>\n",
       "<style scoped>\n",
       "    .dataframe tbody tr th:only-of-type {\n",
       "        vertical-align: middle;\n",
       "    }\n",
       "\n",
       "    .dataframe tbody tr th {\n",
       "        vertical-align: top;\n",
       "    }\n",
       "\n",
       "    .dataframe thead th {\n",
       "        text-align: right;\n",
       "    }\n",
       "</style>\n",
       "<table border=\"1\" class=\"dataframe\">\n",
       "  <thead>\n",
       "    <tr style=\"text-align: right;\">\n",
       "      <th></th>\n",
       "      <th>invoice</th>\n",
       "      <th>customer_id</th>\n",
       "      <th>code</th>\n",
       "      <th>total</th>\n",
       "      <th>saldo</th>\n",
       "      <th>pendiente</th>\n",
       "    </tr>\n",
       "  </thead>\n",
       "  <tbody>\n",
       "    <tr>\n",
       "      <th>157</th>\n",
       "      <td>3072</td>\n",
       "      <td>645</td>\n",
       "      <td>MN</td>\n",
       "      <td>83056.0</td>\n",
       "      <td>82966.0</td>\n",
       "      <td>90.0</td>\n",
       "    </tr>\n",
       "  </tbody>\n",
       "</table>\n",
       "</div>"
      ],
      "text/plain": [
       "    invoice  customer_id code    total    saldo  pendiente\n",
       "157    3072          645   MN  83056.0  82966.0       90.0"
      ]
     },
     "execution_count": 43,
     "metadata": {},
     "output_type": "execute_result"
    }
   ],
   "source": [
    "pedidos.loc[pedidos['pendiente']>1,['invoice','customer_id','code','total','saldo','pendiente']]"
   ]
  },
  {
   "cell_type": "code",
   "execution_count": 39,
   "metadata": {},
   "outputs": [
    {
     "data": {
      "text/html": [
       "<div>\n",
       "<style scoped>\n",
       "    .dataframe tbody tr th:only-of-type {\n",
       "        vertical-align: middle;\n",
       "    }\n",
       "\n",
       "    .dataframe tbody tr th {\n",
       "        vertical-align: top;\n",
       "    }\n",
       "\n",
       "    .dataframe thead th {\n",
       "        text-align: right;\n",
       "    }\n",
       "</style>\n",
       "<table border=\"1\" class=\"dataframe\">\n",
       "  <thead>\n",
       "    <tr style=\"text-align: right;\">\n",
       "      <th></th>\n",
       "      <th>id</th>\n",
       "      <th>customer</th>\n",
       "      <th>customer_rfc</th>\n",
       "      <th>customer_state</th>\n",
       "      <th>customer_city</th>\n",
       "      <th>customer_suburb</th>\n",
       "      <th>customer_street</th>\n",
       "      <th>customer_outdoor</th>\n",
       "      <th>customer_indoor</th>\n",
       "      <th>customer_zip_code</th>\n",
       "      <th>...</th>\n",
       "      <th>created_at</th>\n",
       "      <th>updated_at</th>\n",
       "      <th>legal_name</th>\n",
       "      <th>alias</th>\n",
       "      <th>ncomp</th>\n",
       "      <th>clave</th>\n",
       "      <th>regimen_fiscal</th>\n",
       "      <th>pagina_web</th>\n",
       "      <th>curp</th>\n",
       "      <th>nacionalidad</th>\n",
       "    </tr>\n",
       "  </thead>\n",
       "  <tbody>\n",
       "    <tr>\n",
       "      <th>341</th>\n",
       "      <td>645</td>\n",
       "      <td>COMERCIALIZADORA JAVA 2011</td>\n",
       "      <td>CJD110214H29</td>\n",
       "      <td>MEXICO</td>\n",
       "      <td>CDMX</td>\n",
       "      <td>LOMAS DE PADIERNA SUR</td>\n",
       "      <td>PROLONGACION TULUM</td>\n",
       "      <td>MZ 49</td>\n",
       "      <td>LT 23</td>\n",
       "      <td>14740</td>\n",
       "      <td>...</td>\n",
       "      <td>2023-08-18 08:12:41</td>\n",
       "      <td>2023-08-18 08:12:41</td>\n",
       "      <td>S.A. DE C.V.</td>\n",
       "      <td>JAVA 2011</td>\n",
       "      <td>None</td>\n",
       "      <td>350</td>\n",
       "      <td>None</td>\n",
       "      <td>None</td>\n",
       "      <td>None</td>\n",
       "      <td>None</td>\n",
       "    </tr>\n",
       "  </tbody>\n",
       "</table>\n",
       "<p>1 rows × 22 columns</p>\n",
       "</div>"
      ],
      "text/plain": [
       "      id                    customer  customer_rfc customer_state  \\\n",
       "341  645  COMERCIALIZADORA JAVA 2011  CJD110214H29         MEXICO   \n",
       "\n",
       "    customer_city        customer_suburb     customer_street customer_outdoor  \\\n",
       "341          CDMX  LOMAS DE PADIERNA SUR  PROLONGACION TULUM            MZ 49   \n",
       "\n",
       "    customer_indoor customer_zip_code  ...          created_at  \\\n",
       "341           LT 23             14740  ... 2023-08-18 08:12:41   \n",
       "\n",
       "             updated_at    legal_name      alias ncomp clave regimen_fiscal  \\\n",
       "341 2023-08-18 08:12:41  S.A. DE C.V.  JAVA 2011  None   350           None   \n",
       "\n",
       "    pagina_web  curp nacionalidad  \n",
       "341       None  None         None  \n",
       "\n",
       "[1 rows x 22 columns]"
      ]
     },
     "execution_count": 39,
     "metadata": {},
     "output_type": "execute_result"
    }
   ],
   "source": [
    "clientes[clientes['id']==645]"
   ]
  },
  {
   "cell_type": "code",
   "execution_count": 44,
   "metadata": {},
   "outputs": [
    {
     "data": {
      "text/plain": [
       "380"
      ]
     },
     "execution_count": 44,
     "metadata": {},
     "output_type": "execute_result"
    }
   ],
   "source": [
    "len(cobros)"
   ]
  },
  {
   "cell_type": "code",
   "execution_count": 45,
   "metadata": {},
   "outputs": [],
   "source": [
    "cobros=cobros.loc[cobros['order_id'].isin(pedidos['id'].unique())]"
   ]
  },
  {
   "cell_type": "code",
   "execution_count": 21,
   "metadata": {},
   "outputs": [
    {
     "data": {
      "text/html": [
       "<div>\n",
       "<style scoped>\n",
       "    .dataframe tbody tr th:only-of-type {\n",
       "        vertical-align: middle;\n",
       "    }\n",
       "\n",
       "    .dataframe tbody tr th {\n",
       "        vertical-align: top;\n",
       "    }\n",
       "\n",
       "    .dataframe thead th {\n",
       "        text-align: right;\n",
       "    }\n",
       "</style>\n",
       "<table border=\"1\" class=\"dataframe\">\n",
       "  <thead>\n",
       "    <tr style=\"text-align: right;\">\n",
       "      <th></th>\n",
       "      <th>id</th>\n",
       "      <th>customer</th>\n",
       "      <th>customer_rfc</th>\n",
       "      <th>customer_state</th>\n",
       "      <th>customer_city</th>\n",
       "      <th>customer_suburb</th>\n",
       "      <th>customer_street</th>\n",
       "      <th>customer_outdoor</th>\n",
       "      <th>customer_indoor</th>\n",
       "      <th>customer_zip_code</th>\n",
       "      <th>...</th>\n",
       "      <th>created_at</th>\n",
       "      <th>updated_at</th>\n",
       "      <th>legal_name</th>\n",
       "      <th>alias</th>\n",
       "      <th>ncomp</th>\n",
       "      <th>clave</th>\n",
       "      <th>regimen_fiscal</th>\n",
       "      <th>pagina_web</th>\n",
       "      <th>curp</th>\n",
       "      <th>nacionalidad</th>\n",
       "    </tr>\n",
       "  </thead>\n",
       "  <tbody>\n",
       "    <tr>\n",
       "      <th>0</th>\n",
       "      <td>297</td>\n",
       "      <td>GALLETAS DE CALIDAD S.A.de C.V.</td>\n",
       "      <td>GCA690815R94</td>\n",
       "      <td>CIUDAD DE MEXICO</td>\n",
       "      <td>AZCAPOTZALCO</td>\n",
       "      <td>COLTONGO</td>\n",
       "      <td>PONIENTE 122</td>\n",
       "      <td>489</td>\n",
       "      <td>0</td>\n",
       "      <td>2630.</td>\n",
       "      <td>...</td>\n",
       "      <td>NaT</td>\n",
       "      <td>NaT</td>\n",
       "      <td>POR ASIGNAR</td>\n",
       "      <td>GALLETAS DE CALIDAD S.A.de C.V.</td>\n",
       "      <td>None</td>\n",
       "      <td>179</td>\n",
       "      <td>0.0</td>\n",
       "      <td>http://www.marian.com.mx/web/</td>\n",
       "      <td>0</td>\n",
       "      <td>MEXICANA</td>\n",
       "    </tr>\n",
       "    <tr>\n",
       "      <th>1</th>\n",
       "      <td>298</td>\n",
       "      <td>CASA DIAZ MAQUINAS DE COCER S.A. DE C.V.</td>\n",
       "      <td>CDM760124C85</td>\n",
       "      <td>CD DE MEXICO</td>\n",
       "      <td>CUCUTHEMOC</td>\n",
       "      <td>OBRERA</td>\n",
       "      <td>FRAY SERVANDO TERESA DE MIER</td>\n",
       "      <td>29</td>\n",
       "      <td>0</td>\n",
       "      <td>6800.</td>\n",
       "      <td>...</td>\n",
       "      <td>NaT</td>\n",
       "      <td>NaT</td>\n",
       "      <td>POR ASIGNAR</td>\n",
       "      <td>CASA DIAZ MAQUINAS DE COCER S.A. DE C.V.</td>\n",
       "      <td>None</td>\n",
       "      <td>191</td>\n",
       "      <td>0.0</td>\n",
       "      <td>CASADIAZ..COM.MX</td>\n",
       "      <td>0</td>\n",
       "      <td>MEXICANA</td>\n",
       "    </tr>\n",
       "    <tr>\n",
       "      <th>2</th>\n",
       "      <td>299</td>\n",
       "      <td>LO</td>\n",
       "      <td>0</td>\n",
       "      <td>0</td>\n",
       "      <td>0</td>\n",
       "      <td>0</td>\n",
       "      <td>0</td>\n",
       "      <td>0</td>\n",
       "      <td>0</td>\n",
       "      <td>0.0</td>\n",
       "      <td>...</td>\n",
       "      <td>NaT</td>\n",
       "      <td>NaT</td>\n",
       "      <td>POR ASIGNAR</td>\n",
       "      <td>LO</td>\n",
       "      <td>None</td>\n",
       "      <td>160</td>\n",
       "      <td>0.0</td>\n",
       "      <td>0</td>\n",
       "      <td>0</td>\n",
       "      <td>0</td>\n",
       "    </tr>\n",
       "    <tr>\n",
       "      <th>3</th>\n",
       "      <td>300</td>\n",
       "      <td>FINANMADRID MEXICO</td>\n",
       "      <td>FME050125MS0</td>\n",
       "      <td>CIUDAD DE MEXICO</td>\n",
       "      <td>MIGUEL HIDALGO</td>\n",
       "      <td>LOMAS DE CHAPULTEPEC 1 SECCION</td>\n",
       "      <td>BLVD MANUEL AVILA CAMACHO</td>\n",
       "      <td>P 4 Y 5</td>\n",
       "      <td>0</td>\n",
       "      <td>11000</td>\n",
       "      <td>...</td>\n",
       "      <td>NaT</td>\n",
       "      <td>NaT</td>\n",
       "      <td>POR ASIGNAR</td>\n",
       "      <td>FINANMADRID MEXICO</td>\n",
       "      <td>None</td>\n",
       "      <td>161</td>\n",
       "      <td>0.0</td>\n",
       "      <td>0</td>\n",
       "      <td>0</td>\n",
       "      <td>0</td>\n",
       "    </tr>\n",
       "    <tr>\n",
       "      <th>4</th>\n",
       "      <td>301</td>\n",
       "      <td>COMERCIALIZADORA KELLY S.A. DE C.V.</td>\n",
       "      <td>CKE051019KG1</td>\n",
       "      <td>MEXICO</td>\n",
       "      <td>NAUCALPAN DE JUAREZ</td>\n",
       "      <td>LOMAS DE TECAMACHALCO SECCION FUENTES</td>\n",
       "      <td>FUENTES DE PIRAMIDES</td>\n",
       "      <td>1</td>\n",
       "      <td>604</td>\n",
       "      <td>53950</td>\n",
       "      <td>...</td>\n",
       "      <td>NaT</td>\n",
       "      <td>NaT</td>\n",
       "      <td>POR ASIGNAR</td>\n",
       "      <td>COMERCIALIZADORA KELLY S.A. DE C.V.</td>\n",
       "      <td>None</td>\n",
       "      <td>119</td>\n",
       "      <td>0.0</td>\n",
       "      <td>0</td>\n",
       "      <td>0</td>\n",
       "      <td>MEXICANA</td>\n",
       "    </tr>\n",
       "    <tr>\n",
       "      <th>...</th>\n",
       "      <td>...</td>\n",
       "      <td>...</td>\n",
       "      <td>...</td>\n",
       "      <td>...</td>\n",
       "      <td>...</td>\n",
       "      <td>...</td>\n",
       "      <td>...</td>\n",
       "      <td>...</td>\n",
       "      <td>...</td>\n",
       "      <td>...</td>\n",
       "      <td>...</td>\n",
       "      <td>...</td>\n",
       "      <td>...</td>\n",
       "      <td>...</td>\n",
       "      <td>...</td>\n",
       "      <td>...</td>\n",
       "      <td>...</td>\n",
       "      <td>...</td>\n",
       "      <td>...</td>\n",
       "      <td>...</td>\n",
       "      <td>...</td>\n",
       "    </tr>\n",
       "    <tr>\n",
       "      <th>351</th>\n",
       "      <td>655</td>\n",
       "      <td>MAS BODEGA Y LOGISTICA</td>\n",
       "      <td>CCA030408D46</td>\n",
       "      <td>NUEVO LEON</td>\n",
       "      <td>NUEVO LEON</td>\n",
       "      <td>PARQUE INDUSTRIAL KALOS</td>\n",
       "      <td>CARR CUOTA MONTERREY REYNOSA</td>\n",
       "      <td>9650</td>\n",
       "      <td>a</td>\n",
       "      <td>67110</td>\n",
       "      <td>...</td>\n",
       "      <td>2023-10-05 10:32:08</td>\n",
       "      <td>2023-10-05 10:32:08</td>\n",
       "      <td>S.A. DE C.V.</td>\n",
       "      <td>MAS BODEGA Y LOGISTICA</td>\n",
       "      <td>None</td>\n",
       "      <td>359</td>\n",
       "      <td>None</td>\n",
       "      <td>None</td>\n",
       "      <td>None</td>\n",
       "      <td>None</td>\n",
       "    </tr>\n",
       "    <tr>\n",
       "      <th>352</th>\n",
       "      <td>656</td>\n",
       "      <td>PASE LOGISTICA</td>\n",
       "      <td>PLO220308375</td>\n",
       "      <td>MEXICO</td>\n",
       "      <td>CDMX</td>\n",
       "      <td>INDUSTRIAL VALLEJO</td>\n",
       "      <td>PONIENTE 146</td>\n",
       "      <td>603</td>\n",
       "      <td>None</td>\n",
       "      <td>02300</td>\n",
       "      <td>...</td>\n",
       "      <td>2023-10-10 04:38:52</td>\n",
       "      <td>2023-10-10 04:38:52</td>\n",
       "      <td>S.A. DE C.V.</td>\n",
       "      <td>PASE</td>\n",
       "      <td>None</td>\n",
       "      <td>360</td>\n",
       "      <td>None</td>\n",
       "      <td>None</td>\n",
       "      <td>None</td>\n",
       "      <td>None</td>\n",
       "    </tr>\n",
       "    <tr>\n",
       "      <th>353</th>\n",
       "      <td>657</td>\n",
       "      <td>EXCEL NOBLEZA</td>\n",
       "      <td>ENO940203NY2</td>\n",
       "      <td>PUEBLA</td>\n",
       "      <td>PUEBLA</td>\n",
       "      <td>TEPANCO DE LOPEZ</td>\n",
       "      <td>CARR FEDERAL PUEBLA-TEHUACAN</td>\n",
       "      <td>101</td>\n",
       "      <td>None</td>\n",
       "      <td>75800</td>\n",
       "      <td>...</td>\n",
       "      <td>2023-10-20 11:06:38</td>\n",
       "      <td>2023-10-20 11:06:38</td>\n",
       "      <td>S DE R.L DE C.V.</td>\n",
       "      <td>EXCEL NOBLEZA</td>\n",
       "      <td>None</td>\n",
       "      <td>361</td>\n",
       "      <td>None</td>\n",
       "      <td>None</td>\n",
       "      <td>None</td>\n",
       "      <td>None</td>\n",
       "    </tr>\n",
       "    <tr>\n",
       "      <th>354</th>\n",
       "      <td>658</td>\n",
       "      <td>CROWN GAMING MEXICO</td>\n",
       "      <td>CGM100309IL8</td>\n",
       "      <td>MEXICO</td>\n",
       "      <td>CDMX</td>\n",
       "      <td>POLANCO</td>\n",
       "      <td>MONTE ELBRUZ</td>\n",
       "      <td>132</td>\n",
       "      <td>804</td>\n",
       "      <td>11530</td>\n",
       "      <td>...</td>\n",
       "      <td>2023-10-24 05:34:53</td>\n",
       "      <td>2023-10-24 05:34:53</td>\n",
       "      <td>FISICA CAEYP</td>\n",
       "      <td>CROWN GAMING MEXICO</td>\n",
       "      <td>None</td>\n",
       "      <td>364</td>\n",
       "      <td>None</td>\n",
       "      <td>None</td>\n",
       "      <td>None</td>\n",
       "      <td>None</td>\n",
       "    </tr>\n",
       "    <tr>\n",
       "      <th>355</th>\n",
       "      <td>659</td>\n",
       "      <td>BEE BAGS</td>\n",
       "      <td>BBA160219M45</td>\n",
       "      <td>MEXICO</td>\n",
       "      <td>CDMX</td>\n",
       "      <td>SAN DIEGO CHURUBUSCO</td>\n",
       "      <td>CALZADA DE TLALPAN</td>\n",
       "      <td>1687</td>\n",
       "      <td>None</td>\n",
       "      <td>04120</td>\n",
       "      <td>...</td>\n",
       "      <td>2023-10-24 06:36:52</td>\n",
       "      <td>2023-10-24 06:36:52</td>\n",
       "      <td>S.A. DE C.V.</td>\n",
       "      <td>BEE BAGS</td>\n",
       "      <td>None</td>\n",
       "      <td>363</td>\n",
       "      <td>None</td>\n",
       "      <td>None</td>\n",
       "      <td>None</td>\n",
       "      <td>None</td>\n",
       "    </tr>\n",
       "  </tbody>\n",
       "</table>\n",
       "<p>356 rows × 22 columns</p>\n",
       "</div>"
      ],
      "text/plain": [
       "      id                                  customer  customer_rfc  \\\n",
       "0    297           GALLETAS DE CALIDAD S.A.de C.V.  GCA690815R94   \n",
       "1    298  CASA DIAZ MAQUINAS DE COCER S.A. DE C.V.  CDM760124C85   \n",
       "2    299                                        LO             0   \n",
       "3    300                        FINANMADRID MEXICO  FME050125MS0   \n",
       "4    301       COMERCIALIZADORA KELLY S.A. DE C.V.  CKE051019KG1   \n",
       "..   ...                                       ...           ...   \n",
       "351  655                    MAS BODEGA Y LOGISTICA  CCA030408D46   \n",
       "352  656                            PASE LOGISTICA  PLO220308375   \n",
       "353  657                             EXCEL NOBLEZA  ENO940203NY2   \n",
       "354  658                       CROWN GAMING MEXICO  CGM100309IL8   \n",
       "355  659                                  BEE BAGS  BBA160219M45   \n",
       "\n",
       "       customer_state         customer_city  \\\n",
       "0    CIUDAD DE MEXICO          AZCAPOTZALCO   \n",
       "1        CD DE MEXICO            CUCUTHEMOC   \n",
       "2                   0                     0   \n",
       "3    CIUDAD DE MEXICO        MIGUEL HIDALGO   \n",
       "4              MEXICO   NAUCALPAN DE JUAREZ   \n",
       "..                ...                   ...   \n",
       "351        NUEVO LEON            NUEVO LEON   \n",
       "352            MEXICO                  CDMX   \n",
       "353            PUEBLA                PUEBLA   \n",
       "354            MEXICO                  CDMX   \n",
       "355            MEXICO                  CDMX   \n",
       "\n",
       "                           customer_suburb               customer_street  \\\n",
       "0                                 COLTONGO                  PONIENTE 122   \n",
       "1                                   OBRERA  FRAY SERVANDO TERESA DE MIER   \n",
       "2                                        0                             0   \n",
       "3           LOMAS DE CHAPULTEPEC 1 SECCION     BLVD MANUEL AVILA CAMACHO   \n",
       "4    LOMAS DE TECAMACHALCO SECCION FUENTES          FUENTES DE PIRAMIDES   \n",
       "..                                     ...                           ...   \n",
       "351                PARQUE INDUSTRIAL KALOS  CARR CUOTA MONTERREY REYNOSA   \n",
       "352                     INDUSTRIAL VALLEJO                  PONIENTE 146   \n",
       "353                       TEPANCO DE LOPEZ  CARR FEDERAL PUEBLA-TEHUACAN   \n",
       "354                                POLANCO                  MONTE ELBRUZ   \n",
       "355                   SAN DIEGO CHURUBUSCO            CALZADA DE TLALPAN   \n",
       "\n",
       "    customer_outdoor customer_indoor customer_zip_code  ...  \\\n",
       "0                489               0             2630.  ...   \n",
       "1                 29               0             6800.  ...   \n",
       "2                  0               0               0.0  ...   \n",
       "3            P 4 Y 5               0             11000  ...   \n",
       "4                  1             604             53950  ...   \n",
       "..               ...             ...               ...  ...   \n",
       "351             9650               a             67110  ...   \n",
       "352              603            None             02300  ...   \n",
       "353              101            None             75800  ...   \n",
       "354              132             804             11530  ...   \n",
       "355             1687            None             04120  ...   \n",
       "\n",
       "             created_at          updated_at        legal_name  \\\n",
       "0                   NaT                 NaT       POR ASIGNAR   \n",
       "1                   NaT                 NaT       POR ASIGNAR   \n",
       "2                   NaT                 NaT       POR ASIGNAR   \n",
       "3                   NaT                 NaT       POR ASIGNAR   \n",
       "4                   NaT                 NaT       POR ASIGNAR   \n",
       "..                  ...                 ...               ...   \n",
       "351 2023-10-05 10:32:08 2023-10-05 10:32:08      S.A. DE C.V.   \n",
       "352 2023-10-10 04:38:52 2023-10-10 04:38:52      S.A. DE C.V.   \n",
       "353 2023-10-20 11:06:38 2023-10-20 11:06:38  S DE R.L DE C.V.   \n",
       "354 2023-10-24 05:34:53 2023-10-24 05:34:53      FISICA CAEYP   \n",
       "355 2023-10-24 06:36:52 2023-10-24 06:36:52      S.A. DE C.V.   \n",
       "\n",
       "                                        alias ncomp       clave  \\\n",
       "0             GALLETAS DE CALIDAD S.A.de C.V.  None         179   \n",
       "1    CASA DIAZ MAQUINAS DE COCER S.A. DE C.V.  None         191   \n",
       "2                                          LO  None         160   \n",
       "3                          FINANMADRID MEXICO  None         161   \n",
       "4         COMERCIALIZADORA KELLY S.A. DE C.V.  None         119   \n",
       "..                                        ...   ...         ...   \n",
       "351                    MAS BODEGA Y LOGISTICA  None         359   \n",
       "352                                      PASE  None         360   \n",
       "353                             EXCEL NOBLEZA  None         361   \n",
       "354                       CROWN GAMING MEXICO  None         364   \n",
       "355                                  BEE BAGS  None         363   \n",
       "\n",
       "    regimen_fiscal                     pagina_web  curp nacionalidad  \n",
       "0              0.0  http://www.marian.com.mx/web/     0     MEXICANA  \n",
       "1              0.0               CASADIAZ..COM.MX     0     MEXICANA  \n",
       "2              0.0                              0     0            0  \n",
       "3              0.0                              0     0            0  \n",
       "4              0.0                              0     0     MEXICANA  \n",
       "..             ...                            ...   ...          ...  \n",
       "351           None                           None  None         None  \n",
       "352           None                           None  None         None  \n",
       "353           None                           None  None         None  \n",
       "354           None                           None  None         None  \n",
       "355           None                           None  None         None  \n",
       "\n",
       "[356 rows x 22 columns]"
      ]
     },
     "execution_count": 21,
     "metadata": {},
     "output_type": "execute_result"
    }
   ],
   "source": [
    "clientes"
   ]
  },
  {
   "cell_type": "code",
   "execution_count": 54,
   "metadata": {},
   "outputs": [],
   "source": [
    "cobros=cobros.merge(pedidos[['id','code']].rename(columns={'id':'order_id'}),how='inner',on='order_id')"
   ]
  },
  {
   "cell_type": "code",
   "execution_count": 3,
   "metadata": {},
   "outputs": [],
   "source": [
    "import sys\n",
    "import mysql.connector\n",
    "import xlsxwriter\n",
    "import pandas as pd\n",
    "import sys\n",
    "import mysql.connector\n",
    "import os\n",
    "from dotenv import load_dotenv\n",
    "load_dotenv()\n",
    "#ESTE ARGUMENTO NO SE USA EN ESTE REPORTE, SERÁ 0 SIEMPRE UWU\n",
    "id=0\n",
    "#configurar la conexion a la base de datos\n",
    "DB_USERNAME = os.getenv('DB_USERNAME')\n",
    "DB_DATABASE = os.getenv('DB_DATABASE')\n",
    "DB_PASSWORD = os.getenv('DB_PASSWORD')\n",
    "DB_PORT = os.getenv('DB_PORT')\n",
    "\n",
    "a_color='#354F84'\n",
    "b_color='#91959E'\n",
    "# Conectar a DB\n",
    "cnx = mysql.connector.connect(user=DB_USERNAME,\n",
    "                              password=DB_PASSWORD,\n",
    "                              host='localhost',\n",
    "                              port=DB_PORT,\n",
    "                              database=DB_DATABASE,\n",
    "                              use_pure=False)"
   ]
  },
  {
   "cell_type": "code",
   "execution_count": 4,
   "metadata": {},
   "outputs": [
    {
     "name": "stderr",
     "output_type": "stream",
     "text": [
      "C:\\Users\\hp\\AppData\\Local\\Temp\\ipykernel_6360\\1704707114.py:2: UserWarning: pandas only supports SQLAlchemy connectable (engine/connection) or database string URI or sqlite3 DBAPI2 connection. Other DBAPI2 objects are not tested. Please consider using SQLAlchemy.\n",
      "  pedidos=pd.read_sql(\"\"\"Select internal_orders.* ,customers.clave,customers.alias,\n"
     ]
    },
    {
     "name": "stderr",
     "output_type": "stream",
     "text": [
      "C:\\Users\\hp\\AppData\\Local\\Temp\\ipykernel_6360\\1704707114.py:9: UserWarning: pandas only supports SQLAlchemy connectable (engine/connection) or database string URI or sqlite3 DBAPI2 connection. Other DBAPI2 objects are not tested. Please consider using SQLAlchemy.\n",
      "  cobros=pd.read_sql(\"\"\"select cobro_orders.*\n",
      "C:\\Users\\hp\\AppData\\Local\\Temp\\ipykernel_6360\\1704707114.py:15: UserWarning: pandas only supports SQLAlchemy connectable (engine/connection) or database string URI or sqlite3 DBAPI2 connection. Other DBAPI2 objects are not tested. Please consider using SQLAlchemy.\n",
      "  facturas=pd.read_sql(\"\"\"select *\n",
      "C:\\Users\\hp\\AppData\\Local\\Temp\\ipykernel_6360\\1704707114.py:20: UserWarning: pandas only supports SQLAlchemy connectable (engine/connection) or database string URI or sqlite3 DBAPI2 connection. Other DBAPI2 objects are not tested. Please consider using SQLAlchemy.\n",
      "  creditos=pd.read_sql(\"\"\"select *\n"
     ]
    }
   ],
   "source": [
    "\n",
    "#traer datos de los pedidos\n",
    "pedidos=pd.read_sql(\"\"\"Select internal_orders.* ,customers.clave,customers.alias,\n",
    "coins.exchange_sell, coins.coin, coins.symbol, coins.code\n",
    "from ((\n",
    "    internal_orders\n",
    "    inner join customers on customers.id = internal_orders.customer_id )\n",
    "    inner join coins on internal_orders.coin_id = coins.id)\n",
    "     \"\"\",cnx)\n",
    "cobros=pd.read_sql(\"\"\"select cobro_orders.*\n",
    "                     from (((\n",
    "                         cobro_orders \n",
    "    inner join cobros on cobros.id=cobro_orders.cobro_id)\n",
    "    inner join internal_orders on internal_orders.id = cobros.order_id )\n",
    "    inner join coins on internal_orders.coin_id = coins.id) \"\"\",cnx)\n",
    "facturas=pd.read_sql(\"\"\"select * \n",
    "                     from ((\n",
    "                         factures\n",
    "    inner join internal_orders on internal_orders.id = factures.order_id )\n",
    "    inner join coins on internal_orders.coin_id = coins.id) \"\"\",cnx)\n",
    "creditos=pd.read_sql(\"\"\"select * \n",
    "                     from ((\n",
    "                         credit_notes    inner join internal_orders on internal_orders.id = credit_notes.order_id )\n",
    "    inner join coins on internal_orders.coin_id = coins.id) \"\"\",cnx)"
   ]
  },
  {
   "cell_type": "code",
   "execution_count": 5,
   "metadata": {},
   "outputs": [
    {
     "name": "stdout",
     "output_type": "stream",
     "text": [
      "here\n",
      "here\n",
      "here\n",
      "here\n",
      "here\n",
      "here\n",
      "here\n",
      "here\n",
      "here\n",
      "here\n",
      "here\n",
      "here\n",
      "here\n",
      "here\n",
      "here\n",
      "here\n"
     ]
    }
   ],
   "source": [
    "\n",
    "#Agregar columna con saldo en los cobros\n",
    "pedidos=pedidos.assign(saldo=0.0)\n",
    "for i in range(len(pedidos)):\n",
    "    pedidos['saldo'].values[i]=cobros.loc[cobros['order_id']==pedidos['id'].values[i],'amount'].sum()\n",
    "    if(cobros.loc[cobros['order_id']==pedidos['id'].values[i],'amount'].sum()<=1):\n",
    "        print('here')\n",
    "\n",
    "pedidosv=pedidos.loc[pedidos['total']-pedidos['saldo']>1]"
   ]
  },
  {
   "cell_type": "code",
   "execution_count": 18,
   "metadata": {},
   "outputs": [
    {
     "data": {
      "text/plain": [
       "87471524.31000002"
      ]
     },
     "execution_count": 18,
     "metadata": {},
     "output_type": "execute_result"
    }
   ],
   "source": [
    "pedidosv['total'].sum()/1.16"
   ]
  },
  {
   "cell_type": "code",
   "execution_count": 16,
   "metadata": {},
   "outputs": [
    {
     "data": {
      "text/plain": [
       "69671666.55172414"
      ]
     },
     "execution_count": 16,
     "metadata": {},
     "output_type": "execute_result"
    }
   ],
   "source": [
    "pedidos['saldo'].sum()/1.16-pedidosv['saldo'].sum()/1.16"
   ]
  },
  {
   "cell_type": "code",
   "execution_count": 17,
   "metadata": {},
   "outputs": [
    {
     "data": {
      "text/plain": [
       "array([3.56120000e+05, 3.19000000e+03, 4.97253628e+07, 0.00000000e+00,\n",
       "       8.28800300e+04, 1.96063200e+05, 6.61124600e+04, 3.55500000e+05,\n",
       "       6.43057600e+04, 7.58222400e+04, 5.69826800e+05, 2.04485765e+06,\n",
       "       6.59078700e+04, 8.90079600e+04, 1.61042800e+05, 2.53296440e+05,\n",
       "       1.73427308e+06, 6.15960000e+05, 7.95600000e+05, 5.34778560e+06,\n",
       "       5.15620010e+05, 9.21967820e+05, 4.47892720e+05, 3.82110960e+05,\n",
       "       2.20800000e+05, 3.45847481e+06, 1.07479790e+05, 2.29680000e+05,\n",
       "       2.45920000e+05, 5.32620200e+05, 2.25472680e+06, 1.04452316e+06,\n",
       "       3.14360000e+04, 4.79080000e+04, 8.50036400e+04, 7.65368000e+05,\n",
       "       1.76650955e+06, 2.43600000e+04, 6.95884000e+05, 2.20745680e+05,\n",
       "       4.52269330e+05, 2.22140000e+05, 1.45116000e+04, 8.68840000e+04,\n",
       "       3.91268000e+05, 3.12968000e+05, 4.03680000e+04, 6.50040000e+04,\n",
       "       7.17460000e+05, 1.58920000e+04, 6.02620000e+05, 3.07139280e+06,\n",
       "       2.47080000e+03, 1.00340000e+06, 8.11153200e+04, 6.49252000e+05,\n",
       "       9.29740000e+05, 5.06920000e+04, 3.56410000e+05, 2.52880000e+04,\n",
       "       1.50423000e+04, 9.64737200e+04, 6.42060000e+05, 5.00472720e+06,\n",
       "       6.49600000e+03, 2.91648360e+05, 1.68687000e+03, 2.17065000e+06,\n",
       "       4.83998400e+05, 3.21552000e+04, 1.20000000e+05, 3.69170000e+04,\n",
       "       9.52128000e+05, 1.26500960e+06, 9.95883200e+04, 3.74100000e+05,\n",
       "       1.70148800e+05, 6.74333636e+06, 4.71388300e+04, 6.46816000e+04,\n",
       "       5.48413200e+05, 3.19074588e+06, 2.20400000e+04, 8.18960000e+05,\n",
       "       1.78640000e+04, 1.57156800e+06, 2.49400000e+04, 2.43484000e+05,\n",
       "       1.37233800e+05, 1.46465080e+05, 5.10864000e+05, 1.05268144e+06,\n",
       "       3.89760000e+03, 5.42880000e+03, 1.72648136e+06, 1.80844000e+05,\n",
       "       1.90124000e+05, 1.30859600e+06, 5.90440000e+04, 1.86587028e+06,\n",
       "       3.01600000e+04, 4.53812800e+04, 9.41920000e+04, 4.98637600e+04,\n",
       "       4.67712000e+03, 7.48200000e+04, 2.40932000e+05, 2.08800000e+04,\n",
       "       1.12697160e+05, 1.12000000e+04, 2.10714000e+04, 5.35920000e+04,\n",
       "       1.24004000e+05, 4.52052000e+05, 6.07117320e+05, 5.82784000e+04,\n",
       "       6.53080000e+04, 5.81160000e+04, 5.80000000e+04, 2.29146400e+06,\n",
       "       2.04966200e+05, 4.21080000e+04, 5.27104000e+05, 1.17856000e+05,\n",
       "       2.71440000e+04, 7.23550000e+05, 5.57960000e+04, 1.43724000e+05,\n",
       "       9.92496000e+04, 1.16863794e+06, 1.38992522e+06, 6.80920000e+04,\n",
       "       2.19391119e+06, 2.91160000e+04, 1.29815600e+04, 7.00000000e+05,\n",
       "       2.22024000e+05, 2.25272000e+06, 3.72812400e+04, 1.26440000e+06,\n",
       "       9.32363920e+05, 9.74400000e+04, 5.28380000e+05, 1.79684010e+05,\n",
       "       8.10898000e+04, 1.17071840e+05, 2.21212000e+05, 2.45456000e+05,\n",
       "       1.65139080e+05, 3.38010080e+05, 5.79131210e+05, 1.32240000e+05,\n",
       "       6.08942000e+04, 8.29660000e+04, 8.16029820e+05, 2.91740000e+05,\n",
       "       1.85270330e+05, 3.05473360e+05, 4.55880000e+04, 1.91640820e+05,\n",
       "       1.04116463e+06, 2.07280548e+06, 9.41108000e+04, 1.95825400e+05,\n",
       "       6.76755600e+04, 8.19435600e+05, 8.24342400e+04, 2.70018000e+05,\n",
       "       4.55160800e+05, 1.62168000e+05, 1.86528000e+05, 8.31720000e+04,\n",
       "       8.83108000e+04, 1.97200000e+04, 5.94353840e+05, 1.94800000e+06,\n",
       "       1.64513984e+06, 3.37014800e+04, 1.12520000e+04, 3.64240000e+04,\n",
       "       1.17624000e+05, 1.10200000e+05, 5.45316000e+05, 2.36465770e+05,\n",
       "       1.39200000e+06, 8.82760000e+04, 1.00662376e+06, 2.29819200e+05,\n",
       "       5.63760000e+05, 2.23068000e+05, 5.42400900e+04, 3.68903060e+05,\n",
       "       4.63257600e+04, 8.24180000e+04, 4.11486900e+04, 7.89208400e+04,\n",
       "       2.73760000e+04, 5.04043200e+04, 4.29617600e+04, 1.63894080e+05,\n",
       "       1.40360000e+04, 1.10507400e+06, 1.73826000e+05, 9.04800000e+03,\n",
       "       4.00432000e+05, 2.07408000e+05, 1.59210000e+04, 1.45754000e+05,\n",
       "       2.50371500e+05, 5.21536000e+04, 1.62446400e+04, 5.27498400e+04,\n",
       "       2.81480380e+05, 6.71640000e+04, 1.50667760e+05])"
      ]
     },
     "execution_count": 17,
     "metadata": {},
     "output_type": "execute_result"
    }
   ],
   "source": [
    "pedidos"
   ]
  },
  {
   "cell_type": "code",
   "execution_count": 28,
   "metadata": {},
   "outputs": [
    {
     "data": {
      "text/plain": [
       "20860816.672068976"
      ]
     },
     "execution_count": 28,
     "metadata": {},
     "output_type": "execute_result"
    }
   ],
   "source": [
    "#x cobrar vig\n",
    "(pedidosv['total'].sum()-pedidosv['saldo'].sum())/1.16"
   ]
  },
  {
   "cell_type": "code",
   "execution_count": 31,
   "metadata": {},
   "outputs": [
    {
     "data": {
      "text/plain": [
       "20020865.300689638"
      ]
     },
     "execution_count": 31,
     "metadata": {},
     "output_type": "execute_result"
    }
   ],
   "source": [
    "#x cobrar todo\n",
    "(pedidos['total'].sum()-pedidos['saldo'].sum())/1.16"
   ]
  },
  {
   "cell_type": "code",
   "execution_count": 33,
   "metadata": {},
   "outputs": [
    {
     "data": {
      "text/plain": [
       "-839951.3713792994"
      ]
     },
     "execution_count": 33,
     "metadata": {},
     "output_type": "execute_result"
    }
   ],
   "source": [
    "\n",
    "(pedidosc['total'].sum()-pedidosc['saldo'].sum())/1.16"
   ]
  },
  {
   "cell_type": "code",
   "execution_count": 7,
   "metadata": {},
   "outputs": [],
   "source": [
    "pedidos_interes=pedidosc.loc[pedidosc['total']<pedidosc['saldo']]"
   ]
  },
  {
   "cell_type": "code",
   "execution_count": 6,
   "metadata": {},
   "outputs": [],
   "source": [
    "pedidosc=pedidos.loc[pedidos['total']-pedidos['saldo']<=1]"
   ]
  },
  {
   "cell_type": "code",
   "execution_count": 41,
   "metadata": {},
   "outputs": [
    {
     "ename": "NameError",
     "evalue": "name 'decimal' is not defined",
     "output_type": "error",
     "traceback": [
      "\u001b[1;31m---------------------------------------------------------------------------\u001b[0m",
      "\u001b[1;31mNameError\u001b[0m                                 Traceback (most recent call last)",
      "\u001b[1;32mc:\\xampp\\htdocs\\admintyrsa2\\tyrsaAdmin\\public\\migracion.ipynb Cell 59\u001b[0m line \u001b[0;36m<cell line: 1>\u001b[1;34m()\u001b[0m\n\u001b[1;32m----> <a href='vscode-notebook-cell:/c%3A/xampp/htdocs/admintyrsa2/tyrsaAdmin/public/migracion.ipynb#Y111sZmlsZQ%3D%3D?line=0'>1</a>\u001b[0m pedidos_interes[\u001b[39m'\u001b[39m\u001b[39mtotal\u001b[39m\u001b[39m'\u001b[39m]\u001b[39m=\u001b[39mpedidos_interes[\u001b[39m'\u001b[39m\u001b[39mtotal\u001b[39m\u001b[39m'\u001b[39m]\u001b[39m.\u001b[39mastype(decimal)\n",
      "\u001b[1;31mNameError\u001b[0m: name 'decimal' is not defined"
     ]
    }
   ],
   "source": [
    "pedidos_interes['total']=pedidos_interes['total'].astype(decimal)"
   ]
  },
  {
   "cell_type": "code",
   "execution_count": 11,
   "metadata": {},
   "outputs": [
    {
     "data": {
      "text/plain": [
       "-839951.6203448273"
      ]
     },
     "execution_count": 11,
     "metadata": {},
     "output_type": "execute_result"
    }
   ],
   "source": [
    "(pedidos_interes['total'].sum()-pedidos_interes['saldo'].sum())/1.16\n"
   ]
  },
  {
   "cell_type": "code",
   "execution_count": null,
   "metadata": {},
   "outputs": [],
   "source": []
  }
 ],
 "metadata": {
  "kernelspec": {
   "display_name": "Python 3",
   "language": "python",
   "name": "python3"
  },
  "language_info": {
   "codemirror_mode": {
    "name": "ipython",
    "version": 3
   },
   "file_extension": ".py",
   "mimetype": "text/x-python",
   "name": "python",
   "nbconvert_exporter": "python",
   "pygments_lexer": "ipython3",
   "version": "3.10.7"
  },
  "orig_nbformat": 4,
  "vscode": {
   "interpreter": {
    "hash": "369f2c481f4da34e4445cda3fffd2e751bd1c4d706f27375911949ba6bb62e1c"
   }
  }
 },
 "nbformat": 4,
 "nbformat_minor": 2
}
