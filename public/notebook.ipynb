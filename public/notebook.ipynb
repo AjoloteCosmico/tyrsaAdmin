{
 "cells": [
  {
   "cell_type": "code",
   "execution_count": 4,
   "metadata": {},
   "outputs": [
    {
     "name": "stderr",
     "output_type": "stream",
     "text": [
      "c:\\Users\\fgonzalez\\AppData\\Local\\Programs\\Python\\Python310\\lib\\site-packages\\pandas\\io\\sql.py:762: UserWarning: pandas only support SQLAlchemy connectable(engine/connection) ordatabase string URI or sqlite3 DBAPI2 connectionother DBAPI2 objects are not tested, please consider using SQLAlchemy\n",
      "  warnings.warn(\n",
      "c:\\Users\\fgonzalez\\AppData\\Local\\Programs\\Python\\Python310\\lib\\site-packages\\pandas\\io\\sql.py:762: UserWarning: pandas only support SQLAlchemy connectable(engine/connection) ordatabase string URI or sqlite3 DBAPI2 connectionother DBAPI2 objects are not tested, please consider using SQLAlchemy\n",
      "  warnings.warn(\n",
      "c:\\Users\\fgonzalez\\AppData\\Local\\Programs\\Python\\Python310\\lib\\site-packages\\pandas\\io\\sql.py:762: UserWarning: pandas only support SQLAlchemy connectable(engine/connection) ordatabase string URI or sqlite3 DBAPI2 connectionother DBAPI2 objects are not tested, please consider using SQLAlchemy\n",
      "  warnings.warn(\n",
      "c:\\Users\\fgonzalez\\AppData\\Local\\Programs\\Python\\Python310\\lib\\site-packages\\pandas\\io\\sql.py:762: UserWarning: pandas only support SQLAlchemy connectable(engine/connection) ordatabase string URI or sqlite3 DBAPI2 connectionother DBAPI2 objects are not tested, please consider using SQLAlchemy\n",
      "  warnings.warn(\n",
      "c:\\Users\\fgonzalez\\AppData\\Local\\Programs\\Python\\Python310\\lib\\site-packages\\pandas\\io\\sql.py:762: UserWarning: pandas only support SQLAlchemy connectable(engine/connection) ordatabase string URI or sqlite3 DBAPI2 connectionother DBAPI2 objects are not tested, please consider using SQLAlchemy\n",
      "  warnings.warn(\n",
      "c:\\Users\\fgonzalez\\AppData\\Local\\Programs\\Python\\Python310\\lib\\site-packages\\pandas\\io\\sql.py:762: UserWarning: pandas only support SQLAlchemy connectable(engine/connection) ordatabase string URI or sqlite3 DBAPI2 connectionother DBAPI2 objects are not tested, please consider using SQLAlchemy\n",
      "  warnings.warn(\n",
      "c:\\Users\\fgonzalez\\AppData\\Local\\Programs\\Python\\Python310\\lib\\site-packages\\pandas\\io\\sql.py:762: UserWarning: pandas only support SQLAlchemy connectable(engine/connection) ordatabase string URI or sqlite3 DBAPI2 connectionother DBAPI2 objects are not tested, please consider using SQLAlchemy\n",
      "  warnings.warn(\n",
      "c:\\Users\\fgonzalez\\AppData\\Local\\Programs\\Python\\Python310\\lib\\site-packages\\pandas\\io\\sql.py:762: UserWarning: pandas only support SQLAlchemy connectable(engine/connection) ordatabase string URI or sqlite3 DBAPI2 connectionother DBAPI2 objects are not tested, please consider using SQLAlchemy\n",
      "  warnings.warn(\n",
      "c:\\Users\\fgonzalez\\AppData\\Local\\Programs\\Python\\Python310\\lib\\site-packages\\pandas\\io\\sql.py:762: UserWarning: pandas only support SQLAlchemy connectable(engine/connection) ordatabase string URI or sqlite3 DBAPI2 connectionother DBAPI2 objects are not tested, please consider using SQLAlchemy\n",
      "  warnings.warn(\n",
      "c:\\Users\\fgonzalez\\AppData\\Local\\Programs\\Python\\Python310\\lib\\site-packages\\pandas\\io\\sql.py:762: UserWarning: pandas only support SQLAlchemy connectable(engine/connection) ordatabase string URI or sqlite3 DBAPI2 connectionother DBAPI2 objects are not tested, please consider using SQLAlchemy\n",
      "  warnings.warn(\n",
      "c:\\Users\\fgonzalez\\AppData\\Local\\Programs\\Python\\Python310\\lib\\site-packages\\pandas\\io\\sql.py:762: UserWarning: pandas only support SQLAlchemy connectable(engine/connection) ordatabase string URI or sqlite3 DBAPI2 connectionother DBAPI2 objects are not tested, please consider using SQLAlchemy\n",
      "  warnings.warn(\n"
     ]
    },
    {
     "name": "stdout",
     "output_type": "stream",
     "text": [
      "35 item completer\n",
      "0 item pre completer\n",
      "order\n",
      "customer\n",
      "seller\n",
      "customer_adress\n",
      "coin\n",
      "items 7\n",
      "signatures 5\n",
      "contacts 0\n",
      "pagos 4\n",
      "comisiones 4\n",
      "<openpyxl.drawing.image.Image object at 0x0000022044DDD870> not Img\n",
      "<openpyxl.drawing.image.Image object at 0x0000022044DDD810> not Img\n",
      "<openpyxl.drawing.image.Image object at 0x0000022044DDD8D0> not Img\n",
      "<openpyxl.drawing.image.Image object at 0x0000022044DDD960> not Img\n",
      "<openpyxl.drawing.image.Image object at 0x0000022044DDD900> not Img\n",
      "<openpyxl.drawing.image.Image object at 0x0000022044DDD930> not Img\n"
     ]
    }
   ],
   "source": [
    "from xltpl.writerx import BookWriter  # writerx = para .xlsx (openpyxl)\n",
    "import sys\n",
    "import mysql.connector\n",
    "import xlsxwriter\n",
    "import pandas as pd\n",
    "import sys\n",
    "import mysql.connector\n",
    "import os\n",
    "from dotenv import load_dotenv\n",
    "import num2words\n",
    "import numpy as np\n",
    "load_dotenv()\n",
    "#ESTE ARGUMENTO NO SE USA EN ESTE REPORTE, SERÁ 0 SIEMPRE UWU\n",
    "#configurar la conexion a la base de datos\n",
    "DB_USERNAME = os.getenv('DB_USERNAME')\n",
    "DB_DATABASE = os.getenv('DB_DATABASE')\n",
    "DB_PASSWORD = os.getenv('DB_PASSWORD')\n",
    "DB_PORT = os.getenv('DB_PORT')\n",
    "\n",
    "a_color='#354F84'\n",
    "b_color='#91959E'\n",
    "# Conectar a DB\n",
    "cnx = mysql.connector.connect(user=DB_USERNAME,\n",
    "                              password=DB_PASSWORD,\n",
    "                              host='localhost',\n",
    "                              port=DB_PORT,\n",
    "                              database=DB_DATABASE,\n",
    "                              use_pure=False)\n",
    "#Seccion para traer informacion de la base\n",
    "\n",
    "# join para cobros\n",
    "# cobros=pd.read_sql('Select cobros.* ,customers.customer,internal_orders.invoice, users.name from ((cobros inner join internal_orders on internal_orders.id = cobros.order_id) inner join customers on customers.id = internal_orders.customer_id )inner join users on cobros.capturo=users.id',cnx)\n",
    "\n",
    "# Carga la plantilla\n",
    "\n",
    "# id=str(sys.argv[1])\n",
    "# id=706#6\n",
    "#id=754#5\n",
    "#id=131#4 items\n",
    "#id=679#3\n",
    "id=413#1\n",
    "#traer datos de los pedidos\n",
    "order=pd.read_sql(f\"\"\"select internal_orders.* ,customers.clave,customers.alias,\n",
    "coins.exchange_sell, coins.coin, coins.symbol,coins.code\n",
    "from ((\n",
    "    internal_orders\n",
    "    inner join customers on customers.id = internal_orders.customer_id )\n",
    "    inner join coins on internal_orders.coin_id = coins.id)\n",
    "                    where internal_orders.id  = {id}\n",
    "     \"\"\",cnx)\n",
    "order['status']=order['status'].str.upper()\n",
    "for col in [\"reg_date\",\"date_delivery\",\"instalation_date\"]:\n",
    "    order[col] = pd.to_datetime(order[col], format=\"%Y-%m-%d\").dt.strftime(\"%d-%m-%Y\")\n",
    "customer=pd.read_sql(f\"select * from customers where id ={order['customer_id'].values[0]}\",cnx)\n",
    "\n",
    "marca=pd.read_sql(f\"select * from marcas where id ={order['marca'].values[0]}\",cnx)\n",
    "if(len(marca)>0):\n",
    "    marca=marca['name'].values[0]\n",
    "else:\n",
    "    marca='Sin marca seleccionada'\n",
    "seller=pd.read_sql(f\"select * from sellers where id ={order['seller_id'].values[0]}\",cnx)\n",
    "customer_adress=pd.read_sql(f\"select * from \tcustomer_shipping_addresses\t where customer_id ={order['customer_id'].values[0]}\",cnx)\n",
    "contacts=pd.read_sql(f\"select customer_contacts.* from order_contacts  inner join customer_contacts on customer_contacts.id=order_contacts.contact_id where order_contacts.order_id ={order['id'].values[0]}\",cnx)\n",
    "coin=pd.read_sql(f\"select * from coins where id ={order['coin_id'].values[0]}\",cnx)\n",
    "items=pd.read_sql(f\"select * from items where internal_order_id ={order['id'].values[0]}\",cnx)\n",
    "required_signatures=pd.read_sql(f\"\"\"select signatures.*,authorizations.titulo \n",
    "                                from authorizations  inner join signatures \n",
    "                                on authorizations.id=signatures.auth_id\n",
    "                                 where signatures.order_id ={order['id'].values[0]}\"\"\",cnx)\n",
    "for i in range(5-len(required_signatures)):\n",
    "    required_signatures=pd.concat([required_signatures,pd.DataFrame({'firma': ' ','titulo': 'FIRMA','status':0},index=[len(required_signatures)+i])])\n",
    "pagos=pd.read_sql(f\"select * from payments where order_id ={order['id'].values[0]}\",cnx)\n",
    "\n",
    "pagos['dia_anio']=pd.to_datetime(pagos[\"date\"], format=\"%Y-%m-%d\").dt.dayofyear\n",
    "pagos['semana']=pd.to_datetime(pagos[\"date\"], format=\"%Y-%m-%d\").dt.isocalendar().week\n",
    "pagos['date'] = pd.to_datetime(pagos['date'], format=\"%Y-%m-%d\").dt.strftime(\"%d-%m-%Y\")\n",
    "comisiones=pd.read_sql(f\"\"\"select comissions.*,sellers.iniciales,sellers.seller_name from comissions\n",
    "                       inner join sellers on sellers.id=comissions.seller_id\n",
    "                        where order_id ={order['id'].values[0]}\"\"\",cnx)\n",
    "letter_total=num2words.num2words(order['total'].values[0], lang='es').upper()\n",
    "\n",
    "#variables para contrlolar la longitud de la pagina\n",
    "len_page=58\n",
    "npages=3\n",
    "\n",
    "\n",
    "# # Datos a renderizar (puedes anidar dicts/listas sin problema)\n",
    "#en la primera hoja se usan 37 celdas fuera de los ciclos\n",
    "first_page_cells=37\n",
    "\n",
    "if(len(items)>3):\n",
    "    len_tabla_inf=8\n",
    "    item_pre_completer=np.arange(0,len_tabla_inf+1)\n",
    "    item_completer=np.arange(0,(len_page*2)-(6*len(items)+first_page_cells)-len_tabla_inf)\n",
    "    npages=npages+1\n",
    "else:\n",
    "    item_pre_completer=[]\n",
    "    item_completer=np.arange(0,len_page-(6*(3)+first_page_cells)+1)\n",
    "    print(len(item_completer),'item completer')\n",
    "if(len(items)>4):\n",
    "    item_pre_completer=[]\n",
    "    \n",
    "    item_completer=np.arange(0,(len_page*2)-(6*len(items)+first_page_cells)-2)\n",
    "if(len(items)>12):\n",
    "    item_completer=[]\n",
    "\n",
    "second_page_cells=37\n",
    "if(len(pagos)>20):\n",
    "    completer=np.arange(0,(len_page*2)-(len(pagos)+second_page_cells))\n",
    "    npages=npages+1\n",
    "else:\n",
    "    completer=np.arange(0,len_page-(len(pagos)+second_page_cells))\n",
    "if(len(pagos)>75):\n",
    "    completer=[]\n",
    "\n",
    "print(len(item_completer),'item completer')\n",
    "print(len(item_pre_completer),'item pre completer')\n",
    "com_completer=np.arange(0,len_page-(len(comisiones)+24))\n",
    "\n",
    "\n",
    "payload = {\n",
    "    \"fecha\": \"2025-08-16\",\n",
    "    'letter_total':letter_total,\n",
    "    'completer':completer,\n",
    "    'item_pre_completer':item_pre_completer,\n",
    "    'item_completer':item_completer,\n",
    "    'marca':marca,\n",
    "    'com_completer':com_completer,\n",
    "    \"palomita\": \"check.png\",\n",
    "}\n",
    "\n",
    "for df,name in zip([order,customer,seller,customer_adress,coin],[\"order\",\"customer\",\"seller\",\"customer_adress\",\"coin\"]):\n",
    "    aux_dict={}\n",
    "    print(name)\n",
    "    for col in df.columns:\n",
    "        aux_dict.update({col : df[col].values[0]})\n",
    "    payload.update({name:aux_dict})\n",
    "#Colecciones de datos con mas de una fila en el dataframe\n",
    "for df,name in zip([items,required_signatures,contacts,pagos,comisiones],[\"items\",\"signatures\",\"contacts\",\"pagos\",\"comisiones\"]):\n",
    "    objects=[]\n",
    "    print(name,len(df))\n",
    "    aux_dict={}\n",
    "    for i in range(len(df)):\n",
    "        item={}\n",
    "        for col in df.columns:\n",
    "            item.update({col : df[col].values[i]})\n",
    "        objects.append(item)\n",
    "    if(name=='signatures'):\n",
    "        for i in range(5-len(required_signatures)):\n",
    "            objects.append({'firma':'FIRMA','titulo':'Autorizacion'})\n",
    "    if((name=='contacts')&(len(df)<3)):\n",
    "        for i in range(3-len(df)):\n",
    "            objects.append({'customer_contact_name':'NA','customer_contact_office_phone':'-','customer_contact_office_phone_ext':'-',\n",
    "                            'customer_contact_mobile':'-','customer_contact_email':'-'}) \n",
    "    if((name=='items')&(len(df)<3)):\n",
    "        for i in range(3-len(items)):\n",
    "            objects.append({'amount':'0',})         \n",
    "    payload.update({name:objects})\n",
    "# #Renderizar excel\n",
    "# if(len(items)<=3):\n",
    "#     writer = BookWriter('plantilla_pedido_confidential.xlsx')\n",
    "# else:\n",
    "#     writer = BookWriter('plantilla_pedido_confidential_large.xlsx')\n",
    "writer = BookWriter('plantilla_pedido_confidential.xlsx')\n",
    "# Renderiza (se pasa una lista de payloads si quieres varias “páginas/hojas”)\n",
    "writer.render_book([payload])\n",
    "\n",
    "# Guarda el resultado\n",
    "writer.save(f'storage/report/impresion_pedido_confidential{id}.xlsx')\n",
    "\n",
    "\n",
    "#configurar n pages\n",
    "from openpyxl import load_workbook\n",
    "\n",
    "# Abrir el archivo generado\n",
    "wb = load_workbook(f'storage/report/impresion_pedido_confidential{id}.xlsx')\n",
    "ws = wb.active  # o el nombre de tu hoja ws = wb[\"Hoja1\"]\n",
    "\n",
    "# Ajustar impresión\n",
    "ws.page_setup.fitToWidth = 1     # 1 página de ancho\n",
    "ws.page_setup.fitToHeight = npages    # m páginas de alto \n",
    "\n",
    "# También puedes asegurar que el escalado automático esté activado\n",
    "# ws.page_setup.scale = None  \n",
    "\n",
    "# Guardar el archivo modificado\n",
    "wb.save(f'storage/report/impresion_pedido_confidential{id}.xlsx')"
   ]
  },
  {
   "cell_type": "code",
   "execution_count": 5,
   "metadata": {},
   "outputs": [
    {
     "data": {
      "text/plain": [
       "'NOVECIENTOS NOVENTA Y CINCO MIL CUARENTA Y CUATRO PUNTO CINCO DOS'"
      ]
     },
     "execution_count": 5,
     "metadata": {},
     "output_type": "execute_result"
    }
   ],
   "source": [
    "letter_total.upper()"
   ]
  },
  {
   "cell_type": "code",
   "execution_count": 2,
   "metadata": {},
   "outputs": [
    {
     "name": "stdout",
     "output_type": "stream",
     "text": [
      "0\n",
      "58\n",
      "116\n",
      "174\n",
      "232\n",
      "290\n",
      "348\n"
     ]
    }
   ],
   "source": [
    "for i in range(7):\n",
    "    print(i*58)"
   ]
  },
  {
   "cell_type": "code",
   "execution_count": 45,
   "metadata": {},
   "outputs": [
    {
     "data": {
      "text/plain": [
       "5"
      ]
     },
     "execution_count": 45,
     "metadata": {},
     "output_type": "execute_result"
    }
   ],
   "source": [
    "npages"
   ]
  },
  {
   "cell_type": "code",
   "execution_count": 55,
   "metadata": {},
   "outputs": [
    {
     "data": {
      "text/html": [
       "<div>\n",
       "<style scoped>\n",
       "    .dataframe tbody tr th:only-of-type {\n",
       "        vertical-align: middle;\n",
       "    }\n",
       "\n",
       "    .dataframe tbody tr th {\n",
       "        vertical-align: top;\n",
       "    }\n",
       "\n",
       "    .dataframe thead th {\n",
       "        text-align: right;\n",
       "    }\n",
       "</style>\n",
       "<table border=\"1\" class=\"dataframe\">\n",
       "  <thead>\n",
       "    <tr style=\"text-align: right;\">\n",
       "      <th></th>\n",
       "      <th>id</th>\n",
       "      <th>order_id</th>\n",
       "      <th>auth_id</th>\n",
       "      <th>status</th>\n",
       "      <th>created_at</th>\n",
       "      <th>updated_at</th>\n",
       "      <th>firma</th>\n",
       "      <th>titulo</th>\n",
       "    </tr>\n",
       "  </thead>\n",
       "  <tbody>\n",
       "    <tr>\n",
       "      <th>0</th>\n",
       "      <td>2006.0</td>\n",
       "      <td>815.0</td>\n",
       "      <td>2.0</td>\n",
       "      <td>0</td>\n",
       "      <td>2025-08-29</td>\n",
       "      <td>2025-08-29</td>\n",
       "      <td>None</td>\n",
       "      <td>GERENTE DE VENTAS</td>\n",
       "    </tr>\n",
       "    <tr>\n",
       "      <th>1</th>\n",
       "      <td>2007.0</td>\n",
       "      <td>815.0</td>\n",
       "      <td>3.0</td>\n",
       "      <td>0</td>\n",
       "      <td>2025-08-29</td>\n",
       "      <td>2025-08-29</td>\n",
       "      <td>None</td>\n",
       "      <td>GERENTE ADMINISTRATIVO</td>\n",
       "    </tr>\n",
       "    <tr>\n",
       "      <th>2</th>\n",
       "      <td>NaN</td>\n",
       "      <td>NaN</td>\n",
       "      <td>NaN</td>\n",
       "      <td>0</td>\n",
       "      <td>NaN</td>\n",
       "      <td>NaN</td>\n",
       "      <td></td>\n",
       "      <td>FIRMA</td>\n",
       "    </tr>\n",
       "    <tr>\n",
       "      <th>4</th>\n",
       "      <td>NaN</td>\n",
       "      <td>NaN</td>\n",
       "      <td>NaN</td>\n",
       "      <td>0</td>\n",
       "      <td>NaN</td>\n",
       "      <td>NaN</td>\n",
       "      <td></td>\n",
       "      <td>FIRMA</td>\n",
       "    </tr>\n",
       "    <tr>\n",
       "      <th>6</th>\n",
       "      <td>NaN</td>\n",
       "      <td>NaN</td>\n",
       "      <td>NaN</td>\n",
       "      <td>0</td>\n",
       "      <td>NaN</td>\n",
       "      <td>NaN</td>\n",
       "      <td></td>\n",
       "      <td>FIRMA</td>\n",
       "    </tr>\n",
       "  </tbody>\n",
       "</table>\n",
       "</div>"
      ],
      "text/plain": [
       "       id  order_id  auth_id  status  created_at  updated_at firma  \\\n",
       "0  2006.0     815.0      2.0       0  2025-08-29  2025-08-29  None   \n",
       "1  2007.0     815.0      3.0       0  2025-08-29  2025-08-29  None   \n",
       "2     NaN       NaN      NaN       0         NaN         NaN         \n",
       "4     NaN       NaN      NaN       0         NaN         NaN         \n",
       "6     NaN       NaN      NaN       0         NaN         NaN         \n",
       "\n",
       "                   titulo  \n",
       "0       GERENTE DE VENTAS  \n",
       "1  GERENTE ADMINISTRATIVO  \n",
       "2                   FIRMA  \n",
       "4                   FIRMA  \n",
       "6                   FIRMA  "
      ]
     },
     "execution_count": 55,
     "metadata": {},
     "output_type": "execute_result"
    }
   ],
   "source": [
    "required_signatures"
   ]
  },
  {
   "cell_type": "code",
   "execution_count": 40,
   "metadata": {},
   "outputs": [],
   "source": [
    "required_signatures=pd.concat([required_signatures,pd.DataFrame({'firma': ' ','titulo': 'FIRMA','status':0},index=[len(required_signatures)+i])])"
   ]
  },
  {
   "cell_type": "code",
   "execution_count": 41,
   "metadata": {},
   "outputs": [
    {
     "data": {
      "text/html": [
       "<div>\n",
       "<style scoped>\n",
       "    .dataframe tbody tr th:only-of-type {\n",
       "        vertical-align: middle;\n",
       "    }\n",
       "\n",
       "    .dataframe tbody tr th {\n",
       "        vertical-align: top;\n",
       "    }\n",
       "\n",
       "    .dataframe thead th {\n",
       "        text-align: right;\n",
       "    }\n",
       "</style>\n",
       "<table border=\"1\" class=\"dataframe\">\n",
       "  <thead>\n",
       "    <tr style=\"text-align: right;\">\n",
       "      <th></th>\n",
       "      <th>id</th>\n",
       "      <th>order_id</th>\n",
       "      <th>seller_id</th>\n",
       "      <th>percentage</th>\n",
       "      <th>dgi</th>\n",
       "      <th>created_at</th>\n",
       "      <th>updated_at</th>\n",
       "      <th>description</th>\n",
       "      <th>iniciales</th>\n",
       "      <th>seller_name</th>\n",
       "    </tr>\n",
       "  </thead>\n",
       "  <tbody>\n",
       "    <tr>\n",
       "      <th>0</th>\n",
       "      <td>2196</td>\n",
       "      <td>800</td>\n",
       "      <td>4</td>\n",
       "      <td>0.0001</td>\n",
       "      <td>0</td>\n",
       "      <td>2025-07-10</td>\n",
       "      <td>2025-07-10</td>\n",
       "      <td>DGI</td>\n",
       "      <td>HCCL</td>\n",
       "      <td>HERREÑO\\tCORRALES\\tCHRISTIAN LEONARDO</td>\n",
       "    </tr>\n",
       "    <tr>\n",
       "      <th>1</th>\n",
       "      <td>2197</td>\n",
       "      <td>800</td>\n",
       "      <td>5</td>\n",
       "      <td>0.0001</td>\n",
       "      <td>0</td>\n",
       "      <td>2025-07-10</td>\n",
       "      <td>2025-07-10</td>\n",
       "      <td>DGI</td>\n",
       "      <td>HCFA</td>\n",
       "      <td>HERREÑO\\tCORRALES\\tFREDY ALEXANDER</td>\n",
       "    </tr>\n",
       "    <tr>\n",
       "      <th>2</th>\n",
       "      <td>2198</td>\n",
       "      <td>800</td>\n",
       "      <td>28</td>\n",
       "      <td>0.0001</td>\n",
       "      <td>0</td>\n",
       "      <td>2025-07-10</td>\n",
       "      <td>2025-07-10</td>\n",
       "      <td>DGI</td>\n",
       "      <td>HMNE</td>\n",
       "      <td>HERREÑO\\tMORENO\\tNELSON ERNESTO</td>\n",
       "    </tr>\n",
       "  </tbody>\n",
       "</table>\n",
       "</div>"
      ],
      "text/plain": [
       "     id  order_id  seller_id  percentage  dgi  created_at  updated_at  \\\n",
       "0  2196       800          4      0.0001    0  2025-07-10  2025-07-10   \n",
       "1  2197       800          5      0.0001    0  2025-07-10  2025-07-10   \n",
       "2  2198       800         28      0.0001    0  2025-07-10  2025-07-10   \n",
       "\n",
       "  description iniciales                            seller_name  \n",
       "0         DGI      HCCL  HERREÑO\\tCORRALES\\tCHRISTIAN LEONARDO  \n",
       "1         DGI      HCFA     HERREÑO\\tCORRALES\\tFREDY ALEXANDER  \n",
       "2         DGI      HMNE        HERREÑO\\tMORENO\\tNELSON ERNESTO  "
      ]
     },
     "execution_count": 41,
     "metadata": {},
     "output_type": "execute_result"
    }
   ],
   "source": [
    "comisiones"
   ]
  },
  {
   "cell_type": "code",
   "execution_count": 32,
   "metadata": {},
   "outputs": [
    {
     "data": {
      "text/plain": [
       "array([ 0,  1,  2,  3,  4,  5,  6,  7,  8,  9, 10, 11])"
      ]
     },
     "execution_count": 32,
     "metadata": {},
     "output_type": "execute_result"
    }
   ],
   "source": [
    "payload['completer']"
   ]
  },
  {
   "cell_type": "code",
   "execution_count": 2,
   "metadata": {},
   "outputs": [
    {
     "data": {
      "text/plain": [
       "12000"
      ]
     },
     "execution_count": 2,
     "metadata": {},
     "output_type": "execute_result"
    }
   ],
   "source": [
    "500*24"
   ]
  },
  {
   "cell_type": "code",
   "execution_count": 97,
   "metadata": {},
   "outputs": [
    {
     "data": {
      "text/plain": [
       "{'id': 808,\n",
       " 'invoice': '3469',\n",
       " 'date': datetime.date(2025, 7, 31),\n",
       " 'customer_id': 782,\n",
       " 'seller_id': 2,\n",
       " 'date_delivery': datetime.date(2025, 8, 26),\n",
       " 'instalation_date': datetime.date(2025, 8, 26),\n",
       " 'shipment': 'Sí',\n",
       " 'customer_shipping_address_id': 469,\n",
       " 'coin_id': 1,\n",
       " 'subtotal': 46000.0,\n",
       " 'iva': 7360.0,\n",
       " 'total': 53360.0,\n",
       " 'payment_conditions': '1',\n",
       " 'pays': None,\n",
       " 'observations': 'SE HACE ENTREGA EN  VILLAHERMOSA.',\n",
       " 'status': 'AUTORIZADO',\n",
       " 'authorization_id': 1,\n",
       " 'created_at': numpy.datetime64('2025-07-31T08:48:25.000000000'),\n",
       " 'updated_at': numpy.datetime64('2025-07-31T10:41:09.000000000'),\n",
       " 'comision': 0.03,\n",
       " 'reg_date': datetime.date(2025, 7, 31),\n",
       " 'oc': '0',\n",
       " 'ncontrato': '0',\n",
       " 'isr': 0.0,\n",
       " 'ieps': 0.0,\n",
       " 'descuento': 0.0,\n",
       " 'ncotizacion': '0',\n",
       " 'otra': 0.0,\n",
       " 'dgi': 0.0,\n",
       " 'noha': 130,\n",
       " 'ret': None,\n",
       " 'tasa': 0.0,\n",
       " 'description': 'SD',\n",
       " 'category': 'Servicios',\n",
       " 'kilos': 0.0,\n",
       " 'medio_id': 4,\n",
       " 'marca': 9,\n",
       " 'payment_observations': 'FACTURAR: EL 100 % ANTICIPO.',\n",
       " 'vent_auth': 1,\n",
       " 'user_id': 35,\n",
       " 'tc': 0.0,\n",
       " 'clave': '488',\n",
       " 'alias': 'AIRCOLD',\n",
       " 'exchange_sell': 1.0,\n",
       " 'coin': 'NACIONAL',\n",
       " 'symbol': '$',\n",
       " 'code': 'MXN'}"
      ]
     },
     "execution_count": 97,
     "metadata": {},
     "output_type": "execute_result"
    }
   ],
   "source": [
    "payload['order']"
   ]
  },
  {
   "cell_type": "code",
   "execution_count": null,
   "metadata": {},
   "outputs": [
    {
     "data": {
      "text/plain": [
       "11.0"
      ]
     },
     "execution_count": 7,
     "metadata": {},
     "output_type": "execute_result"
    }
   ],
   "source": []
  },
  {
   "cell_type": "code",
   "execution_count": 83,
   "metadata": {},
   "outputs": [
    {
     "data": {
      "text/plain": [
       "'Av. Coyoacan'"
      ]
     },
     "execution_count": 83,
     "metadata": {},
     "output_type": "execute_result"
    }
   ],
   "source": [
    "payload['customer']['customer_street']"
   ]
  },
  {
   "cell_type": "code",
   "execution_count": 45,
   "metadata": {},
   "outputs": [
    {
     "data": {
      "text/html": [
       "<div>\n",
       "<style scoped>\n",
       "    .dataframe tbody tr th:only-of-type {\n",
       "        vertical-align: middle;\n",
       "    }\n",
       "\n",
       "    .dataframe tbody tr th {\n",
       "        vertical-align: top;\n",
       "    }\n",
       "\n",
       "    .dataframe thead th {\n",
       "        text-align: right;\n",
       "    }\n",
       "</style>\n",
       "<table border=\"1\" class=\"dataframe\">\n",
       "  <thead>\n",
       "    <tr style=\"text-align: right;\">\n",
       "      <th></th>\n",
       "      <th>id</th>\n",
       "      <th>order_id</th>\n",
       "      <th>auth_id</th>\n",
       "      <th>status</th>\n",
       "      <th>created_at</th>\n",
       "      <th>updated_at</th>\n",
       "      <th>firma</th>\n",
       "      <th>titulo</th>\n",
       "    </tr>\n",
       "  </thead>\n",
       "  <tbody>\n",
       "    <tr>\n",
       "      <th>0</th>\n",
       "      <td>1982</td>\n",
       "      <td>808</td>\n",
       "      <td>2</td>\n",
       "      <td>1</td>\n",
       "      <td>2025-07-31</td>\n",
       "      <td>2025-07-31</td>\n",
       "      <td>ADGom</td>\n",
       "      <td>GERENTE DE VENTAS</td>\n",
       "    </tr>\n",
       "    <tr>\n",
       "      <th>1</th>\n",
       "      <td>1983</td>\n",
       "      <td>808</td>\n",
       "      <td>3</td>\n",
       "      <td>1</td>\n",
       "      <td>2025-07-31</td>\n",
       "      <td>2025-07-31</td>\n",
       "      <td>MR</td>\n",
       "      <td>GERENTE ADMINISTRATIVO</td>\n",
       "    </tr>\n",
       "  </tbody>\n",
       "</table>\n",
       "</div>"
      ],
      "text/plain": [
       "     id  order_id  auth_id  status  created_at  updated_at  firma  \\\n",
       "0  1982       808        2       1  2025-07-31  2025-07-31  ADGom   \n",
       "1  1983       808        3       1  2025-07-31  2025-07-31     MR   \n",
       "\n",
       "                   titulo  \n",
       "0       GERENTE DE VENTAS  \n",
       "1  GERENTE ADMINISTRATIVO  "
      ]
     },
     "execution_count": 45,
     "metadata": {},
     "output_type": "execute_result"
    }
   ],
   "source": [
    "required_signatures"
   ]
  },
  {
   "cell_type": "code",
   "execution_count": 39,
   "metadata": {},
   "outputs": [
    {
     "data": {
      "text/plain": [
       "[{'id': 809,\n",
       "  'internal_order_id': 808,\n",
       "  'item': '1',\n",
       "  'amount': 1,\n",
       "  'unit': 'SERVICIO',\n",
       "  'family': 'RACKS',\n",
       "  'code': None,\n",
       "  'description': 'SERVICIO DE TRASLADO DE XHAHUENTO A CEDIS EN VILLAHERMOSA.',\n",
       "  'unit_price': 46000.0,\n",
       "  'import': 46000.0,\n",
       "  'created_at': numpy.datetime64('2025-07-31T08:48:25.000000000'),\n",
       "  'updated_at': numpy.datetime64('2025-07-31T08:48:25.000000000'),\n",
       "  'fab': 'Servicios',\n",
       "  'sku': 'VT',\n",
       "  'racks': None,\n",
       "  'subfamimlia': None,\n",
       "  'categoria': None,\n",
       "  'products': '1',\n",
       "  'subfamilia': None}]"
      ]
     },
     "execution_count": 39,
     "metadata": {},
     "output_type": "execute_result"
    }
   ],
   "source": [
    "payload['items']"
   ]
  },
  {
   "cell_type": "code",
   "execution_count": 8,
   "metadata": {},
   "outputs": [
    {
     "data": {
      "text/plain": [
       "0    2025-04-02\n",
       "1    2025-05-13\n",
       "2    2025-05-13\n",
       "Name: date, dtype: object"
      ]
     },
     "execution_count": 8,
     "metadata": {},
     "output_type": "execute_result"
    }
   ],
   "source": [
    "hpagos['date']"
   ]
  },
  {
   "cell_type": "code",
   "execution_count": 4,
   "metadata": {},
   "outputs": [
    {
     "data": {
      "text/plain": [
       "1717496.0"
      ]
     },
     "execution_count": 4,
     "metadata": {},
     "output_type": "execute_result"
    }
   ],
   "source": [
    "858748.0*2"
   ]
  },
  {
   "cell_type": "code",
   "execution_count": 27,
   "metadata": {},
   "outputs": [
    {
     "data": {
      "text/plain": [
       "array(['autorizado', 'CANCELADO'], dtype=object)"
      ]
     },
     "execution_count": 27,
     "metadata": {},
     "output_type": "execute_result"
    }
   ],
   "source": [
    "facturas['estado'].unique()"
   ]
  },
  {
   "cell_type": "code",
   "execution_count": 19,
   "metadata": {},
   "outputs": [
    {
     "name": "stdout",
     "output_type": "stream",
     "text": [
      "    id  order_id  ordinal facture    amount   status npagos  created_at  \\\n",
      "0  881       687        1  A 4176  323327.0  CAPTURA   None  2025-03-06   \n",
      "1  881       687        1  A 4176  323327.0  CAPTURA   None  2025-03-06   \n",
      "2  881       687        1  A 4176  323327.0  CAPTURA   None  2025-03-06   \n",
      "3  881       687        1  A 4176  323327.0  CAPTURA   None  2025-03-06   \n",
      "\n",
      "   updated_at        date  coin_id   tc  cobro_id  \n",
      "0  2025-03-06  2025-02-28        1  1.0      1039  \n",
      "1  2025-03-06  2025-02-28        1  1.0      1078  \n",
      "2  2025-03-06  2025-02-28        1  1.0      1103  \n",
      "3  2025-03-06  2025-02-28        1  1.0      1138  \n"
     ]
    },
    {
     "name": "stderr",
     "output_type": "stream",
     "text": [
      "c:\\Users\\fgonzalez\\AppData\\Local\\Programs\\Python\\Python310\\lib\\site-packages\\pandas\\io\\sql.py:762: UserWarning: pandas only support SQLAlchemy connectable(engine/connection) ordatabase string URI or sqlite3 DBAPI2 connectionother DBAPI2 objects are not tested, please consider using SQLAlchemy\n",
      "  warnings.warn(\n"
     ]
    }
   ],
   "source": [
    "print(pd.read_sql(f'select factures.*,cobro_factures.cobro_id cobro_id from factures inner join cobro_factures on cobro_factures.facture_id=factures.id where order_id ={id}',cnx))"
   ]
  },
  {
   "cell_type": "code",
   "execution_count": 7,
   "metadata": {},
   "outputs": [
    {
     "data": {
      "text/plain": [
       "14.285714285714286"
      ]
     },
     "execution_count": 7,
     "metadata": {},
     "output_type": "execute_result"
    }
   ],
   "source": [
    "400/28"
   ]
  },
  {
   "cell_type": "code",
   "execution_count": 86,
   "metadata": {},
   "outputs": [
    {
     "name": "stdout",
     "output_type": "stream",
     "text": [
      "Collecting num2words\n",
      "  Downloading num2words-0.5.14-py3-none-any.whl (163 kB)\n",
      "     -------------------------------------- 163.5/163.5 kB 1.6 MB/s eta 0:00:00\n",
      "Collecting docopt>=0.6.2\n",
      "  Downloading docopt-0.6.2.tar.gz (25 kB)\n",
      "  Preparing metadata (setup.py): started\n",
      "  Preparing metadata (setup.py): finished with status 'done'\n",
      "Building wheels for collected packages: docopt\n",
      "  Building wheel for docopt (setup.py): started\n",
      "  Building wheel for docopt (setup.py): finished with status 'done'\n",
      "  Created wheel for docopt: filename=docopt-0.6.2-py2.py3-none-any.whl size=13706 sha256=afe6adc34437dd39b61d7cad7e4f209ed1c7f2e0c0eb60fed4a389409ed9654a\n",
      "  Stored in directory: c:\\users\\fgonzalez\\appdata\\local\\pip\\cache\\wheels\\7c\\d7\\8d\\2156234738063e3d4a39ba77dc677046100e62766b53807189\n",
      "Successfully built docopt\n",
      "Installing collected packages: docopt, num2words\n",
      "Successfully installed docopt-0.6.2 num2words-0.5.14\n"
     ]
    },
    {
     "name": "stderr",
     "output_type": "stream",
     "text": [
      "WARNING: Ignoring invalid distribution -rotobuf (c:\\users\\fgonzalez\\appdata\\local\\programs\\python\\python310\\lib\\site-packages)\n",
      "WARNING: Ignoring invalid distribution -rotobuf (c:\\users\\fgonzalez\\appdata\\local\\programs\\python\\python310\\lib\\site-packages)\n",
      "WARNING: Ignoring invalid distribution -rotobuf (c:\\users\\fgonzalez\\appdata\\local\\programs\\python\\python310\\lib\\site-packages)\n",
      "WARNING: Ignoring invalid distribution -rotobuf (c:\\users\\fgonzalez\\appdata\\local\\programs\\python\\python310\\lib\\site-packages)\n",
      "WARNING: Ignoring invalid distribution -rotobuf (c:\\users\\fgonzalez\\appdata\\local\\programs\\python\\python310\\lib\\site-packages)\n",
      "WARNING: Ignoring invalid distribution -rotobuf (c:\\users\\fgonzalez\\appdata\\local\\programs\\python\\python310\\lib\\site-packages)\n",
      "WARNING: Ignoring invalid distribution -rotobuf (c:\\users\\fgonzalez\\appdata\\local\\programs\\python\\python310\\lib\\site-packages)\n",
      "WARNING: Ignoring invalid distribution -rotobuf (c:\\users\\fgonzalez\\appdata\\local\\programs\\python\\python310\\lib\\site-packages)\n",
      "\n",
      "[notice] A new release of pip available: 22.3.1 -> 25.2\n",
      "[notice] To update, run: python.exe -m pip install --upgrade pip\n"
     ]
    }
   ],
   "source": [
    "!pip install num2words\n"
   ]
  },
  {
   "cell_type": "code",
   "execution_count": 21,
   "metadata": {},
   "outputs": [],
   "source": [
    "cobros=pd.read_sql(\"\"\"Select cobros.* ,\n",
    "    customers.customer,customers.customer_suburb, customers.clave,\n",
    "    internal_orders.invoice, internal_orders.payment_conditions,\n",
    "    internal_orders.category,internal_orders.description,internal_orders.status,\n",
    "    coins.exchange_sell, coins.coin, coins.symbol,\n",
    "    banks.bank_description,\n",
    "    capturistas.name as capturista, revisores.name as revisor, autorizadores.name as autorizador\n",
    "    from (((((((\n",
    "    cobros inner join internal_orders on internal_orders.id = cobros.order_id) \n",
    "    inner join customers on customers.id = internal_orders.customer_id )\n",
    "    inner join coins on internal_orders.coin_id = coins.id)\n",
    "    left join users as capturistas on cobros.capturo=capturistas.id)\n",
    "    left join users as revisores on cobros.reviso=revisores.id)\n",
    "    left join users as autorizadores on cobros.autorizo=autorizadores.id))\n",
    "    inner join banks on banks.id=cobros.bank_id \"\"\",cnx)"
   ]
  },
  {
   "cell_type": "code",
   "execution_count": 9,
   "metadata": {},
   "outputs": [
    {
     "ename": "NameError",
     "evalue": "name 'cobros' is not defined",
     "output_type": "error",
     "traceback": [
      "\u001b[1;31m---------------------------------------------------------------------------\u001b[0m",
      "\u001b[1;31mNameError\u001b[0m                                 Traceback (most recent call last)",
      "Cell \u001b[1;32mIn [9], line 1\u001b[0m\n\u001b[1;32m----> 1\u001b[0m \u001b[43mcobros\u001b[49m\u001b[38;5;241m.\u001b[39mloc[cobros[\u001b[38;5;124m'\u001b[39m\u001b[38;5;124morder_id\u001b[39m\u001b[38;5;124m'\u001b[39m]\u001b[38;5;241m==\u001b[39m\u001b[38;5;241m681\u001b[39m]\n",
      "\u001b[1;31mNameError\u001b[0m: name 'cobros' is not defined"
     ]
    }
   ],
   "source": [
    "cobros.loc[cobros['order_id']==681]"
   ]
  },
  {
   "cell_type": "code",
   "execution_count": 7,
   "metadata": {},
   "outputs": [
    {
     "data": {
      "text/plain": [
       "229846.15"
      ]
     },
     "execution_count": 7,
     "metadata": {},
     "output_type": "execute_result"
    }
   ],
   "source": [
    "459692.30/2"
   ]
  },
  {
   "cell_type": "code",
   "execution_count": 20,
   "metadata": {},
   "outputs": [
    {
     "data": {
      "text/plain": [
       "423    5.183228e+04\n",
       "424    1.003168e+05\n",
       "425    1.026716e+04\n",
       "426    1.295720e+04\n",
       "427    1.088080e+05\n",
       "428    1.128912e+05\n",
       "429    6.275600e+04\n",
       "430    7.946000e+04\n",
       "431    6.739600e+04\n",
       "432    4.609944e+03\n",
       "433    8.120000e+03\n",
       "434    3.961400e+05\n",
       "435    5.707200e+04\n",
       "436    2.587960e+05\n",
       "437    8.651280e+03\n",
       "438    1.063720e+05\n",
       "439    2.489360e+03\n",
       "440    1.651724e+06\n",
       "441    2.683672e+05\n",
       "442    3.209720e+05\n",
       "443    3.209720e+05\n",
       "444    3.430120e+05\n",
       "445    1.894280e+05\n",
       "446    6.275832e+04\n",
       "447    0.000000e+00\n",
       "448    1.940100e+04\n",
       "449    4.369720e+04\n",
       "450    1.263240e+05\n",
       "451    0.000000e+00\n",
       "452    2.487040e+05\n",
       "453    9.326400e+04\n",
       "454    2.379160e+06\n",
       "455    0.000000e+00\n",
       "456    4.717720e+06\n",
       "457    2.379160e+06\n",
       "458    4.609944e+03\n",
       "459    6.496000e+04\n",
       "460    1.476680e+05\n",
       "461    0.000000e+00\n",
       "462    3.781600e+04\n",
       "463    0.000000e+00\n",
       "464    0.000000e+00\n",
       "465    5.707200e+04\n",
       "466    0.000000e+00\n",
       "Name: total, dtype: float64"
      ]
     },
     "execution_count": 20,
     "metadata": {},
     "output_type": "execute_result"
    }
   ],
   "source": [
    "orders.loc[orders['date'].astype(str)>str(date.strftime(\"%Y\"))+'-01-01',\"total\"]"
   ]
  },
  {
   "cell_type": "code",
   "execution_count": 16,
   "metadata": {},
   "outputs": [
    {
     "data": {
      "text/plain": [
       "14925724.8488"
      ]
     },
     "execution_count": 16,
     "metadata": {},
     "output_type": "execute_result"
    }
   ],
   "source": [
    "orders.loc[orders['date'].astype(str)>'2025-01-01','total'].sum()"
   ]
  },
  {
   "cell_type": "code",
   "execution_count": 19,
   "metadata": {},
   "outputs": [
    {
     "data": {
      "text/plain": [
       "'202501-01'"
      ]
     },
     "execution_count": 19,
     "metadata": {},
     "output_type": "execute_result"
    }
   ],
   "source": [
    "str(date.strftime(\"%Y\"))+'01-01'"
   ]
  },
  {
   "cell_type": "code",
   "execution_count": null,
   "metadata": {},
   "outputs": [
    {
     "name": "stdout",
     "output_type": "stream",
     "text": [
      "2025-06-15 2025-06-30\n"
     ]
    }
   ],
   "source": [
    "import datetime\n",
    "from dateutil.relativedelta import relativedelta\n",
    "import numpy as np\n",
    "\n",
    "year = datetime.date.today().year\n",
    "quincena=12\n",
    "month = np.ceil(quincena/ 2)\n",
    "isFirstHalf = quincena % 2 != 0\n",
    "startDate =  str(year)+\"-\"+str(int(month)).zfill(2)+\"-01\" if isFirstHalf else  str(year)+\"-\"+str(int(month)).zfill(2)+\"-15\"\n",
    "endDate =  str(year)+\"-\"+str(int(month)).zfill(2)+\"-14\" if isFirstHalf else  str((datetime.datetime(year,int(month),1 )+relativedelta(months=1))-datetime.timedelta(days=1))[:10];"
   ]
  },
  {
   "cell_type": "code",
   "execution_count": null,
   "metadata": {},
   "outputs": [
    {
     "data": {
      "text/plain": [
       "'2025-05-31'"
      ]
     },
     "execution_count": 33,
     "metadata": {},
     "output_type": "execute_result"
    }
   ],
   "source": [
    "#siguiente mes en dia primero\n"
   ]
  },
  {
   "cell_type": "code",
   "execution_count": 11,
   "metadata": {},
   "outputs": [
    {
     "data": {
      "text/plain": [
       "'01'"
      ]
     },
     "execution_count": 11,
     "metadata": {},
     "output_type": "execute_result"
    }
   ],
   "source": [
    "'1'.zfill(2)"
   ]
  },
  {
   "cell_type": "code",
   "execution_count": 19,
   "metadata": {},
   "outputs": [
    {
     "data": {
      "text/html": [
       "<div>\n",
       "<style scoped>\n",
       "    .dataframe tbody tr th:only-of-type {\n",
       "        vertical-align: middle;\n",
       "    }\n",
       "\n",
       "    .dataframe tbody tr th {\n",
       "        vertical-align: top;\n",
       "    }\n",
       "\n",
       "    .dataframe thead th {\n",
       "        text-align: right;\n",
       "    }\n",
       "</style>\n",
       "<table border=\"1\" class=\"dataframe\">\n",
       "  <thead>\n",
       "    <tr style=\"text-align: right;\">\n",
       "      <th></th>\n",
       "      <th>id</th>\n",
       "      <th>order_id</th>\n",
       "      <th>ordinal</th>\n",
       "      <th>facture</th>\n",
       "      <th>amount</th>\n",
       "      <th>status</th>\n",
       "      <th>npagos</th>\n",
       "      <th>created_at</th>\n",
       "      <th>updated_at</th>\n",
       "      <th>date</th>\n",
       "      <th>coin_id</th>\n",
       "      <th>tc</th>\n",
       "    </tr>\n",
       "  </thead>\n",
       "  <tbody>\n",
       "    <tr>\n",
       "      <th>1</th>\n",
       "      <td>826</td>\n",
       "      <td>620</td>\n",
       "      <td>1</td>\n",
       "      <td>A 4115</td>\n",
       "      <td>818738.0</td>\n",
       "      <td>CAPTURA</td>\n",
       "      <td>None</td>\n",
       "      <td>2025-01-10</td>\n",
       "      <td>2025-01-10</td>\n",
       "      <td>2025-01-10</td>\n",
       "      <td>1</td>\n",
       "      <td>1.0</td>\n",
       "    </tr>\n",
       "    <tr>\n",
       "      <th>2</th>\n",
       "      <td>835</td>\n",
       "      <td>620</td>\n",
       "      <td>1</td>\n",
       "      <td>A 4125</td>\n",
       "      <td>1309980.0</td>\n",
       "      <td>CAPTURA</td>\n",
       "      <td>None</td>\n",
       "      <td>2025-01-27</td>\n",
       "      <td>2025-01-27</td>\n",
       "      <td>2025-01-21</td>\n",
       "      <td>1</td>\n",
       "      <td>1.0</td>\n",
       "    </tr>\n",
       "  </tbody>\n",
       "</table>\n",
       "</div>"
      ],
      "text/plain": [
       "    id  order_id  ordinal facture     amount   status npagos  created_at  \\\n",
       "1  826       620        1  A 4115   818738.0  CAPTURA   None  2025-01-10   \n",
       "2  835       620        1  A 4125  1309980.0  CAPTURA   None  2025-01-27   \n",
       "\n",
       "   updated_at        date  coin_id   tc  \n",
       "1  2025-01-10  2025-01-10        1  1.0  \n",
       "2  2025-01-27  2025-01-21        1  1.0  "
      ]
     },
     "execution_count": 19,
     "metadata": {},
     "output_type": "execute_result"
    }
   ],
   "source": [
    "facturas.loc[facturas['id'].isin(cobros_facturas.loc[cobros_facturas['cobro_id'].isin(cobros['cobro_id'].values)].facture_id.values)]"
   ]
  },
  {
   "cell_type": "code",
   "execution_count": 20,
   "metadata": {},
   "outputs": [
    {
     "data": {
      "text/html": [
       "<div>\n",
       "<style scoped>\n",
       "    .dataframe tbody tr th:only-of-type {\n",
       "        vertical-align: middle;\n",
       "    }\n",
       "\n",
       "    .dataframe tbody tr th {\n",
       "        vertical-align: top;\n",
       "    }\n",
       "\n",
       "    .dataframe thead th {\n",
       "        text-align: right;\n",
       "    }\n",
       "</style>\n",
       "<table border=\"1\" class=\"dataframe\">\n",
       "  <thead>\n",
       "    <tr style=\"text-align: right;\">\n",
       "      <th></th>\n",
       "      <th>id</th>\n",
       "      <th>order_id</th>\n",
       "      <th>ordinal</th>\n",
       "      <th>facture</th>\n",
       "      <th>amount</th>\n",
       "      <th>status</th>\n",
       "      <th>npagos</th>\n",
       "      <th>created_at</th>\n",
       "      <th>updated_at</th>\n",
       "      <th>date</th>\n",
       "      <th>coin_id</th>\n",
       "      <th>tc</th>\n",
       "    </tr>\n",
       "  </thead>\n",
       "  <tbody>\n",
       "    <tr>\n",
       "      <th>0</th>\n",
       "      <td>821</td>\n",
       "      <td>620</td>\n",
       "      <td>1</td>\n",
       "      <td>A 4110</td>\n",
       "      <td>818738.0</td>\n",
       "      <td>CAPTURA</td>\n",
       "      <td>None</td>\n",
       "      <td>2025-01-03</td>\n",
       "      <td>2025-01-03</td>\n",
       "      <td>2024-12-30</td>\n",
       "      <td>1</td>\n",
       "      <td>1.0</td>\n",
       "    </tr>\n",
       "    <tr>\n",
       "      <th>1</th>\n",
       "      <td>826</td>\n",
       "      <td>620</td>\n",
       "      <td>1</td>\n",
       "      <td>A 4115</td>\n",
       "      <td>818738.0</td>\n",
       "      <td>CAPTURA</td>\n",
       "      <td>None</td>\n",
       "      <td>2025-01-10</td>\n",
       "      <td>2025-01-10</td>\n",
       "      <td>2025-01-10</td>\n",
       "      <td>1</td>\n",
       "      <td>1.0</td>\n",
       "    </tr>\n",
       "    <tr>\n",
       "      <th>2</th>\n",
       "      <td>835</td>\n",
       "      <td>620</td>\n",
       "      <td>1</td>\n",
       "      <td>A 4125</td>\n",
       "      <td>1309980.0</td>\n",
       "      <td>CAPTURA</td>\n",
       "      <td>None</td>\n",
       "      <td>2025-01-27</td>\n",
       "      <td>2025-01-27</td>\n",
       "      <td>2025-01-21</td>\n",
       "      <td>1</td>\n",
       "      <td>1.0</td>\n",
       "    </tr>\n",
       "  </tbody>\n",
       "</table>\n",
       "</div>"
      ],
      "text/plain": [
       "    id  order_id  ordinal facture     amount   status npagos  created_at  \\\n",
       "0  821       620        1  A 4110   818738.0  CAPTURA   None  2025-01-03   \n",
       "1  826       620        1  A 4115   818738.0  CAPTURA   None  2025-01-10   \n",
       "2  835       620        1  A 4125  1309980.0  CAPTURA   None  2025-01-27   \n",
       "\n",
       "   updated_at        date  coin_id   tc  \n",
       "0  2025-01-03  2024-12-30        1  1.0  \n",
       "1  2025-01-10  2025-01-10        1  1.0  \n",
       "2  2025-01-27  2025-01-21        1  1.0  "
      ]
     },
     "execution_count": 20,
     "metadata": {},
     "output_type": "execute_result"
    }
   ],
   "source": [
    "facturas"
   ]
  },
  {
   "cell_type": "code",
   "execution_count": 23,
   "metadata": {},
   "outputs": [
    {
     "data": {
      "text/plain": [
       "2128718.0"
      ]
     },
     "execution_count": 23,
     "metadata": {},
     "output_type": "execute_result"
    }
   ],
   "source": [
    "818738.0+1309980.0"
   ]
  },
  {
   "cell_type": "code",
   "execution_count": 42,
   "metadata": {},
   "outputs": [
    {
     "name": "stdout",
     "output_type": "stream",
     "text": [
      "214\n",
      " 150\n",
      "1\n",
      " 159\n",
      "1\n",
      "215\n",
      " 151\n",
      "1\n",
      "216\n",
      " 152\n",
      "1\n",
      " 153\n",
      "1\n",
      "217\n",
      " 154\n",
      "1\n",
      " 155\n",
      "1\n",
      "249\n",
      " 157\n",
      "1\n",
      " 158\n",
      "1\n",
      " 212\n",
      "1\n",
      "483\n",
      " 417\n",
      "1\n",
      " 426\n",
      "0\n",
      " 440\n",
      "1\n",
      " 441\n",
      "1\n",
      " 442\n",
      "0\n",
      "487\n",
      " 374\n",
      "1\n",
      " 443\n",
      "1\n",
      "542\n",
      " 455\n",
      "1\n",
      "573\n",
      " 515\n",
      "1\n",
      "635\n",
      " 515\n",
      "1\n",
      "665\n",
      " 544\n",
      "1\n"
     ]
    }
   ],
   "source": [
    "for i in cobros.cobro_id.unique():\n",
    "    print(i)\n",
    "    fac_ids=cobros_facturas.loc[cobros_facturas['cobro_id']==i].facture_id.unique()\n",
    "    for j in fac_ids:\n",
    "        print('',j)\n",
    "        print(len(facturas.loc[facturas['id']==j,['id','facture']]))"
   ]
  },
  {
   "cell_type": "code",
   "execution_count": 10,
   "metadata": {},
   "outputs": [
    {
     "ename": "AttributeError",
     "evalue": "'DataFrame' object has no attribute 'facture_id'",
     "output_type": "error",
     "traceback": [
      "\u001b[1;31m---------------------------------------------------------------------------\u001b[0m",
      "\u001b[1;31mAttributeError\u001b[0m                            Traceback (most recent call last)",
      "Cell \u001b[1;32mIn [10], line 1\u001b[0m\n\u001b[1;32m----> 1\u001b[0m \u001b[43mcobros\u001b[49m\u001b[38;5;241;43m.\u001b[39;49m\u001b[43mfacture_id\u001b[49m\n",
      "File \u001b[1;32mc:\\Users\\fgonzalez\\AppData\\Local\\Programs\\Python\\Python310\\lib\\site-packages\\pandas\\core\\generic.py:5575\u001b[0m, in \u001b[0;36mNDFrame.__getattr__\u001b[1;34m(self, name)\u001b[0m\n\u001b[0;32m   5568\u001b[0m \u001b[38;5;28;01mif\u001b[39;00m (\n\u001b[0;32m   5569\u001b[0m     name \u001b[38;5;129;01mnot\u001b[39;00m \u001b[38;5;129;01min\u001b[39;00m \u001b[38;5;28mself\u001b[39m\u001b[38;5;241m.\u001b[39m_internal_names_set\n\u001b[0;32m   5570\u001b[0m     \u001b[38;5;129;01mand\u001b[39;00m name \u001b[38;5;129;01mnot\u001b[39;00m \u001b[38;5;129;01min\u001b[39;00m \u001b[38;5;28mself\u001b[39m\u001b[38;5;241m.\u001b[39m_metadata\n\u001b[0;32m   5571\u001b[0m     \u001b[38;5;129;01mand\u001b[39;00m name \u001b[38;5;129;01mnot\u001b[39;00m \u001b[38;5;129;01min\u001b[39;00m \u001b[38;5;28mself\u001b[39m\u001b[38;5;241m.\u001b[39m_accessors\n\u001b[0;32m   5572\u001b[0m     \u001b[38;5;129;01mand\u001b[39;00m \u001b[38;5;28mself\u001b[39m\u001b[38;5;241m.\u001b[39m_info_axis\u001b[38;5;241m.\u001b[39m_can_hold_identifiers_and_holds_name(name)\n\u001b[0;32m   5573\u001b[0m ):\n\u001b[0;32m   5574\u001b[0m     \u001b[38;5;28;01mreturn\u001b[39;00m \u001b[38;5;28mself\u001b[39m[name]\n\u001b[1;32m-> 5575\u001b[0m \u001b[38;5;28;01mreturn\u001b[39;00m \u001b[38;5;28;43mobject\u001b[39;49m\u001b[38;5;241;43m.\u001b[39;49m\u001b[38;5;21;43m__getattribute__\u001b[39;49m\u001b[43m(\u001b[49m\u001b[38;5;28;43mself\u001b[39;49m\u001b[43m,\u001b[49m\u001b[43m \u001b[49m\u001b[43mname\u001b[49m\u001b[43m)\u001b[49m\n",
      "\u001b[1;31mAttributeError\u001b[0m: 'DataFrame' object has no attribute 'facture_id'"
     ]
    }
   ],
   "source": [
    "cobros.facture_id"
   ]
  },
  {
   "cell_type": "code",
   "execution_count": 32,
   "metadata": {},
   "outputs": [
    {
     "ename": "NameError",
     "evalue": "name 'all_facturas' is not defined",
     "output_type": "error",
     "traceback": [
      "\u001b[1;31m---------------------------------------------------------------------------\u001b[0m",
      "\u001b[1;31mNameError\u001b[0m                                 Traceback (most recent call last)",
      "Input \u001b[1;32mIn [32]\u001b[0m, in \u001b[0;36m<cell line: 1>\u001b[1;34m()\u001b[0m\n\u001b[1;32m----> 1\u001b[0m \u001b[43mall_facturas\u001b[49m\n",
      "\u001b[1;31mNameError\u001b[0m: name 'all_facturas' is not defined"
     ]
    }
   ],
   "source": [
    "all_facturas"
   ]
  },
  {
   "cell_type": "code",
   "execution_count": 18,
   "metadata": {},
   "outputs": [
    {
     "data": {
      "text/html": [
       "<div>\n",
       "<style scoped>\n",
       "    .dataframe tbody tr th:only-of-type {\n",
       "        vertical-align: middle;\n",
       "    }\n",
       "\n",
       "    .dataframe tbody tr th {\n",
       "        vertical-align: top;\n",
       "    }\n",
       "\n",
       "    .dataframe thead th {\n",
       "        text-align: right;\n",
       "    }\n",
       "</style>\n",
       "<table border=\"1\" class=\"dataframe\">\n",
       "  <thead>\n",
       "    <tr style=\"text-align: right;\">\n",
       "      <th></th>\n",
       "      <th>cobro_id</th>\n",
       "      <th>facture_id</th>\n",
       "      <th>id</th>\n",
       "      <th>created_at</th>\n",
       "      <th>updated_at</th>\n",
       "    </tr>\n",
       "  </thead>\n",
       "  <tbody>\n",
       "    <tr>\n",
       "      <th>639</th>\n",
       "      <td>679</td>\n",
       "      <td>167</td>\n",
       "      <td>1034</td>\n",
       "      <td>2025-01-26</td>\n",
       "      <td>2025-01-26</td>\n",
       "    </tr>\n",
       "  </tbody>\n",
       "</table>\n",
       "</div>"
      ],
      "text/plain": [
       "     cobro_id  facture_id    id  created_at  updated_at\n",
       "639       679         167  1034  2025-01-26  2025-01-26"
      ]
     },
     "execution_count": 18,
     "metadata": {},
     "output_type": "execute_result"
    }
   ],
   "source": [
    "cobros_facturas.loc[cobros_facturas['cobro_id']==679]"
   ]
  },
  {
   "cell_type": "code",
   "execution_count": 26,
   "metadata": {},
   "outputs": [
    {
     "name": "stderr",
     "output_type": "stream",
     "text": [
      "C:\\Users\\hp\\AppData\\Local\\Temp\\ipykernel_14000\\141872390.py:1: SettingWithCopyWarning: \n",
      "A value is trying to be set on a copy of a slice from a DataFrame.\n",
      "Try using .loc[row_indexer,col_indexer] = value instead\n",
      "\n",
      "See the caveats in the documentation: https://pandas.pydata.org/pandas-docs/stable/user_guide/indexing.html#returning-a-view-versus-a-copy\n",
      "  allcobros['ordinal']=range(1,len(allcobros)+1)\n"
     ]
    }
   ],
   "source": [
    "allcobros['ordinal']=range(1,len(allcobros)+1)"
   ]
  },
  {
   "cell_type": "code",
   "execution_count": 27,
   "metadata": {},
   "outputs": [
    {
     "data": {
      "text/html": [
       "<div>\n",
       "<style scoped>\n",
       "    .dataframe tbody tr th:only-of-type {\n",
       "        vertical-align: middle;\n",
       "    }\n",
       "\n",
       "    .dataframe tbody tr th {\n",
       "        vertical-align: top;\n",
       "    }\n",
       "\n",
       "    .dataframe thead th {\n",
       "        text-align: right;\n",
       "    }\n",
       "</style>\n",
       "<table border=\"1\" class=\"dataframe\">\n",
       "  <thead>\n",
       "    <tr style=\"text-align: right;\">\n",
       "      <th></th>\n",
       "      <th>cobro_id</th>\n",
       "      <th>order_id</th>\n",
       "      <th>id</th>\n",
       "      <th>created_at</th>\n",
       "      <th>updated_at</th>\n",
       "      <th>amount</th>\n",
       "      <th>comp</th>\n",
       "      <th>date</th>\n",
       "      <th>bank_id</th>\n",
       "      <th>customer_id</th>\n",
       "      <th>invoice</th>\n",
       "      <th>noha</th>\n",
       "      <th>seller_id</th>\n",
       "      <th>comision</th>\n",
       "      <th>total</th>\n",
       "      <th>ordinal</th>\n",
       "    </tr>\n",
       "  </thead>\n",
       "  <tbody>\n",
       "    <tr>\n",
       "      <th>33</th>\n",
       "      <td>58</td>\n",
       "      <td>155</td>\n",
       "      <td>40</td>\n",
       "      <td>None</td>\n",
       "      <td>None</td>\n",
       "      <td>1252626.0</td>\n",
       "      <td>1862</td>\n",
       "      <td>2022-12-29</td>\n",
       "      <td>2</td>\n",
       "      <td>446</td>\n",
       "      <td>2950</td>\n",
       "      <td>2022</td>\n",
       "      <td>14</td>\n",
       "      <td>0.003</td>\n",
       "      <td>2505252.0</td>\n",
       "      <td>1</td>\n",
       "    </tr>\n",
       "    <tr>\n",
       "      <th>34</th>\n",
       "      <td>59</td>\n",
       "      <td>155</td>\n",
       "      <td>41</td>\n",
       "      <td>None</td>\n",
       "      <td>None</td>\n",
       "      <td>1002100.8</td>\n",
       "      <td>1940</td>\n",
       "      <td>2023-03-28</td>\n",
       "      <td>2</td>\n",
       "      <td>446</td>\n",
       "      <td>2950</td>\n",
       "      <td>2022</td>\n",
       "      <td>14</td>\n",
       "      <td>0.003</td>\n",
       "      <td>2505252.0</td>\n",
       "      <td>2</td>\n",
       "    </tr>\n",
       "    <tr>\n",
       "      <th>540</th>\n",
       "      <td>595</td>\n",
       "      <td>155</td>\n",
       "      <td>580</td>\n",
       "      <td>2024-03-01</td>\n",
       "      <td>2024-03-01</td>\n",
       "      <td>250525.2</td>\n",
       "      <td>2297</td>\n",
       "      <td>2024-03-01</td>\n",
       "      <td>2</td>\n",
       "      <td>446</td>\n",
       "      <td>2950</td>\n",
       "      <td>2022</td>\n",
       "      <td>14</td>\n",
       "      <td>0.003</td>\n",
       "      <td>2505252.0</td>\n",
       "      <td>3</td>\n",
       "    </tr>\n",
       "  </tbody>\n",
       "</table>\n",
       "</div>"
      ],
      "text/plain": [
       "     cobro_id  order_id   id  created_at  updated_at     amount  comp  \\\n",
       "33         58       155   40        None        None  1252626.0  1862   \n",
       "34         59       155   41        None        None  1002100.8  1940   \n",
       "540       595       155  580  2024-03-01  2024-03-01   250525.2  2297   \n",
       "\n",
       "           date  bank_id  customer_id invoice  noha  seller_id  comision  \\\n",
       "33   2022-12-29        2          446    2950  2022         14     0.003   \n",
       "34   2023-03-28        2          446    2950  2022         14     0.003   \n",
       "540  2024-03-01        2          446    2950  2022         14     0.003   \n",
       "\n",
       "         total  ordinal  \n",
       "33   2505252.0        1  \n",
       "34   2505252.0        2  \n",
       "540  2505252.0        3  "
      ]
     },
     "execution_count": 27,
     "metadata": {},
     "output_type": "execute_result"
    }
   ],
   "source": [
    "allcobros"
   ]
  },
  {
   "cell_type": "code",
   "execution_count": null,
   "metadata": {},
   "outputs": [
    {
     "data": {
      "text/html": [
       "<div>\n",
       "<style scoped>\n",
       "    .dataframe tbody tr th:only-of-type {\n",
       "        vertical-align: middle;\n",
       "    }\n",
       "\n",
       "    .dataframe tbody tr th {\n",
       "        vertical-align: top;\n",
       "    }\n",
       "\n",
       "    .dataframe thead th {\n",
       "        text-align: right;\n",
       "    }\n",
       "</style>\n",
       "<table border=\"1\" class=\"dataframe\">\n",
       "  <thead>\n",
       "    <tr style=\"text-align: right;\">\n",
       "      <th></th>\n",
       "      <th>cobro_id</th>\n",
       "      <th>order_id</th>\n",
       "      <th>id</th>\n",
       "      <th>created_at</th>\n",
       "      <th>updated_at</th>\n",
       "      <th>amount</th>\n",
       "      <th>comp</th>\n",
       "      <th>date</th>\n",
       "      <th>bank_id</th>\n",
       "      <th>customer_id</th>\n",
       "      <th>invoice</th>\n",
       "      <th>noha</th>\n",
       "      <th>seller_id</th>\n",
       "      <th>comision</th>\n",
       "      <th>total</th>\n",
       "    </tr>\n",
       "  </thead>\n",
       "  <tbody>\n",
       "    <tr>\n",
       "      <th>0</th>\n",
       "      <td>21</td>\n",
       "      <td>116</td>\n",
       "      <td>4</td>\n",
       "      <td>None</td>\n",
       "      <td>None</td>\n",
       "      <td>150000.00</td>\n",
       "      <td>1066</td>\n",
       "      <td>2020-02-24</td>\n",
       "      <td>2</td>\n",
       "      <td>506</td>\n",
       "      <td>2175</td>\n",
       "      <td>12020</td>\n",
       "      <td>2</td>\n",
       "      <td>0.030</td>\n",
       "      <td>356120.00</td>\n",
       "    </tr>\n",
       "    <tr>\n",
       "      <th>1</th>\n",
       "      <td>22</td>\n",
       "      <td>116</td>\n",
       "      <td>5</td>\n",
       "      <td>None</td>\n",
       "      <td>None</td>\n",
       "      <td>20000.00</td>\n",
       "      <td>1472</td>\n",
       "      <td>2021-08-16</td>\n",
       "      <td>2</td>\n",
       "      <td>506</td>\n",
       "      <td>2175</td>\n",
       "      <td>12020</td>\n",
       "      <td>2</td>\n",
       "      <td>0.030</td>\n",
       "      <td>356120.00</td>\n",
       "    </tr>\n",
       "    <tr>\n",
       "      <th>2</th>\n",
       "      <td>23</td>\n",
       "      <td>116</td>\n",
       "      <td>6</td>\n",
       "      <td>None</td>\n",
       "      <td>None</td>\n",
       "      <td>20000.00</td>\n",
       "      <td>1492</td>\n",
       "      <td>2021-09-17</td>\n",
       "      <td>2</td>\n",
       "      <td>506</td>\n",
       "      <td>2175</td>\n",
       "      <td>12020</td>\n",
       "      <td>2</td>\n",
       "      <td>0.030</td>\n",
       "      <td>356120.00</td>\n",
       "    </tr>\n",
       "    <tr>\n",
       "      <th>3</th>\n",
       "      <td>24</td>\n",
       "      <td>116</td>\n",
       "      <td>7</td>\n",
       "      <td>None</td>\n",
       "      <td>None</td>\n",
       "      <td>23200.00</td>\n",
       "      <td>1526</td>\n",
       "      <td>2021-11-12</td>\n",
       "      <td>2</td>\n",
       "      <td>506</td>\n",
       "      <td>2175</td>\n",
       "      <td>12020</td>\n",
       "      <td>2</td>\n",
       "      <td>0.030</td>\n",
       "      <td>356120.00</td>\n",
       "    </tr>\n",
       "    <tr>\n",
       "      <th>4</th>\n",
       "      <td>25</td>\n",
       "      <td>116</td>\n",
       "      <td>8</td>\n",
       "      <td>None</td>\n",
       "      <td>None</td>\n",
       "      <td>23200.00</td>\n",
       "      <td>1552</td>\n",
       "      <td>2021-12-23</td>\n",
       "      <td>2</td>\n",
       "      <td>506</td>\n",
       "      <td>2175</td>\n",
       "      <td>12020</td>\n",
       "      <td>2</td>\n",
       "      <td>0.030</td>\n",
       "      <td>356120.00</td>\n",
       "    </tr>\n",
       "    <tr>\n",
       "      <th>...</th>\n",
       "      <td>...</td>\n",
       "      <td>...</td>\n",
       "      <td>...</td>\n",
       "      <td>...</td>\n",
       "      <td>...</td>\n",
       "      <td>...</td>\n",
       "      <td>...</td>\n",
       "      <td>...</td>\n",
       "      <td>...</td>\n",
       "      <td>...</td>\n",
       "      <td>...</td>\n",
       "      <td>...</td>\n",
       "      <td>...</td>\n",
       "      <td>...</td>\n",
       "      <td>...</td>\n",
       "    </tr>\n",
       "    <tr>\n",
       "      <th>632</th>\n",
       "      <td>695</td>\n",
       "      <td>332</td>\n",
       "      <td>688</td>\n",
       "      <td>2024-05-17</td>\n",
       "      <td>2024-05-17</td>\n",
       "      <td>55482.68</td>\n",
       "      <td>2381</td>\n",
       "      <td>2024-05-16</td>\n",
       "      <td>1</td>\n",
       "      <td>418</td>\n",
       "      <td>3102</td>\n",
       "      <td>1412023</td>\n",
       "      <td>14</td>\n",
       "      <td>0.003</td>\n",
       "      <td>1090632.00</td>\n",
       "    </tr>\n",
       "    <tr>\n",
       "      <th>633</th>\n",
       "      <td>695</td>\n",
       "      <td>451</td>\n",
       "      <td>689</td>\n",
       "      <td>2024-05-17</td>\n",
       "      <td>2024-05-17</td>\n",
       "      <td>92624.84</td>\n",
       "      <td>2381</td>\n",
       "      <td>2024-05-16</td>\n",
       "      <td>1</td>\n",
       "      <td>418</td>\n",
       "      <td>3102</td>\n",
       "      <td>1412023</td>\n",
       "      <td>14</td>\n",
       "      <td>0.003</td>\n",
       "      <td>1090632.00</td>\n",
       "    </tr>\n",
       "    <tr>\n",
       "      <th>634</th>\n",
       "      <td>696</td>\n",
       "      <td>438</td>\n",
       "      <td>690</td>\n",
       "      <td>2024-05-17</td>\n",
       "      <td>2024-05-17</td>\n",
       "      <td>444048.00</td>\n",
       "      <td>2382</td>\n",
       "      <td>2024-05-16</td>\n",
       "      <td>2</td>\n",
       "      <td>337</td>\n",
       "      <td>3191</td>\n",
       "      <td>42</td>\n",
       "      <td>5</td>\n",
       "      <td>0.003</td>\n",
       "      <td>1110120.00</td>\n",
       "    </tr>\n",
       "    <tr>\n",
       "      <th>635</th>\n",
       "      <td>697</td>\n",
       "      <td>398</td>\n",
       "      <td>691</td>\n",
       "      <td>2024-05-17</td>\n",
       "      <td>2024-05-17</td>\n",
       "      <td>502194.16</td>\n",
       "      <td>2383</td>\n",
       "      <td>2024-05-17</td>\n",
       "      <td>2</td>\n",
       "      <td>424</td>\n",
       "      <td>3160</td>\n",
       "      <td>11</td>\n",
       "      <td>2</td>\n",
       "      <td>0.003</td>\n",
       "      <td>1062388.32</td>\n",
       "    </tr>\n",
       "    <tr>\n",
       "      <th>636</th>\n",
       "      <td>698</td>\n",
       "      <td>375</td>\n",
       "      <td>692</td>\n",
       "      <td>2024-05-17</td>\n",
       "      <td>2024-05-17</td>\n",
       "      <td>1087516.70</td>\n",
       "      <td>2384</td>\n",
       "      <td>2024-05-17</td>\n",
       "      <td>1</td>\n",
       "      <td>349</td>\n",
       "      <td>3142</td>\n",
       "      <td>1812023</td>\n",
       "      <td>5</td>\n",
       "      <td>0.003</td>\n",
       "      <td>2718791.76</td>\n",
       "    </tr>\n",
       "  </tbody>\n",
       "</table>\n",
       "<p>637 rows × 15 columns</p>\n",
       "</div>"
      ],
      "text/plain": [
       "     cobro_id  order_id   id  created_at  updated_at      amount  comp  \\\n",
       "0          21       116    4        None        None   150000.00  1066   \n",
       "1          22       116    5        None        None    20000.00  1472   \n",
       "2          23       116    6        None        None    20000.00  1492   \n",
       "3          24       116    7        None        None    23200.00  1526   \n",
       "4          25       116    8        None        None    23200.00  1552   \n",
       "..        ...       ...  ...         ...         ...         ...   ...   \n",
       "632       695       332  688  2024-05-17  2024-05-17    55482.68  2381   \n",
       "633       695       451  689  2024-05-17  2024-05-17    92624.84  2381   \n",
       "634       696       438  690  2024-05-17  2024-05-17   444048.00  2382   \n",
       "635       697       398  691  2024-05-17  2024-05-17   502194.16  2383   \n",
       "636       698       375  692  2024-05-17  2024-05-17  1087516.70  2384   \n",
       "\n",
       "           date  bank_id  customer_id invoice     noha  seller_id  comision  \\\n",
       "0    2020-02-24        2          506    2175    12020          2     0.030   \n",
       "1    2021-08-16        2          506    2175    12020          2     0.030   \n",
       "2    2021-09-17        2          506    2175    12020          2     0.030   \n",
       "3    2021-11-12        2          506    2175    12020          2     0.030   \n",
       "4    2021-12-23        2          506    2175    12020          2     0.030   \n",
       "..          ...      ...          ...     ...      ...        ...       ...   \n",
       "632  2024-05-16        1          418    3102  1412023         14     0.003   \n",
       "633  2024-05-16        1          418    3102  1412023         14     0.003   \n",
       "634  2024-05-16        2          337    3191       42          5     0.003   \n",
       "635  2024-05-17        2          424    3160       11          2     0.003   \n",
       "636  2024-05-17        1          349    3142  1812023          5     0.003   \n",
       "\n",
       "          total  \n",
       "0     356120.00  \n",
       "1     356120.00  \n",
       "2     356120.00  \n",
       "3     356120.00  \n",
       "4     356120.00  \n",
       "..          ...  \n",
       "632  1090632.00  \n",
       "633  1090632.00  \n",
       "634  1110120.00  \n",
       "635  1062388.32  \n",
       "636  2718791.76  \n",
       "\n",
       "[637 rows x 15 columns]"
      ]
     },
     "execution_count": 7,
     "metadata": {},
     "output_type": "execute_result"
    }
   ],
   "source": [
    "cobros[['invoive']]"
   ]
  },
  {
   "cell_type": "code",
   "execution_count": null,
   "metadata": {},
   "outputs": [],
   "source": []
  }
 ],
 "metadata": {
  "kernelspec": {
   "display_name": "Python 3",
   "language": "python",
   "name": "python3"
  },
  "language_info": {
   "codemirror_mode": {
    "name": "ipython",
    "version": 3
   },
   "file_extension": ".py",
   "mimetype": "text/x-python",
   "name": "python",
   "nbconvert_exporter": "python",
   "pygments_lexer": "ipython3",
   "version": "3.10.7"
  }
 },
 "nbformat": 4,
 "nbformat_minor": 2
}
