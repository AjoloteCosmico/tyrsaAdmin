{
 "cells": [
  {
   "cell_type": "code",
   "execution_count": 1,
   "metadata": {},
   "outputs": [
    {
     "name": "stderr",
     "output_type": "stream",
     "text": [
      "C:\\Users\\hp\\AppData\\Local\\Temp\\ipykernel_5276\\1799481814.py:34: UserWarning: pandas only supports SQLAlchemy connectable (engine/connection) or database string URI or sqlite3 DBAPI2 connection. Other DBAPI2 objects are not tested. Please consider using SQLAlchemy.\n",
      "  pedidos=pd.read_sql(\"\"\"Select internal_orders.* ,customers.clave,customers.alias,\n",
      "C:\\Users\\hp\\AppData\\Local\\Temp\\ipykernel_5276\\1799481814.py:41: UserWarning: pandas only supports SQLAlchemy connectable (engine/connection) or database string URI or sqlite3 DBAPI2 connection. Other DBAPI2 objects are not tested. Please consider using SQLAlchemy.\n",
      "  cobros=pd.read_sql(\"\"\"select cobro_orders.*\n",
      "C:\\Users\\hp\\AppData\\Local\\Temp\\ipykernel_5276\\1799481814.py:47: UserWarning: pandas only supports SQLAlchemy connectable (engine/connection) or database string URI or sqlite3 DBAPI2 connection. Other DBAPI2 objects are not tested. Please consider using SQLAlchemy.\n",
      "  facturas=pd.read_sql(\"\"\"select *\n",
      "C:\\Users\\hp\\AppData\\Local\\Temp\\ipykernel_5276\\1799481814.py:52: UserWarning: pandas only supports SQLAlchemy connectable (engine/connection) or database string URI or sqlite3 DBAPI2 connection. Other DBAPI2 objects are not tested. Please consider using SQLAlchemy.\n",
      "  creditos=pd.read_sql(\"\"\"select *\n"
     ]
    },
    {
     "name": "stdout",
     "output_type": "stream",
     "text": [
      "here\n",
      "here\n",
      "here\n",
      "here\n",
      "here\n",
      "here\n",
      "here\n",
      "here\n",
      "here\n",
      "here\n"
     ]
    }
   ],
   "source": [
    "import sys\n",
    "import mysql.connector\n",
    "import xlsxwriter\n",
    "import pandas as pd\n",
    "import sys\n",
    "import mysql.connector\n",
    "import os\n",
    "from dotenv import load_dotenv\n",
    "load_dotenv()\n",
    "#ESTE ARGUMENTO NO SE USA EN ESTE REPORTE, SERÁ 0 SIEMPRE UWU\n",
    "id=str(sys.argv[1])\n",
    "#configurar la conexion a la base de datos\n",
    "DB_USERNAME = os.getenv('DB_USERNAME')\n",
    "DB_DATABASE = os.getenv('DB_DATABASE')\n",
    "DB_PASSWORD = os.getenv('DB_PASSWORD')\n",
    "DB_PORT = os.getenv('DB_PORT')\n",
    "a_color='#354F84'\n",
    "b_color='#91959E'\n",
    "# Conectar a DB\n",
    "cnx = mysql.connector.connect(user=DB_USERNAME,\n",
    "                              password=DB_PASSWORD,\n",
    "                              host='localhost',\n",
    "                              port=DB_PORT,\n",
    "                              database=DB_DATABASE,\n",
    "                              use_pure=False)\n",
    "#Seccion para traer informacion de la base\n",
    "query = ('SELECT * from customers where id = 1')\n",
    "\n",
    "# join para cobros\n",
    "# cobros=pd.read_sql('Select cobros.* ,customers.customer,internal_orders.invoice, users.name from ((cobros inner join internal_orders on internal_orders.id = cobros.order_id) inner join customers on customers.id = internal_orders.customer_id )inner join users on cobros.capturo=users.id',cnx)\n",
    "\n",
    "\n",
    "#traer datos de los pedidos\n",
    "pedidos=pd.read_sql(\"\"\"Select internal_orders.* ,customers.clave,customers.alias,\n",
    "coins.exchange_sell, coins.coin, coins.symbol, coins.code\n",
    "from ((\n",
    "    internal_orders\n",
    "    inner join customers on customers.id = internal_orders.customer_id )\n",
    "    inner join coins on internal_orders.coin_id = coins.id)\n",
    "     \"\"\",cnx)\n",
    "cobros=pd.read_sql(\"\"\"select cobro_orders.*\n",
    "                     from (((\n",
    "                         cobro_orders \n",
    "    inner join cobros on cobros.id=cobro_orders.cobro_id)\n",
    "    inner join internal_orders on internal_orders.id = cobros.order_id )\n",
    "    inner join coins on internal_orders.coin_id = coins.id) \"\"\",cnx)\n",
    "facturas=pd.read_sql(\"\"\"select * \n",
    "                     from ((\n",
    "                         factures\n",
    "    inner join internal_orders on internal_orders.id = factures.order_id )\n",
    "    inner join coins on internal_orders.coin_id = coins.id) \"\"\",cnx)\n",
    "creditos=pd.read_sql(\"\"\"select * \n",
    "                     from ((\n",
    "                         credit_notes    inner join internal_orders on internal_orders.id = credit_notes.order_id )\n",
    "    inner join coins on internal_orders.coin_id = coins.id) \"\"\",cnx)\n",
    "\n",
    "\n",
    "#Agregar columna con saldo en los cobros\n",
    "pedidos=pedidos.assign(saldo=0.0)\n",
    "for i in range(len(pedidos)):\n",
    "    pedidos['saldo'].values[i]=cobros.loc[cobros['order_id']==pedidos['id'].values[i],'amount'].sum()\n",
    "    if(cobros.loc[cobros['order_id']==pedidos['id'].values[i],'amount'].sum()<=1):\n",
    "        print('here')\n",
    "\n",
    "pedidosc=pedidos.loc[pedidos['total']-pedidos['saldo']<=1]\n",
    "pedidos_interes=pedidosc.loc[pedidosc['total']<pedidosc['saldo']]\n",
    "saldo_excedido=(pedidos_interes['saldo'].sum()-pedidos_interes['total'].sum())/1.16\n"
   ]
  },
  {
   "cell_type": "code",
   "execution_count": 13,
   "metadata": {},
   "outputs": [
    {
     "name": "stderr",
     "output_type": "stream",
     "text": [
      "C:\\Users\\hp\\AppData\\Local\\Temp\\ipykernel_5276\\1843457667.py:1: UserWarning: pandas only supports SQLAlchemy connectable (engine/connection) or database string URI or sqlite3 DBAPI2 connection. Other DBAPI2 objects are not tested. Please consider using SQLAlchemy.\n",
      "  customers=pd.read_sql(\"SELECT * from customers\",cnx)\n"
     ]
    }
   ],
   "source": [
    "customers=pd.read_sql(\"SELECT * from customers\",cnx)"
   ]
  },
  {
   "cell_type": "code",
   "execution_count": 7,
   "metadata": {},
   "outputs": [],
   "source": [
    "pedidos_interes=pedidos_interes.assign(exceso=lambda x: x.saldo -x.total )"
   ]
  },
  {
   "cell_type": "code",
   "execution_count": 22,
   "metadata": {},
   "outputs": [],
   "source": [
    "pedidos_interes[['invoice','customer_id','saldo','total','exceso','coin']].merge(customers[['customer','customer_id','clave']],how='inner',on='customer_id').to_excel('excesos.xlsx')"
   ]
  },
  {
   "cell_type": "code",
   "execution_count": 17,
   "metadata": {},
   "outputs": [],
   "source": [
    "customers=customers.rename(columns={'id':'customer_id'})"
   ]
  },
  {
   "cell_type": "code",
   "execution_count": 25,
   "metadata": {},
   "outputs": [
    {
     "data": {
      "text/plain": [
       "0            230\n",
       "1              1\n",
       "2              1\n",
       "3            242\n",
       "4            268\n",
       "5              4\n",
       "6             55\n",
       "7             18\n",
       "8            331\n",
       "9            334\n",
       "10            10\n",
       "11           285\n",
       "12           285\n",
       "13           348\n",
       "14            93\n",
       "15           352\n",
       "16            76\n",
       "17            76\n",
       "18           333\n",
       "19           333\n",
       "Name: clave, dtype: object"
      ]
     },
     "execution_count": 25,
     "metadata": {},
     "output_type": "execute_result"
    }
   ],
   "source": [
    "pedidos_interes[['invoice','customer_id','saldo','total','exceso','coin']].merge(customers[['customer','customer_id','clave']],how='inner',on='customer_id')['clave']"
   ]
  },
  {
   "cell_type": "code",
   "execution_count": 23,
   "metadata": {},
   "outputs": [
    {
     "data": {
      "text/plain": [
       "id                                       int64\n",
       "invoice                                 object\n",
       "date                                    object\n",
       "customer_id                              int64\n",
       "seller_id                                int64\n",
       "date_delivery                           object\n",
       "instalation_date                        object\n",
       "shipment                                object\n",
       "customer_shipping_address_id             int64\n",
       "coin_id                                  int64\n",
       "subtotal                               float64\n",
       "iva                                    float64\n",
       "total                                  float64\n",
       "payment_conditions                      object\n",
       "pays                                    object\n",
       "observations                            object\n",
       "status                                  object\n",
       "authorization_id                         int64\n",
       "created_at                      datetime64[ns]\n",
       "updated_at                      datetime64[ns]\n",
       "comision                               float64\n",
       "reg_date                                object\n",
       "oc                                      object\n",
       "ncontrato                               object\n",
       "isr                                    float64\n",
       "ieps                                   float64\n",
       "descuento                              float64\n",
       "ncotizacion                             object\n",
       "otra                                   float64\n",
       "dgi                                    float64\n",
       "noha                                     int64\n",
       "ret                                    float64\n",
       "tasa                                   float64\n",
       "description                             object\n",
       "category                                object\n",
       "clave                                   object\n",
       "alias                                   object\n",
       "exchange_sell                          float64\n",
       "coin                                    object\n",
       "symbol                                  object\n",
       "code                                    object\n",
       "saldo                                  float64\n",
       "exceso                                 float64\n",
       "dtype: object"
      ]
     },
     "execution_count": 23,
     "metadata": {},
     "output_type": "execute_result"
    }
   ],
   "source": [
    "pedidos_interes.dtypes"
   ]
  },
  {
   "cell_type": "code",
   "execution_count": null,
   "metadata": {},
   "outputs": [],
   "source": []
  }
 ],
 "metadata": {
  "kernelspec": {
   "display_name": "Python 3",
   "language": "python",
   "name": "python3"
  },
  "language_info": {
   "codemirror_mode": {
    "name": "ipython",
    "version": 3
   },
   "file_extension": ".py",
   "mimetype": "text/x-python",
   "name": "python",
   "nbconvert_exporter": "python",
   "pygments_lexer": "ipython3",
   "version": "3.10.0"
  }
 },
 "nbformat": 4,
 "nbformat_minor": 2
}
