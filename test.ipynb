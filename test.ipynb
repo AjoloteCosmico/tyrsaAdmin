{
 "cells": [
  {
   "cell_type": "code",
   "execution_count": 9,
   "metadata": {},
   "outputs": [
    {
     "name": "stderr",
     "output_type": "stream",
     "text": [
      "C:\\Users\\hp\\AppData\\Local\\Temp\\ipykernel_640\\117123331.py:4: FutureWarning: The frame.append method is deprecated and will be removed from pandas in a future version. Use pandas.concat instead.\n",
      "  report=report.append({\"nfactura\": 23,\"moneda\": \"peso mexicano\"},ignore_index=True)\n"
     ]
    }
   ],
   "source": [
    "import pandas as pd\n",
    "import pandas as pd\n",
    "report=pd.DataFrame()\n",
    "report=report.append({\"nfactura\": 23,\"moneda\": \"peso mexicano\"},ignore_index=True)\n",
    "report.to_excel(\"public/storage/report/reporte-test2.xlsx\")"
   ]
  },
  {
   "cell_type": "code",
   "execution_count": 10,
   "metadata": {},
   "outputs": [],
   "source": [
    "import pandas as pd\n",
    "import sys\n",
    "import mysql.connector\n",
    "id=209\n"
   ]
  },
  {
   "cell_type": "code",
   "execution_count": 57,
   "metadata": {},
   "outputs": [],
   "source": [
    "cnx = mysql.connector.connect(user='tyrsa',\n",
    "                              password='1234',\n",
    "                              host='localhost',\n",
    "                              port='8111',\n",
    "                              database='u458219132_tyrsawesadmin',\n",
    "                              use_pure=False)\n",
    "cursor=cnx.cursor(buffered=True)"
   ]
  },
  {
   "cell_type": "code",
   "execution_count": 78,
   "metadata": {},
   "outputs": [
    {
     "name": "stdout",
     "output_type": "stream",
     "text": [
      "46\n"
     ]
    },
    {
     "name": "stderr",
     "output_type": "stream",
     "text": [
      "C:\\Users\\hp\\AppData\\Local\\Temp\\ipykernel_15772\\4260957245.py:2: UserWarning: pandas only supports SQLAlchemy connectable (engine/connection) or database string URI or sqlite3 DBAPI2 connection. Other DBAPI2 objects are not tested. Please consider using SQLAlchemy.\n",
      "  pagos=pd.read_sql(query,cnx)\n"
     ]
    },
    {
     "data": {
      "text/plain": [
       "Index(['id', 'created_at', 'updated_at', 'order_id', 'concept', 'percentage',\n",
       "       'amount', 'date', 'nota', 'status', 'nfactura', 'ncomp', 'moneda',\n",
       "       'fecha_factura', 'importe_total', 'porcentaje_parcial', 'tipo_cambio',\n",
       "       'importe_acumulado', 'porcentaje_acumulado', 'capturista'],\n",
       "      dtype='object')"
      ]
     },
     "execution_count": 78,
     "metadata": {},
     "output_type": "execute_result"
    }
   ],
   "source": [
    "cnx = mysql.connector.connect(user='tyrsa',\n",
    "                              password='1234',\n",
    "                              host='localhost',\n",
    "                              port='8111',\n",
    "                              database='u458219132_tyrsawesadmin',\n",
    "                              use_pure=False)\n",
    "                              \n",
    "cursor=cnx.cursor(buffered=True)\n",
    "query = ('SELECT * from payments')\n",
    "pagos=pd.read_sql(query,cnx)\n",
    "order_id=pagos.loc[pagos[\"id\"]==id,\"order_id\"].values[0]\n",
    "thisPays=pagos.loc[pagos[\"order_id\"]==order_id]\n",
    "print(order_id)\n",
    "pagos.columns\n"
   ]
  },
  {
   "cell_type": "code",
   "execution_count": 19,
   "metadata": {},
   "outputs": [
    {
     "data": {
      "text/html": [
       "<div>\n",
       "<style scoped>\n",
       "    .dataframe tbody tr th:only-of-type {\n",
       "        vertical-align: middle;\n",
       "    }\n",
       "\n",
       "    .dataframe tbody tr th {\n",
       "        vertical-align: top;\n",
       "    }\n",
       "\n",
       "    .dataframe thead th {\n",
       "        text-align: right;\n",
       "    }\n",
       "</style>\n",
       "<table border=\"1\" class=\"dataframe\">\n",
       "  <thead>\n",
       "    <tr style=\"text-align: right;\">\n",
       "      <th></th>\n",
       "      <th>id</th>\n",
       "      <th>order_id</th>\n",
       "      <th>concept</th>\n",
       "      <th>amount</th>\n",
       "      <th>date</th>\n",
       "      <th>tipo_cambio</th>\n",
       "      <th>porcentaje_parcial</th>\n",
       "    </tr>\n",
       "  </thead>\n",
       "  <tbody>\n",
       "    <tr>\n",
       "      <th>32</th>\n",
       "      <td>184</td>\n",
       "      <td>23</td>\n",
       "      <td>factura</td>\n",
       "      <td>391500.0</td>\n",
       "      <td>2022-12-15</td>\n",
       "      <td>10.0</td>\n",
       "      <td>60.0</td>\n",
       "    </tr>\n",
       "    <tr>\n",
       "      <th>33</th>\n",
       "      <td>185</td>\n",
       "      <td>23</td>\n",
       "      <td>2</td>\n",
       "      <td>43500.0</td>\n",
       "      <td>2022-12-21</td>\n",
       "      <td>NaN</td>\n",
       "      <td>NaN</td>\n",
       "    </tr>\n",
       "  </tbody>\n",
       "</table>\n",
       "</div>"
      ],
      "text/plain": [
       "     id  order_id  concept    amount        date  tipo_cambio  \\\n",
       "32  184        23  factura  391500.0  2022-12-15         10.0   \n",
       "33  185        23        2   43500.0  2022-12-21          NaN   \n",
       "\n",
       "    porcentaje_parcial  \n",
       "32                60.0  \n",
       "33                 NaN  "
      ]
     },
     "execution_count": 19,
     "metadata": {},
     "output_type": "execute_result"
    }
   ],
   "source": [
    "thisPays[[\"id\",\"order_id\",\"concept\",\"amount\",\"date\",\"tipo_cambio\",\"porcentaje_parcial\"]]"
   ]
  },
  {
   "cell_type": "code",
   "execution_count": 20,
   "metadata": {},
   "outputs": [],
   "source": [
    "thisPays.to_excel(\"testreport1.xlsx\")"
   ]
  },
  {
   "cell_type": "code",
   "execution_count": 23,
   "metadata": {},
   "outputs": [],
   "source": [
    "writer = pd.ExcelWriter('pandas_simple.xlsx', engine='xlsxwriter')"
   ]
  },
  {
   "cell_type": "code",
   "execution_count": 22,
   "metadata": {},
   "outputs": [
    {
     "name": "stdout",
     "output_type": "stream",
     "text": [
      "Collecting xlsxwriter\n",
      "  Downloading XlsxWriter-3.0.3-py3-none-any.whl (149 kB)\n",
      "     ------------------------------------ 150.0/150.0 kB 998.2 kB/s eta 0:00:00\n",
      "Installing collected packages: xlsxwriter\n"
     ]
    },
    {
     "name": "stderr",
     "output_type": "stream",
     "text": [
      "ERROR: Could not install packages due to an OSError: [Errno 13] Permission denied: 'C:\\\\Python310\\\\Scripts\\\\vba_extract.py'\n",
      "Consider using the `--user` option or check the permissions.\n",
      "\n",
      "\n",
      "[notice] A new release of pip available: 22.2.2 -> 22.3.1\n",
      "[notice] To update, run: python.exe -m pip install --upgrade pip\n"
     ]
    }
   ],
   "source": [
    "!pip install xlsxwriter"
   ]
  },
  {
   "cell_type": "code",
   "execution_count": 28,
   "metadata": {},
   "outputs": [
    {
     "name": "stderr",
     "output_type": "stream",
     "text": [
      "C:\\Users\\hp\\AppData\\Local\\Temp\\ipykernel_15772\\3282761628.py:11: FutureWarning: save is not part of the public API, usage can give in unexpected results and will be removed in a future version\n",
      "  writer.save()\n"
     ]
    }
   ],
   "source": [
    "\n",
    "# Create a Pandas Excel writer using XlsxWriter as the engine.\n",
    "writer = pd.ExcelWriter('pandas_simple.xlsx', engine='xlsxwriter')\n",
    "\n",
    "# Convert the dataframe to an XlsxWriter Excel object.\n",
    "df.to_excel(writer, sheet_name='Sheet1',startrow=0, startcol=1,)\n",
    "\n",
    "# Close the Pandas Excel writer and output the Excel file.\n",
    "writer.save()"
   ]
  },
  {
   "cell_type": "code",
   "execution_count": 31,
   "metadata": {},
   "outputs": [
    {
     "name": "stderr",
     "output_type": "stream",
     "text": [
      "C:\\Users\\hp\\AppData\\Local\\Temp\\ipykernel_15772\\1837818026.py:2: FutureWarning: save is not part of the public API, usage can give in unexpected results and will be removed in a future version\n",
      "  writer.save()\n"
     ]
    }
   ],
   "source": [
    "thisPays.to_excel(writer, sheet_name='Sheet1',startrow=10, startcol=1,)\n",
    "writer.save()\n"
   ]
  },
  {
   "cell_type": "code",
   "execution_count": 29,
   "metadata": {},
   "outputs": [
    {
     "data": {
      "text/html": [
       "<div>\n",
       "<style scoped>\n",
       "    .dataframe tbody tr th:only-of-type {\n",
       "        vertical-align: middle;\n",
       "    }\n",
       "\n",
       "    .dataframe tbody tr th {\n",
       "        vertical-align: top;\n",
       "    }\n",
       "\n",
       "    .dataframe thead th {\n",
       "        text-align: right;\n",
       "    }\n",
       "</style>\n",
       "<table border=\"1\" class=\"dataframe\">\n",
       "  <thead>\n",
       "    <tr style=\"text-align: right;\">\n",
       "      <th></th>\n",
       "      <th>id</th>\n",
       "      <th>created_at</th>\n",
       "      <th>updated_at</th>\n",
       "      <th>order_id</th>\n",
       "      <th>concept</th>\n",
       "      <th>percentage</th>\n",
       "      <th>amount</th>\n",
       "      <th>date</th>\n",
       "      <th>nota</th>\n",
       "      <th>status</th>\n",
       "      <th>nfactura</th>\n",
       "      <th>ncomp</th>\n",
       "      <th>moneda</th>\n",
       "      <th>fecha_factura</th>\n",
       "      <th>importe_total</th>\n",
       "      <th>porcentaje_parcial</th>\n",
       "      <th>tipo_cambio</th>\n",
       "      <th>importe_acumulado</th>\n",
       "      <th>porcentaje_acumulado</th>\n",
       "      <th>capturista</th>\n",
       "    </tr>\n",
       "  </thead>\n",
       "  <tbody>\n",
       "    <tr>\n",
       "      <th>32</th>\n",
       "      <td>184</td>\n",
       "      <td>2022-12-03 15:00:10</td>\n",
       "      <td>2022-12-08 21:11:27</td>\n",
       "      <td>23</td>\n",
       "      <td>factura</td>\n",
       "      <td>90.0</td>\n",
       "      <td>391500.0</td>\n",
       "      <td>2022-12-15</td>\n",
       "      <td>None</td>\n",
       "      <td>pagado</td>\n",
       "      <td>137.0</td>\n",
       "      <td>137.0</td>\n",
       "      <td>PESO MEXICANO</td>\n",
       "      <td>2022-12-21</td>\n",
       "      <td>38945.0</td>\n",
       "      <td>60.0</td>\n",
       "      <td>10.0</td>\n",
       "      <td>3000.0</td>\n",
       "      <td>2.0</td>\n",
       "      <td>0.0</td>\n",
       "    </tr>\n",
       "    <tr>\n",
       "      <th>33</th>\n",
       "      <td>185</td>\n",
       "      <td>2022-12-03 15:00:10</td>\n",
       "      <td>2022-12-03 15:00:10</td>\n",
       "      <td>23</td>\n",
       "      <td>2</td>\n",
       "      <td>10.0</td>\n",
       "      <td>43500.0</td>\n",
       "      <td>2022-12-21</td>\n",
       "      <td>None</td>\n",
       "      <td>por cobrar</td>\n",
       "      <td>NaN</td>\n",
       "      <td>NaN</td>\n",
       "      <td>None</td>\n",
       "      <td>None</td>\n",
       "      <td>NaN</td>\n",
       "      <td>NaN</td>\n",
       "      <td>NaN</td>\n",
       "      <td>NaN</td>\n",
       "      <td>NaN</td>\n",
       "      <td>0.0</td>\n",
       "    </tr>\n",
       "  </tbody>\n",
       "</table>\n",
       "</div>"
      ],
      "text/plain": [
       "     id          created_at          updated_at  order_id  concept  \\\n",
       "32  184 2022-12-03 15:00:10 2022-12-08 21:11:27        23  factura   \n",
       "33  185 2022-12-03 15:00:10 2022-12-03 15:00:10        23        2   \n",
       "\n",
       "    percentage    amount        date  nota      status  nfactura  ncomp  \\\n",
       "32        90.0  391500.0  2022-12-15  None      pagado     137.0  137.0   \n",
       "33        10.0   43500.0  2022-12-21  None  por cobrar       NaN    NaN   \n",
       "\n",
       "           moneda fecha_factura  importe_total  porcentaje_parcial  \\\n",
       "32  PESO MEXICANO    2022-12-21        38945.0                60.0   \n",
       "33           None          None            NaN                 NaN   \n",
       "\n",
       "    tipo_cambio  importe_acumulado  porcentaje_acumulado  capturista  \n",
       "32         10.0             3000.0                   2.0         0.0  \n",
       "33          NaN                NaN                   NaN         0.0  "
      ]
     },
     "execution_count": 29,
     "metadata": {},
     "output_type": "execute_result"
    }
   ],
   "source": [
    "thisPays"
   ]
  },
  {
   "cell_type": "code",
   "execution_count": 36,
   "metadata": {},
   "outputs": [
    {
     "name": "stderr",
     "output_type": "stream",
     "text": [
      "C:\\Users\\hp\\AppData\\Local\\Temp\\ipykernel_15772\\4184511828.py:13: FutureWarning: save is not part of the public API, usage can give in unexpected results and will be removed in a future version\n",
      "  writer.save()\n"
     ]
    }
   ],
   "source": [
    "import pandas as pd\n",
    "\n",
    "# Create a Pandas dataframe from the data.\n",
    "df = pd.DataFrame({'Data': [10, 20, 30, 20, 15, 30, 45]})\n",
    "\n",
    "# Create a Pandas Excel writer using XlsxWriter as the engine.\n",
    "writer = pd.ExcelWriter('pandas_simple.xlsx', engine='xlsxwriter')\n",
    "\n",
    "# Convert the dataframe to an XlsxWriter Excel object.\n",
    "df.to_excel(writer, sheet_name='Sheet1')\n",
    "\n",
    "# Close the Pandas Excel writer and output the Excel file.\n",
    "writer.save()"
   ]
  },
  {
   "cell_type": "code",
   "execution_count": 45,
   "metadata": {},
   "outputs": [],
   "source": [
    "\n",
    "# A simple example of merging cells with the XlsxWriter Python module.\n",
    "#\n",
    "# SPDX-License-Identifier: BSD-2-Clause\n",
    "# Copyright 2013-2022, John McNamara, jmcnamara@cpan.org\n",
    "#\n",
    "import xlsxwriter\n",
    "\n",
    "\n",
    "# Create an new Excel file and add a worksheet.\n",
    "workbook = xlsxwriter.Workbook('merge1.xlsx')\n",
    "worksheet = workbook.add_worksheet()\n",
    "\n",
    "# Increase the cell size of the merged cells to highlight the formatting.\n",
    "#worksheet.set_column('B:D', 12)\n",
    "worksheet.set_row(3, 30)\n",
    "worksheet.set_row(6, 30)\n",
    "worksheet.set_row(7, 30)\n",
    "\n",
    "\n",
    "# Create a format to use in the merged range.\n",
    "merge_format = workbook.add_format({\n",
    "    'bold': 1,\n",
    "    'border': 1,\n",
    "    'align': 'center',\n",
    "    'valign': 'vcenter',\n",
    "    #'fg_color': 'yellow',\n",
    "    'font_color': 'red',\n",
    "    'font_size':14})\n",
    "\n",
    "\n",
    "# Merge 3 cells.\n",
    "worksheet.merge_range('G2:N2', 'TYRSA CONSORCIO S.A. DE C.V. ', merge_format)\n",
    "\n",
    "# Merge 3 cells over two rows.\n",
    "#worksheet.merge_range('B7:D8', 'Merged Range', merge_format)\n",
    "thisPays.to_excel(writer, sheet_name='Sheet1',startrow=10, startcol=1,)\n",
    "#writer.save()\n",
    "\n",
    "workbook.close()"
   ]
  },
  {
   "cell_type": "code",
   "execution_count": 107,
   "metadata": {},
   "outputs": [],
   "source": [
    "writer = pd.ExcelWriter('pandas_table.xlsx', engine='xlsxwriter')\n",
    "thisPays.to_excel(writer, sheet_name='Sheet1', startrow=6, header=False, index=False)\n",
    "workbook = writer.book\n",
    "worksheet = writer.sheets['Sheet1']\n",
    "rojo_g = workbook.add_format({\n",
    "    'bold': 0,\n",
    "    'border': 0,\n",
    "    'align': 'center',\n",
    "    'valign': 'vcenter',\n",
    "    #'fg_color': 'yellow',\n",
    "    'font_color': 'red',\n",
    "    'font_size':16})\n",
    "negro_s = workbook.add_format({\n",
    "    'bold': 0,\n",
    "    'border': 0,\n",
    "    'align': 'center',\n",
    "    'valign': 'vcenter',\n",
    "    'font_color': 'black',\n",
    "    'font_size':13})\n",
    "negro_b = workbook.add_format({\n",
    "    'bold': 2,\n",
    "    'border': 0,\n",
    "    'align': 'center',\n",
    "    'valign': 'vcenter',\n",
    "    'font_color': 'black',\n",
    "    'font_size':13}) \n",
    "rojo_b = workbook.add_format({\n",
    "    'bold': 2,\n",
    "    'border': 0,\n",
    "    'align': 'center',\n",
    "    'valign': 'vcenter',\n",
    "    'font_color': 'red',\n",
    "    'font_size':13})       \n",
    "\n",
    "header_format = workbook.add_format({\n",
    "    'bold': True,\n",
    "    'text_wrap': True,\n",
    "    'valign': 'top',\n",
    "    'fg_color': 'yellow',\n",
    "    'border': 1})\n",
    "\n",
    "# Write the column headers with the defined format.\n",
    "for col_num, value in enumerate(thisPays.columns.values):\n",
    "    worksheet.write(5, col_num + 1, value, header_format)\n",
    "\n",
    "# Merge 3 cells.\n",
    "worksheet.merge_range('G2:N2', 'TYRSA CONSORCIO S.A. DE C.V. ', rojo_g)\n",
    "worksheet.merge_range('G3:N3', 'Soluciones en logistica interior', negro_s)\n",
    "worksheet.merge_range('G4:N4', 'Contraportada Pedido interno No.' + str(orden[\"invoice\"].values[0]), negro_b)\n",
    "worksheet.merge_range('G5:N5', 'Control de Cobros por P.I.', rojo_b)\n",
    "\n",
    "\n",
    "workbook.close()"
   ]
  },
  {
   "cell_type": "code",
   "execution_count": 79,
   "metadata": {},
   "outputs": [
    {
     "name": "stderr",
     "output_type": "stream",
     "text": [
      "C:\\Users\\hp\\AppData\\Local\\Temp\\ipykernel_15772\\406418389.py:1: UserWarning: pandas only supports SQLAlchemy connectable (engine/connection) or database string URI or sqlite3 DBAPI2 connection. Other DBAPI2 objects are not tested. Please consider using SQLAlchemy.\n",
      "  orden = pd.read_sql(\"select * from internal_orders where id=\"+str(order_id),cnx)\n",
      "C:\\Users\\hp\\AppData\\Local\\Temp\\ipykernel_15772\\406418389.py:2: UserWarning: pandas only supports SQLAlchemy connectable (engine/connection) or database string URI or sqlite3 DBAPI2 connection. Other DBAPI2 objects are not tested. Please consider using SQLAlchemy.\n",
      "  cliente = pd.read_sql(\"select * from customers where id = \"+str(orden[\"customer_id\"].values[0]),cnx)\n",
      "C:\\Users\\hp\\AppData\\Local\\Temp\\ipykernel_15772\\406418389.py:3: UserWarning: pandas only supports SQLAlchemy connectable (engine/connection) or database string URI or sqlite3 DBAPI2 connection. Other DBAPI2 objects are not tested. Please consider using SQLAlchemy.\n",
      "  moneda = pd.read_sql(\"select * from coins where id=\"+str(orden[\"coin_id\"].values[0]),cnx)\n"
     ]
    }
   ],
   "source": [
    "orden = pd.read_sql(\"select * from internal_orders where id=\"+str(order_id),cnx)\n",
    "cliente = pd.read_sql(\"select * from customers where id = \"+str(orden[\"customer_id\"].values[0]),cnx)\n",
    "moneda = pd.read_sql(\"select * from coins where id=\"+str(orden[\"coin_id\"].values[0]),cnx)\n"
   ]
  },
  {
   "cell_type": "code",
   "execution_count": 83,
   "metadata": {},
   "outputs": [
    {
     "name": "stdout",
     "output_type": "stream",
     "text": [
      "46\n"
     ]
    },
    {
     "name": "stderr",
     "output_type": "stream",
     "text": [
      "C:\\Users\\hp\\AppData\\Local\\Temp\\ipykernel_15772\\591823726.py:2: UserWarning: pandas only supports SQLAlchemy connectable (engine/connection) or database string URI or sqlite3 DBAPI2 connection. Other DBAPI2 objects are not tested. Please consider using SQLAlchemy.\n",
      "  pagos=pd.read_sql(query,cnx)\n"
     ]
    }
   ],
   "source": [
    "query = ('SELECT * from payments')\n",
    "pagos=pd.read_sql(query,cnx)\n",
    "order_id=pagos.loc[(pagos[\"id\"]==id,\"order_id\") ].values[0]\n",
    "thisPays=pagos.loc[(pagos[\"order_id\"]==order_id)&(pagos[\"status\"]==\"pagado\") ]\n",
    "print(order_id)"
   ]
  },
  {
   "cell_type": "code",
   "execution_count": 119,
   "metadata": {},
   "outputs": [
    {
     "data": {
      "text/html": [
       "<div>\n",
       "<style scoped>\n",
       "    .dataframe tbody tr th:only-of-type {\n",
       "        vertical-align: middle;\n",
       "    }\n",
       "\n",
       "    .dataframe tbody tr th {\n",
       "        vertical-align: top;\n",
       "    }\n",
       "\n",
       "    .dataframe thead th {\n",
       "        text-align: right;\n",
       "    }\n",
       "</style>\n",
       "<table border=\"1\" class=\"dataframe\">\n",
       "  <thead>\n",
       "    <tr style=\"text-align: right;\">\n",
       "      <th></th>\n",
       "      <th>nfactura</th>\n",
       "      <th>ncomp</th>\n",
       "      <th>moneda</th>\n",
       "      <th>fecha_factura</th>\n",
       "      <th>amount</th>\n",
       "      <th>percentage</th>\n",
       "      <th>tipo_cambio</th>\n",
       "      <th>importe_acumulado</th>\n",
       "      <th>porcentaje_acumulado</th>\n",
       "    </tr>\n",
       "  </thead>\n",
       "  <tbody>\n",
       "    <tr>\n",
       "      <th>0</th>\n",
       "      <td>NaN</td>\n",
       "      <td>NaN</td>\n",
       "      <td>PESO MEXICANO</td>\n",
       "      <td>PESO MEXICANO</td>\n",
       "      <td>87000.0</td>\n",
       "      <td>25.0</td>\n",
       "      <td>NaN</td>\n",
       "      <td>87000.0</td>\n",
       "      <td>25.0</td>\n",
       "    </tr>\n",
       "    <tr>\n",
       "      <th>1</th>\n",
       "      <td>210.0</td>\n",
       "      <td>210.0</td>\n",
       "      <td>PESO MEXICANO</td>\n",
       "      <td>PESO MEXICANO</td>\n",
       "      <td>87000.0</td>\n",
       "      <td>25.0</td>\n",
       "      <td>10.0</td>\n",
       "      <td>174000.0</td>\n",
       "      <td>50.0</td>\n",
       "    </tr>\n",
       "    <tr>\n",
       "      <th>2</th>\n",
       "      <td>34.0</td>\n",
       "      <td>3.0</td>\n",
       "      <td>PESO MEXICANO</td>\n",
       "      <td>PESO MEXICANO</td>\n",
       "      <td>174000.0</td>\n",
       "      <td>50.0</td>\n",
       "      <td>10.0</td>\n",
       "      <td>348000.0</td>\n",
       "      <td>100.0</td>\n",
       "    </tr>\n",
       "  </tbody>\n",
       "</table>\n",
       "</div>"
      ],
      "text/plain": [
       "   nfactura  ncomp         moneda  fecha_factura    amount  percentage  \\\n",
       "0       NaN    NaN  PESO MEXICANO  PESO MEXICANO   87000.0        25.0   \n",
       "1     210.0  210.0  PESO MEXICANO  PESO MEXICANO   87000.0        25.0   \n",
       "2      34.0    3.0  PESO MEXICANO  PESO MEXICANO  174000.0        50.0   \n",
       "\n",
       "   tipo_cambio  importe_acumulado  porcentaje_acumulado  \n",
       "0          NaN            87000.0                  25.0  \n",
       "1         10.0           174000.0                  50.0  \n",
       "2         10.0           348000.0                 100.0  "
      ]
     },
     "execution_count": 119,
     "metadata": {},
     "output_type": "execute_result"
    }
   ],
   "source": [
    "df=thisPays[[\"nfactura\",\"ncomp\",\"moneda\",\"fecha_factura\",\"amount\",\"percentage\",\"tipo_cambio\",\"importe_acumulado\",\"porcentaje_acumulado\"]]\n",
    "df"
   ]
  },
  {
   "cell_type": "code",
   "execution_count": 83,
   "metadata": {},
   "outputs": [
    {
     "name": "stdout",
     "output_type": "stream",
     "text": [
      "46\n",
      "87000.0\n",
      "0\n",
      "174000.0\n",
      "1\n",
      "348000.0\n",
      "2\n"
     ]
    },
    {
     "name": "stderr",
     "output_type": "stream",
     "text": [
      "C:\\Users\\hp\\AppData\\Local\\Temp\\ipykernel_640\\1315352817.py:8: UserWarning: pandas only supports SQLAlchemy connectable (engine/connection) or database string URI or sqlite3 DBAPI2 connection. Other DBAPI2 objects are not tested. Please consider using SQLAlchemy.\n",
      "  pagos=pd.read_sql(query,cnx)\n",
      "C:\\Users\\hp\\AppData\\Local\\Temp\\ipykernel_640\\1315352817.py:13: UserWarning: pandas only supports SQLAlchemy connectable (engine/connection) or database string URI or sqlite3 DBAPI2 connection. Other DBAPI2 objects are not tested. Please consider using SQLAlchemy.\n",
      "  orden = pd.read_sql(\"select * from internal_orders where id=\"+str(order_id),cnx)\n",
      "C:\\Users\\hp\\AppData\\Local\\Temp\\ipykernel_640\\1315352817.py:14: UserWarning: pandas only supports SQLAlchemy connectable (engine/connection) or database string URI or sqlite3 DBAPI2 connection. Other DBAPI2 objects are not tested. Please consider using SQLAlchemy.\n",
      "  cliente = pd.read_sql(\"select * from customers where id = \"+str(orden[\"customer_id\"].values[0]),cnx)\n",
      "C:\\Users\\hp\\AppData\\Local\\Temp\\ipykernel_640\\1315352817.py:15: UserWarning: pandas only supports SQLAlchemy connectable (engine/connection) or database string URI or sqlite3 DBAPI2 connection. Other DBAPI2 objects are not tested. Please consider using SQLAlchemy.\n",
      "  moneda = pd.read_sql(\"select * from coins where id=\"+str(orden[\"coin_id\"].values[0]),cnx)\n"
     ]
    }
   ],
   "source": [
    "cnx = mysql.connector.connect(user='tyrsa',\n",
    "                              password='1234',\n",
    "                              host='localhost',\n",
    "                              port='8111',\n",
    "                              database='u458219132_tyrsawesadmin',\n",
    "                              use_pure=False)\n",
    "query = ('SELECT * from payments')\n",
    "pagos=pd.read_sql(query,cnx)\n",
    "order_id=pagos.loc[(pagos[\"id\"]==id,\"order_id\") ].values[0]\n",
    "thisPays=pagos.loc[(pagos[\"order_id\"]==order_id)&(pagos[\"status\"]==\"pagado\") ]\n",
    "thisAllPays=pagos.loc[(pagos[\"order_id\"]==order_id) ]\n",
    "print(order_id)\n",
    "orden = pd.read_sql(\"select * from internal_orders where id=\"+str(order_id),cnx)\n",
    "cliente = pd.read_sql(\"select * from customers where id = \"+str(orden[\"customer_id\"].values[0]),cnx)\n",
    "moneda = pd.read_sql(\"select * from coins where id=\"+str(orden[\"coin_id\"].values[0]),cnx)\n",
    "\n",
    "pac=0#porcentaje acumulado\n",
    "mac=0#monto acumulado\n",
    "thisPays=thisPays.reset_index(drop=True)\n",
    "for i in thisPays.itertuples():\n",
    "    pac=pac+i[6]\n",
    "    thisPays.iloc[i[0],18]=pac\n",
    "    mac=mac+i[7]\n",
    "    thisPays.iloc[i[0],17]=mac\n",
    "    thisPays.iloc[i[0],12]=str(moneda[\"coin\"].values[0])\n",
    "    print(mac)\n",
    "    print(i[0])\n",
    "df=thisPays[[\"nfactura\",\"ncomp\",\"moneda\",\"fecha_factura\",\"amount\",\"percentage\",\"tipo_cambio\",\"importe_acumulado\",\"porcentaje_acumulado\"]]\n"
   ]
  },
  {
   "cell_type": "code",
   "execution_count": 89,
   "metadata": {},
   "outputs": [],
   "source": [
    "writer = pd.ExcelWriter('Rtest-'+str(order_id)+'.xlsx', engine='xlsxwriter')\n",
    "df.to_excel(writer, sheet_name='Sheet1', startrow=9,startcol=6, header=False, index=False)\n",
    "prog=thisAllPays[[\"moneda\",\"fecha_factura\",\"amount\",\"percentage\"]]\n",
    "prog.to_excel(writer, sheet_name='Sheet1', startrow=9,startcol=2, header=False, index=False)\n",
    "\n",
    "workbook = writer.book\n",
    "worksheet = writer.sheets['Sheet1']\n",
    "rojo_g = workbook.add_format({\n",
    "    'bold': 0,\n",
    "    'border': 0,\n",
    "    'align': 'center',\n",
    "    'valign': 'vcenter',\n",
    "    #'fg_color': 'yellow',\n",
    "    'font_color': 'red',\n",
    "    'font_size':16})\n",
    "negro_s = workbook.add_format({\n",
    "    'bold': 0,\n",
    "    'border': 0,\n",
    "    'align': 'center',\n",
    "    'valign': 'vcenter',\n",
    "    'font_color': 'black',\n",
    "    'font_size':12})\n",
    "negro_b = workbook.add_format({\n",
    "    'bold': 2,\n",
    "    'border': 0,\n",
    "    'align': 'center',\n",
    "    'valign': 'vcenter',\n",
    "    'font_color': 'black',\n",
    "    'font_size':13}) \n",
    "rojo_b = workbook.add_format({\n",
    "    'bold': 2,\n",
    "    'border': 0,\n",
    "    'align': 'center',\n",
    "    'valign': 'vcenter',\n",
    "    'font_color': 'red',\n",
    "    'font_size':13})       \n",
    "\n",
    "header_format = workbook.add_format({\n",
    "    'bold': True,\n",
    "    'text_wrap': True,\n",
    "    'valign': 'center',\n",
    "    'fg_color': 'yellow',\n",
    "    'border': 1})\n",
    "\n",
    "blue_header_format = workbook.add_format({\n",
    "    'bold': True,\n",
    "    'text_wrap': True,\n",
    "    'valign': 'top',\n",
    "    'border_color':'blue',\n",
    "    'border': 1})\n",
    "\n",
    "blue_hf = workbook.add_format({\n",
    "    'bold': True,\n",
    "    'text_wrap': True,\n",
    "    'valign': 'top',\n",
    "    'border_color':'blue',\n",
    "    'font_color': 'blue',\n",
    "    'border': 1})\n",
    "\n",
    "observaciones_format = workbook.add_format({\n",
    "    'bold': True,\n",
    "    'text_wrap': True,\n",
    "    'valign': 'top',\n",
    "    'fg_color':'#BDD7EE',\n",
    "    'border': 1})\n",
    "\n",
    "total_cereza_format = workbook.add_format({\n",
    "    'bold': True,\n",
    "    'text_wrap': True,\n",
    "    'valign': 'top',\n",
    "    'fg_color':'#F4B084',\n",
    "    'border': 1})\n",
    "worksheet.set_column(2,19,15)\n",
    "# Write the column headers with the defined format.\n",
    "worksheet.merge_range(7,6,8,6, \"FACTURA NUMERO\",header_format)\n",
    "worksheet.merge_range(7,7,8,7, \"COMPROBANTE DE INGRESOS NUMERO\",header_format)\n",
    "\n",
    "worksheet.merge_range('I8:L8', 'REAL', header_format)\n",
    "worksheet.write(8, 8, \"MONEDA\", header_format)\n",
    "worksheet.write(8, 9, \"FECHA DD-MM-AA\", header_format)\n",
    "worksheet.write(8, 10, \"IMPORTE $ IVA INCLUIDO\", header_format)\n",
    "worksheet.write(8, 11, \"% DEL PAGO PARCIAL\", header_format)\n",
    "\n",
    "worksheet.merge_range(7,12,8,12, \"TIPO DE CAMBIO\",header_format)\n",
    "\n",
    "worksheet.merge_range(7,13,7,14, \"EQUIVALENTE EN M.N.\",header_format)\n",
    "worksheet.write(8,13 ,\"IMPORTE ACUMULADO\",header_format)\n",
    "worksheet.write(8,14 ,\"PORCENTAJE DEL PAGO ACUMULADO\",header_format)\n",
    "\n",
    "\n",
    "for j in range(1,len(df)+1):\n",
    "    worksheet.write(8+j, 1, 'Pago'+str(j), negro_b)\n",
    "\n",
    "worksheet.merge_range(7,15,7,17, \"VERIFICACION DEL COBRO\",header_format)\n",
    "worksheet.write(8, 15, 'captura', header_format)\n",
    "worksheet.write(8, 16, 'GA', header_format)\n",
    "worksheet.write(8, 17, 'DA', header_format)\n",
    "\n",
    "#cabeceras\n",
    "worksheet.merge_range('B8:B9', 'PAGO  (COBRO)', blue_header_format)\n",
    "worksheet.merge_range('C8:F8', 'Progrmado', blue_hf)\n",
    "worksheet.write(8, 2, 'Moneda', blue_hf)\n",
    "worksheet.write(8, 3, 'Fecha', blue_hf)\n",
    "worksheet.write(8, 4, 'Importe', blue_hf)\n",
    "worksheet.write(8, 5, \"% de pago\", blue_hf)\n",
    "\n",
    "worksheet.write(3, 19, orden[\"invoice\"].values[0], rojo_g)\n",
    "worksheet.write(5, 18,'$'+ str(orden[\"total\"].values[0]), negro_b)\n",
    "worksheet.write(6, 18, moneda[\"code\"].values[0], negro_b)\n",
    "worksheet.merge_range('N6:Q6', 'IMPORTE TOTAL DEL PEDIDO IVA INCLUIDO', negro_s)\n",
    "worksheet.merge_range('N7:Q7', 'TIPO DE MONEDA', negro_s)\n",
    "# Encabezado.\n",
    "worksheet.merge_range('G2:N2', 'TYRSA CONSORCIO S.A. DE C.V. ', rojo_g)\n",
    "worksheet.merge_range('G3:N3', 'Soluciones en logistica interior', negro_s)\n",
    "worksheet.merge_range('G4:N4', 'Contraportada Pedido interno No.' + str(orden[\"invoice\"].values[0]), negro_b)\n",
    "worksheet.merge_range('G5:N5', 'Control de Cobros por P.I.', rojo_b)\n",
    "\n",
    "###--------------barras inferiores de totales y sumas\n",
    "trow=len(prog)+11\n",
    "\n",
    "worksheet.write(trow+1,2,\"Totales  \", negro_b)\n",
    "worksheet.write(trow+2,2,\"Validacion \", negro_b)\n",
    "worksheet.write(trow+3,2,\"(Debe ser 0)\", negro_b)\n",
    "\n",
    "worksheet.write(trow+1,4,\"$\"+str(prog[\"amount\"].sum()), total_cereza_format)\n",
    "worksheet.write(trow+2,4,\"$\"+str(orden[\"total\"].values[0]-prog[\"amount\"].sum()),  total_cereza_format)\n",
    "worksheet.write(trow+3,4,\"okay\",  total_cereza_format)\n",
    "\n",
    "\n",
    "worksheet.write(trow+1,5,str(prog[\"percentage\"].sum())+'%', total_cereza_format)\n",
    "worksheet.write(trow+2,5,str(100-prog[\"percentage\"].sum())+'%',  total_cereza_format)\n",
    "worksheet.write(trow+3,5,\"okay\",  total_cereza_format)\n",
    "\n",
    "\n",
    "worksheet.write(trow+1,9,\"Totales  \", negro_b)\n",
    "worksheet.write(trow+2,9,\"Validacion \", negro_b)\n",
    "worksheet.write(trow+3,9,\"(Debe ser 0)\", negro_b)\n",
    "\n",
    "worksheet.write(trow+1,10,\"$\"+str(df[\"amount\"].sum()), total_cereza_format)\n",
    "worksheet.write(trow+2,10,\"$\"+str(orden[\"total\"].values[0]-df[\"amount\"].sum()),  total_cereza_format)\n",
    "worksheet.write(trow+3,10,\"okay\",  total_cereza_format)\n",
    "\n",
    "\n",
    "worksheet.write(trow+1,11,str(df[\"percentage\"].sum())+'%', total_cereza_format)\n",
    "worksheet.write(trow+2,11,str(100-df[\"percentage\"].sum())+'%',  total_cereza_format)\n",
    "worksheet.write(trow+3,11,\"okay\",  total_cereza_format)\n",
    "\n",
    "worksheet.merge_range(trow+1,12,trow+1,17, 'Equivalente en moneda nacional incluye IVA', header_format)\n",
    "worksheet.merge_range(trow+2,12,trow+2,13, 'DA',header_format)\n",
    "worksheet.merge_range(trow+2,14,trow+2,15, 'COBRADO',header_format)\n",
    "worksheet.merge_range(trow+2,16,trow+2,17, 'POR COBRAR',header_format)\n",
    "worksheet.merge_range(trow+3,12,trow+3,13,\"$\"+str(orden[\"total\"].values[0]) ,total_cereza_format)\n",
    "worksheet.merge_range(trow+3,14,trow+3,15, \"$\"+str(df[\"amount\"].sum()),total_cereza_format)\n",
    "worksheet.merge_range(trow+3,16,trow+3,17, '$'+str(orden[\"total\"].values[0]-df[\"amount\"].sum()),total_cereza_format)\n",
    "\n",
    "worksheet.write(trow+4, 5, 'OBSERVACIONES',negro_b)\n",
    "worksheet.merge_range(trow+5,2,trow+8,10, str(orden[\"observations\"].values[0]), observaciones_format)\n",
    "\n",
    "workbook.close()"
   ]
  },
  {
   "cell_type": "markdown",
   "metadata": {},
   "source": []
  },
  {
   "cell_type": "code",
   "execution_count": 71,
   "metadata": {},
   "outputs": [
    {
     "data": {
      "text/html": [
       "<div>\n",
       "<style scoped>\n",
       "    .dataframe tbody tr th:only-of-type {\n",
       "        vertical-align: middle;\n",
       "    }\n",
       "\n",
       "    .dataframe tbody tr th {\n",
       "        vertical-align: top;\n",
       "    }\n",
       "\n",
       "    .dataframe thead th {\n",
       "        text-align: right;\n",
       "    }\n",
       "</style>\n",
       "<table border=\"1\" class=\"dataframe\">\n",
       "  <thead>\n",
       "    <tr style=\"text-align: right;\">\n",
       "      <th></th>\n",
       "      <th>id</th>\n",
       "      <th>invoice</th>\n",
       "      <th>date</th>\n",
       "      <th>customer_id</th>\n",
       "      <th>seller_id</th>\n",
       "      <th>date_delivery</th>\n",
       "      <th>instalation_date</th>\n",
       "      <th>shipment</th>\n",
       "      <th>customer_shipping_address_id</th>\n",
       "      <th>coin_id</th>\n",
       "      <th>...</th>\n",
       "      <th>iva</th>\n",
       "      <th>total</th>\n",
       "      <th>payment_conditions</th>\n",
       "      <th>observations</th>\n",
       "      <th>status</th>\n",
       "      <th>authorization_id</th>\n",
       "      <th>created_at</th>\n",
       "      <th>updated_at</th>\n",
       "      <th>comision</th>\n",
       "      <th>reg_date</th>\n",
       "    </tr>\n",
       "  </thead>\n",
       "  <tbody>\n",
       "    <tr>\n",
       "      <th>0</th>\n",
       "      <td>46</td>\n",
       "      <td>144</td>\n",
       "      <td>2022-12-03</td>\n",
       "      <td>5</td>\n",
       "      <td>2</td>\n",
       "      <td>2022-12-02</td>\n",
       "      <td>2022-12-15</td>\n",
       "      <td>Sí</td>\n",
       "      <td>5</td>\n",
       "      <td>1</td>\n",
       "      <td>...</td>\n",
       "      <td>48000.0</td>\n",
       "      <td>348000.0</td>\n",
       "      <td>3</td>\n",
       "      <td>None</td>\n",
       "      <td>autorizado</td>\n",
       "      <td>1</td>\n",
       "      <td>2022-12-03 16:48:35</td>\n",
       "      <td>2022-12-03 17:07:20</td>\n",
       "      <td>1.0</td>\n",
       "      <td>2022-12-03</td>\n",
       "    </tr>\n",
       "  </tbody>\n",
       "</table>\n",
       "<p>1 rows × 21 columns</p>\n",
       "</div>"
      ],
      "text/plain": [
       "   id invoice        date  customer_id  seller_id date_delivery  \\\n",
       "0  46     144  2022-12-03            5          2    2022-12-02   \n",
       "\n",
       "  instalation_date shipment  customer_shipping_address_id  coin_id  ...  \\\n",
       "0       2022-12-15       Sí                             5        1  ...   \n",
       "\n",
       "       iva     total  payment_conditions observations      status  \\\n",
       "0  48000.0  348000.0                   3         None  autorizado   \n",
       "\n",
       "  authorization_id          created_at          updated_at comision  \\\n",
       "0                1 2022-12-03 16:48:35 2022-12-03 17:07:20      1.0   \n",
       "\n",
       "     reg_date  \n",
       "0  2022-12-03  \n",
       "\n",
       "[1 rows x 21 columns]"
      ]
     },
     "execution_count": 71,
     "metadata": {},
     "output_type": "execute_result"
    }
   ],
   "source": [
    "orden"
   ]
  },
  {
   "cell_type": "code",
   "execution_count": 109,
   "metadata": {},
   "outputs": [
    {
     "data": {
      "text/plain": [
       "'PESO MEXICANO'"
      ]
     },
     "execution_count": 109,
     "metadata": {},
     "output_type": "execute_result"
    }
   ],
   "source": [
    "moneda[\"coin\"].values[0]"
   ]
  },
  {
   "cell_type": "code",
   "execution_count": 112,
   "metadata": {},
   "outputs": [
    {
     "data": {
      "text/html": [
       "<div>\n",
       "<style scoped>\n",
       "    .dataframe tbody tr th:only-of-type {\n",
       "        vertical-align: middle;\n",
       "    }\n",
       "\n",
       "    .dataframe tbody tr th {\n",
       "        vertical-align: top;\n",
       "    }\n",
       "\n",
       "    .dataframe thead th {\n",
       "        text-align: right;\n",
       "    }\n",
       "</style>\n",
       "<table border=\"1\" class=\"dataframe\">\n",
       "  <thead>\n",
       "    <tr style=\"text-align: right;\">\n",
       "      <th></th>\n",
       "      <th>id</th>\n",
       "      <th>invoice</th>\n",
       "      <th>date</th>\n",
       "      <th>customer_id</th>\n",
       "      <th>seller_id</th>\n",
       "      <th>date_delivery</th>\n",
       "      <th>instalation_date</th>\n",
       "      <th>shipment</th>\n",
       "      <th>customer_shipping_address_id</th>\n",
       "      <th>coin_id</th>\n",
       "      <th>...</th>\n",
       "      <th>iva</th>\n",
       "      <th>total</th>\n",
       "      <th>payment_conditions</th>\n",
       "      <th>observations</th>\n",
       "      <th>status</th>\n",
       "      <th>authorization_id</th>\n",
       "      <th>created_at</th>\n",
       "      <th>updated_at</th>\n",
       "      <th>comision</th>\n",
       "      <th>reg_date</th>\n",
       "    </tr>\n",
       "  </thead>\n",
       "  <tbody>\n",
       "    <tr>\n",
       "      <th>0</th>\n",
       "      <td>46</td>\n",
       "      <td>144</td>\n",
       "      <td>2022-12-03</td>\n",
       "      <td>5</td>\n",
       "      <td>2</td>\n",
       "      <td>2022-12-02</td>\n",
       "      <td>2022-12-15</td>\n",
       "      <td>Sí</td>\n",
       "      <td>5</td>\n",
       "      <td>1</td>\n",
       "      <td>...</td>\n",
       "      <td>48000.0</td>\n",
       "      <td>348000.0</td>\n",
       "      <td>3</td>\n",
       "      <td>None</td>\n",
       "      <td>autorizado</td>\n",
       "      <td>1</td>\n",
       "      <td>2022-12-03 16:48:35</td>\n",
       "      <td>2022-12-03 17:07:20</td>\n",
       "      <td>1.0</td>\n",
       "      <td>2022-12-03</td>\n",
       "    </tr>\n",
       "  </tbody>\n",
       "</table>\n",
       "<p>1 rows × 21 columns</p>\n",
       "</div>"
      ],
      "text/plain": [
       "   id invoice        date  customer_id  seller_id date_delivery  \\\n",
       "0  46     144  2022-12-03            5          2    2022-12-02   \n",
       "\n",
       "  instalation_date shipment  customer_shipping_address_id  coin_id  ...  \\\n",
       "0       2022-12-15       Sí                             5        1  ...   \n",
       "\n",
       "       iva     total  payment_conditions observations      status  \\\n",
       "0  48000.0  348000.0                   3         None  autorizado   \n",
       "\n",
       "  authorization_id          created_at          updated_at comision  \\\n",
       "0                1 2022-12-03 16:48:35 2022-12-03 17:07:20      1.0   \n",
       "\n",
       "     reg_date  \n",
       "0  2022-12-03  \n",
       "\n",
       "[1 rows x 21 columns]"
      ]
     },
     "execution_count": 112,
     "metadata": {},
     "output_type": "execute_result"
    }
   ],
   "source": [
    "orden"
   ]
  },
  {
   "cell_type": "code",
   "execution_count": 7,
   "metadata": {},
   "outputs": [
    {
     "ename": "com_error",
     "evalue": "(-2147352567, 'Ocurrió una excepción.', (0, 'Microsoft Excel', 'Error en el método Open de la clase Workbooks.', 'xlmain11.chm', 0, -2146827284), None)",
     "output_type": "error",
     "traceback": [
      "\u001b[1;31m---------------------------------------------------------------------------\u001b[0m",
      "\u001b[1;31mcom_error\u001b[0m                                 Traceback (most recent call last)",
      "\u001b[1;32mc:\\xampp\\htdocs\\admintyrsa2\\tyrsaAdmin\\test.ipynb Celda 23\u001b[0m in \u001b[0;36m<cell line: 6>\u001b[1;34m()\u001b[0m\n\u001b[0;32m      <a href='vscode-notebook-cell:/c%3A/xampp/htdocs/admintyrsa2/tyrsaAdmin/test.ipynb#X31sZmlsZQ%3D%3D?line=3'>4</a>\u001b[0m excel \u001b[39m=\u001b[39m client\u001b[39m.\u001b[39mDispatch(\u001b[39m\"\u001b[39m\u001b[39mExcel.Application\u001b[39m\u001b[39m\"\u001b[39m)\n\u001b[0;32m      <a href='vscode-notebook-cell:/c%3A/xampp/htdocs/admintyrsa2/tyrsaAdmin/test.ipynb#X31sZmlsZQ%3D%3D?line=4'>5</a>\u001b[0m \u001b[39m# Read Excel File\u001b[39;00m\n\u001b[1;32m----> <a href='vscode-notebook-cell:/c%3A/xampp/htdocs/admintyrsa2/tyrsaAdmin/test.ipynb#X31sZmlsZQ%3D%3D?line=5'>6</a>\u001b[0m sheets \u001b[39m=\u001b[39m excel\u001b[39m.\u001b[39;49mWorkbooks\u001b[39m.\u001b[39;49mOpen(\u001b[39mr\u001b[39;49m\u001b[39m'\u001b[39;49m\u001b[39mC:\u001b[39;49m\u001b[39m\\\u001b[39;49m\u001b[39mxampp\u001b[39;49m\u001b[39m\\\u001b[39;49m\u001b[39mhtdocs\u001b[39;49m\u001b[39m\\\u001b[39;49m\u001b[39madmintyrsa2\u001b[39;49m\u001b[39m\\\u001b[39;49m\u001b[39mtyrsaAdminmerge1.xlsx\u001b[39;49m\u001b[39m'\u001b[39;49m)\n\u001b[0;32m      <a href='vscode-notebook-cell:/c%3A/xampp/htdocs/admintyrsa2/tyrsaAdmin/test.ipynb#X31sZmlsZQ%3D%3D?line=6'>7</a>\u001b[0m work_sheets \u001b[39m=\u001b[39m sheets\u001b[39m.\u001b[39mWorksheets[\u001b[39m0\u001b[39m]\n\u001b[0;32m      <a href='vscode-notebook-cell:/c%3A/xampp/htdocs/admintyrsa2/tyrsaAdmin/test.ipynb#X31sZmlsZQ%3D%3D?line=7'>8</a>\u001b[0m \u001b[39m# Converting into PDF File\u001b[39;00m\n",
      "File \u001b[1;32m<COMObject <unknown>>:5\u001b[0m, in \u001b[0;36mOpen\u001b[1;34m(self, Filename, UpdateLinks, ReadOnly, Format, Password, WriteResPassword, IgnoreReadOnlyRecommended, Origin, Delimiter, Editable, Notify, Converter, AddToMru, Local, CorruptLoad)\u001b[0m\n",
      "\u001b[1;31mcom_error\u001b[0m: (-2147352567, 'Ocurrió una excepción.', (0, 'Microsoft Excel', 'Error en el método Open de la clase Workbooks.', 'xlmain11.chm', 0, -2146827284), None)"
     ]
    }
   ],
   "source": [
    "# Import Library\n",
    "from win32com import client\n",
    "# Opening Microsoft Excel\n",
    "excel = client.Dispatch(\"Excel.Application\")\n",
    "# Read Excel File\n",
    "sheets = excel.Workbooks.Open(r'C:\\xampp\\htdocs\\admintyrsa2\\tyrsaAdminmerge1.xlsx')\n",
    "work_sheets = sheets.Worksheets[0]\n",
    "# Converting into PDF File\n",
    "work_sheets.ExportAsFixedFormat(0, 'testreport1.pdf')"
   ]
  },
  {
   "cell_type": "code",
   "execution_count": null,
   "metadata": {},
   "outputs": [],
   "source": []
  }
 ],
 "metadata": {
  "kernelspec": {
   "display_name": "Python 3.10.0 64-bit",
   "language": "python",
   "name": "python3"
  },
  "language_info": {
   "codemirror_mode": {
    "name": "ipython",
    "version": 3
   },
   "file_extension": ".py",
   "mimetype": "text/x-python",
   "name": "python",
   "nbconvert_exporter": "python",
   "pygments_lexer": "ipython3",
   "version": "3.10.0"
  },
  "orig_nbformat": 4,
  "vscode": {
   "interpreter": {
    "hash": "369f2c481f4da34e4445cda3fffd2e751bd1c4d706f27375911949ba6bb62e1c"
   }
  }
 },
 "nbformat": 4,
 "nbformat_minor": 2
}
