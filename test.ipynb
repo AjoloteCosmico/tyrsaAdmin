{
 "cells": [
  {
   "cell_type": "code",
   "execution_count": 4,
   "metadata": {},
   "outputs": [
    {
     "name": "stderr",
     "output_type": "stream",
     "text": [
      "C:\\Users\\fgonzalez\\AppData\\Local\\Temp\\ipykernel_17952\\3859268149.py:4: FutureWarning: The frame.append method is deprecated and will be removed from pandas in a future version. Use pandas.concat instead.\n",
      "  report=report.append({\"nfactura\": 23,\"moneda\": \"peso mexicano\"},ignore_index=True)\n"
     ]
    }
   ],
   "source": [
    "import pandas as pd\n",
    "import pandas as pd\n",
    "report=pd.DataFrame()\n",
    "report=report.append({\"nfactura\": 23,\"moneda\": \"peso mexicano\"},ignore_index=True)\n",
    "report.to_excel(\"public/storage/report/reporte-test2.xlsx\")"
   ]
  },
  {
   "cell_type": "code",
   "execution_count": 11,
   "metadata": {},
   "outputs": [],
   "source": [
    "import pandas as pd\n",
    "import sys\n",
    "import mysql.connector\n",
    "id=91"
   ]
  },
  {
   "cell_type": "code",
   "execution_count": 3,
   "metadata": {},
   "outputs": [],
   "source": [
    "cnx = mysql.connector.connect(user='tyrsa', password='1234',\n",
    "                              host='localhost',\n",
    "                              database='u458219132_tyrsawesadmin',\n",
    "                              use_pure=False)\n",
    "                              \n",
    "cursor=cnx.cursor(buffered=True)"
   ]
  },
  {
   "cell_type": "code",
   "execution_count": 15,
   "metadata": {},
   "outputs": [
    {
     "name": "stdout",
     "output_type": "stream",
     "text": [
      "17\n"
     ]
    },
    {
     "name": "stderr",
     "output_type": "stream",
     "text": [
      "c:\\Users\\fgonzalez\\AppData\\Local\\Programs\\Python\\Python310\\lib\\site-packages\\pandas\\io\\sql.py:762: UserWarning: pandas only support SQLAlchemy connectable(engine/connection) ordatabase string URI or sqlite3 DBAPI2 connectionother DBAPI2 objects are not tested, please consider using SQLAlchemy\n",
      "  warnings.warn(\n"
     ]
    },
    {
     "data": {
      "text/plain": [
       "Index(['id', 'created_at', 'updated_at', 'order_id', 'concept', 'percentage',\n",
       "       'amount', 'date', 'nota', 'status', 'comprobante', 'nfactura', 'ncomp',\n",
       "       'tipo_cambio', 'porcentaje_parcial', 'moneda', 'fecha_factura',\n",
       "       'porcentaje_acumulado', 'importe_total', 'importe_acumulado'],\n",
       "      dtype='object')"
      ]
     },
     "execution_count": 15,
     "metadata": {},
     "output_type": "execute_result"
    }
   ],
   "source": [
    "query = ('SELECT * from payments')\n",
    "pagos=pd.read_sql(query,cnx)\n",
    "order_id=pagos.loc[pagos[\"id\"]==id,\"order_id\"].values[0]\n",
    "thisPays=pagos.loc[pagos[\"order_id\"]==order_id]\n",
    "print(order_id)\n",
    "pagos.columns\n"
   ]
  },
  {
   "cell_type": "code",
   "execution_count": 16,
   "metadata": {},
   "outputs": [
    {
     "data": {
      "text/html": [
       "<div>\n",
       "<style scoped>\n",
       "    .dataframe tbody tr th:only-of-type {\n",
       "        vertical-align: middle;\n",
       "    }\n",
       "\n",
       "    .dataframe tbody tr th {\n",
       "        vertical-align: top;\n",
       "    }\n",
       "\n",
       "    .dataframe thead th {\n",
       "        text-align: right;\n",
       "    }\n",
       "</style>\n",
       "<table border=\"1\" class=\"dataframe\">\n",
       "  <thead>\n",
       "    <tr style=\"text-align: right;\">\n",
       "      <th></th>\n",
       "      <th>id</th>\n",
       "      <th>order_id</th>\n",
       "      <th>concept</th>\n",
       "      <th>amount</th>\n",
       "      <th>date</th>\n",
       "      <th>tipo_cambio</th>\n",
       "      <th>porcentaje_parcial</th>\n",
       "    </tr>\n",
       "  </thead>\n",
       "  <tbody>\n",
       "    <tr>\n",
       "      <th>10</th>\n",
       "      <td>90</td>\n",
       "      <td>17</td>\n",
       "      <td>compras de materiales</td>\n",
       "      <td>118308.0</td>\n",
       "      <td>2022-11-11</td>\n",
       "      <td>10.0</td>\n",
       "      <td>60.0</td>\n",
       "    </tr>\n",
       "    <tr>\n",
       "      <th>11</th>\n",
       "      <td>91</td>\n",
       "      <td>17</td>\n",
       "      <td>planos</td>\n",
       "      <td>144599.0</td>\n",
       "      <td>2022-12-10</td>\n",
       "      <td>10.0</td>\n",
       "      <td>5.0</td>\n",
       "    </tr>\n",
       "  </tbody>\n",
       "</table>\n",
       "</div>"
      ],
      "text/plain": [
       "    id  order_id                concept    amount        date  tipo_cambio  \\\n",
       "10  90        17  compras de materiales  118308.0  2022-11-11         10.0   \n",
       "11  91        17                 planos  144599.0  2022-12-10         10.0   \n",
       "\n",
       "    porcentaje_parcial  \n",
       "10                60.0  \n",
       "11                 5.0  "
      ]
     },
     "execution_count": 16,
     "metadata": {},
     "output_type": "execute_result"
    }
   ],
   "source": [
    "thisPays[[\"id\",\"order_id\",\"concept\",\"amount\",\"date\",\"tipo_cambio\",\"porcentaje_parcial\"]]"
   ]
  },
  {
   "cell_type": "code",
   "execution_count": 13,
   "metadata": {},
   "outputs": [
    {
     "data": {
      "text/html": [
       "<div>\n",
       "<style scoped>\n",
       "    .dataframe tbody tr th:only-of-type {\n",
       "        vertical-align: middle;\n",
       "    }\n",
       "\n",
       "    .dataframe tbody tr th {\n",
       "        vertical-align: top;\n",
       "    }\n",
       "\n",
       "    .dataframe thead th {\n",
       "        text-align: right;\n",
       "    }\n",
       "</style>\n",
       "<table border=\"1\" class=\"dataframe\">\n",
       "  <thead>\n",
       "    <tr style=\"text-align: right;\">\n",
       "      <th></th>\n",
       "      <th>id</th>\n",
       "      <th>created_at</th>\n",
       "      <th>updated_at</th>\n",
       "      <th>order_id</th>\n",
       "      <th>concept</th>\n",
       "      <th>percentage</th>\n",
       "      <th>amount</th>\n",
       "      <th>date</th>\n",
       "      <th>nota</th>\n",
       "      <th>status</th>\n",
       "      <th>comprobante</th>\n",
       "      <th>nfactura</th>\n",
       "      <th>ncomp</th>\n",
       "      <th>tipo_cambio</th>\n",
       "      <th>porcentaje_parcial</th>\n",
       "      <th>moneda</th>\n",
       "      <th>fecha_factura</th>\n",
       "      <th>porcentaje_acumulado</th>\n",
       "      <th>importe_total</th>\n",
       "      <th>importe_acumulado</th>\n",
       "    </tr>\n",
       "  </thead>\n",
       "  <tbody>\n",
       "    <tr>\n",
       "      <th>11</th>\n",
       "      <td>91</td>\n",
       "      <td>2022-11-28 12:37:26</td>\n",
       "      <td>2022-12-08 11:01:45</td>\n",
       "      <td>17</td>\n",
       "      <td>planos</td>\n",
       "      <td>55.0</td>\n",
       "      <td>144599.0</td>\n",
       "      <td>2022-12-10</td>\n",
       "      <td>None</td>\n",
       "      <td>pagado</td>\n",
       "      <td>None</td>\n",
       "      <td>137.0</td>\n",
       "      <td>137.0</td>\n",
       "      <td>10.0</td>\n",
       "      <td>5.0</td>\n",
       "      <td>DOLAR</td>\n",
       "      <td>2023-01-06</td>\n",
       "      <td>7.0</td>\n",
       "      <td>87000.0</td>\n",
       "      <td>3000.0</td>\n",
       "    </tr>\n",
       "  </tbody>\n",
       "</table>\n",
       "</div>"
      ],
      "text/plain": [
       "    id          created_at          updated_at  order_id concept  percentage  \\\n",
       "11  91 2022-11-28 12:37:26 2022-12-08 11:01:45        17  planos        55.0   \n",
       "\n",
       "      amount        date  nota  status comprobante  nfactura  ncomp  \\\n",
       "11  144599.0  2022-12-10  None  pagado        None     137.0  137.0   \n",
       "\n",
       "    tipo_cambio  porcentaje_parcial moneda fecha_factura  \\\n",
       "11         10.0                 5.0  DOLAR    2023-01-06   \n",
       "\n",
       "    porcentaje_acumulado  importe_total  importe_acumulado  \n",
       "11                   7.0        87000.0             3000.0  "
      ]
     },
     "execution_count": 13,
     "metadata": {},
     "output_type": "execute_result"
    }
   ],
   "source": [
    "thisPays"
   ]
  },
  {
   "cell_type": "code",
   "execution_count": null,
   "metadata": {},
   "outputs": [],
   "source": []
  }
 ],
 "metadata": {
  "kernelspec": {
   "display_name": "Python 3.10.7 64-bit",
   "language": "python",
   "name": "python3"
  },
  "language_info": {
   "codemirror_mode": {
    "name": "ipython",
    "version": 3
   },
   "file_extension": ".py",
   "mimetype": "text/x-python",
   "name": "python",
   "nbconvert_exporter": "python",
   "pygments_lexer": "ipython3",
   "version": "3.10.7"
  },
  "orig_nbformat": 4,
  "vscode": {
   "interpreter": {
    "hash": "691c30968716edfc9a50ab67417207932f1639e5a02ab9a46676693cc08be54b"
   }
  }
 },
 "nbformat": 4,
 "nbformat_minor": 2
}
